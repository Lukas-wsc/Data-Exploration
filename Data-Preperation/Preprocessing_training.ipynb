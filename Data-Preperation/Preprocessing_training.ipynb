{
 "cells": [
  {
   "cell_type": "markdown",
   "metadata": {},
   "source": [
    "## Dell Datensatz von ML gelabelled"
   ]
  },
  {
   "cell_type": "code",
   "execution_count": 66,
   "metadata": {},
   "outputs": [],
   "source": [
    "import pandas as pd # for data processing\n",
    "import string # collection of alphabets, words or other characters\n",
    "import re # regular expression support\n",
    "import nltk\n",
    "from nltk.corpus import stopwords\n",
    "from string import punctuation \n",
    "from sklearn.model_selection import train_test_split"
   ]
  },
  {
   "cell_type": "code",
   "execution_count": 67,
   "metadata": {},
   "outputs": [],
   "source": [
    "pd.set_option('display.max_colwidth', None)"
   ]
  },
  {
   "cell_type": "code",
   "execution_count": 68,
   "metadata": {},
   "outputs": [],
   "source": [
    "df = pd.read_csv('training.1600000.processed.noemoticon.csv', header=None)"
   ]
  },
  {
   "cell_type": "code",
   "execution_count": 69,
   "metadata": {},
   "outputs": [
    {
     "data": {
      "text/html": [
       "<div>\n",
       "<style scoped>\n",
       "    .dataframe tbody tr th:only-of-type {\n",
       "        vertical-align: middle;\n",
       "    }\n",
       "\n",
       "    .dataframe tbody tr th {\n",
       "        vertical-align: top;\n",
       "    }\n",
       "\n",
       "    .dataframe thead th {\n",
       "        text-align: right;\n",
       "    }\n",
       "</style>\n",
       "<table border=\"1\" class=\"dataframe\">\n",
       "  <thead>\n",
       "    <tr style=\"text-align: right;\">\n",
       "      <th></th>\n",
       "      <th>0</th>\n",
       "      <th>1</th>\n",
       "      <th>2</th>\n",
       "      <th>3</th>\n",
       "      <th>4</th>\n",
       "      <th>5</th>\n",
       "    </tr>\n",
       "  </thead>\n",
       "  <tbody>\n",
       "    <tr>\n",
       "      <th>0</th>\n",
       "      <td>0</td>\n",
       "      <td>1467810369</td>\n",
       "      <td>Mon Apr 06 22:19:45 PDT 2009</td>\n",
       "      <td>NO_QUERY</td>\n",
       "      <td>_TheSpecialOne_</td>\n",
       "      <td>@switchfoot http://twitpic.com/2y1zl - Awww, that's a bummer.  You shoulda got David Carr of Third Day to do it. ;D</td>\n",
       "    </tr>\n",
       "    <tr>\n",
       "      <th>1</th>\n",
       "      <td>0</td>\n",
       "      <td>1467810672</td>\n",
       "      <td>Mon Apr 06 22:19:49 PDT 2009</td>\n",
       "      <td>NO_QUERY</td>\n",
       "      <td>scotthamilton</td>\n",
       "      <td>is upset that he can't update his Facebook by texting it... and might cry as a result  School today also. Blah!</td>\n",
       "    </tr>\n",
       "    <tr>\n",
       "      <th>2</th>\n",
       "      <td>0</td>\n",
       "      <td>1467810917</td>\n",
       "      <td>Mon Apr 06 22:19:53 PDT 2009</td>\n",
       "      <td>NO_QUERY</td>\n",
       "      <td>mattycus</td>\n",
       "      <td>@Kenichan I dived many times for the ball. Managed to save 50%  The rest go out of bounds</td>\n",
       "    </tr>\n",
       "    <tr>\n",
       "      <th>3</th>\n",
       "      <td>0</td>\n",
       "      <td>1467811184</td>\n",
       "      <td>Mon Apr 06 22:19:57 PDT 2009</td>\n",
       "      <td>NO_QUERY</td>\n",
       "      <td>ElleCTF</td>\n",
       "      <td>my whole body feels itchy and like its on fire</td>\n",
       "    </tr>\n",
       "    <tr>\n",
       "      <th>4</th>\n",
       "      <td>0</td>\n",
       "      <td>1467811193</td>\n",
       "      <td>Mon Apr 06 22:19:57 PDT 2009</td>\n",
       "      <td>NO_QUERY</td>\n",
       "      <td>Karoli</td>\n",
       "      <td>@nationwideclass no, it's not behaving at all. i'm mad. why am i here? because I can't see you all over there.</td>\n",
       "    </tr>\n",
       "    <tr>\n",
       "      <th>...</th>\n",
       "      <td>...</td>\n",
       "      <td>...</td>\n",
       "      <td>...</td>\n",
       "      <td>...</td>\n",
       "      <td>...</td>\n",
       "      <td>...</td>\n",
       "    </tr>\n",
       "    <tr>\n",
       "      <th>1599995</th>\n",
       "      <td>4</td>\n",
       "      <td>2193601966</td>\n",
       "      <td>Tue Jun 16 08:40:49 PDT 2009</td>\n",
       "      <td>NO_QUERY</td>\n",
       "      <td>AmandaMarie1028</td>\n",
       "      <td>Just woke up. Having no school is the best feeling ever</td>\n",
       "    </tr>\n",
       "    <tr>\n",
       "      <th>1599996</th>\n",
       "      <td>4</td>\n",
       "      <td>2193601969</td>\n",
       "      <td>Tue Jun 16 08:40:49 PDT 2009</td>\n",
       "      <td>NO_QUERY</td>\n",
       "      <td>TheWDBoards</td>\n",
       "      <td>TheWDB.com - Very cool to hear old Walt interviews!  ♫ http://blip.fm/~8bmta</td>\n",
       "    </tr>\n",
       "    <tr>\n",
       "      <th>1599997</th>\n",
       "      <td>4</td>\n",
       "      <td>2193601991</td>\n",
       "      <td>Tue Jun 16 08:40:49 PDT 2009</td>\n",
       "      <td>NO_QUERY</td>\n",
       "      <td>bpbabe</td>\n",
       "      <td>Are you ready for your MoJo Makeover? Ask me for details</td>\n",
       "    </tr>\n",
       "    <tr>\n",
       "      <th>1599998</th>\n",
       "      <td>4</td>\n",
       "      <td>2193602064</td>\n",
       "      <td>Tue Jun 16 08:40:49 PDT 2009</td>\n",
       "      <td>NO_QUERY</td>\n",
       "      <td>tinydiamondz</td>\n",
       "      <td>Happy 38th Birthday to my boo of alll time!!! Tupac Amaru Shakur</td>\n",
       "    </tr>\n",
       "    <tr>\n",
       "      <th>1599999</th>\n",
       "      <td>4</td>\n",
       "      <td>2193602129</td>\n",
       "      <td>Tue Jun 16 08:40:50 PDT 2009</td>\n",
       "      <td>NO_QUERY</td>\n",
       "      <td>RyanTrevMorris</td>\n",
       "      <td>happy #charitytuesday @theNSPCC @SparksCharity @SpeakingUpH4H</td>\n",
       "    </tr>\n",
       "  </tbody>\n",
       "</table>\n",
       "<p>1600000 rows × 6 columns</p>\n",
       "</div>"
      ],
      "text/plain": [
       "         0           1                             2         3  \\\n",
       "0        0  1467810369  Mon Apr 06 22:19:45 PDT 2009  NO_QUERY   \n",
       "1        0  1467810672  Mon Apr 06 22:19:49 PDT 2009  NO_QUERY   \n",
       "2        0  1467810917  Mon Apr 06 22:19:53 PDT 2009  NO_QUERY   \n",
       "3        0  1467811184  Mon Apr 06 22:19:57 PDT 2009  NO_QUERY   \n",
       "4        0  1467811193  Mon Apr 06 22:19:57 PDT 2009  NO_QUERY   \n",
       "...     ..         ...                           ...       ...   \n",
       "1599995  4  2193601966  Tue Jun 16 08:40:49 PDT 2009  NO_QUERY   \n",
       "1599996  4  2193601969  Tue Jun 16 08:40:49 PDT 2009  NO_QUERY   \n",
       "1599997  4  2193601991  Tue Jun 16 08:40:49 PDT 2009  NO_QUERY   \n",
       "1599998  4  2193602064  Tue Jun 16 08:40:49 PDT 2009  NO_QUERY   \n",
       "1599999  4  2193602129  Tue Jun 16 08:40:50 PDT 2009  NO_QUERY   \n",
       "\n",
       "                       4  \\\n",
       "0        _TheSpecialOne_   \n",
       "1          scotthamilton   \n",
       "2               mattycus   \n",
       "3                ElleCTF   \n",
       "4                 Karoli   \n",
       "...                  ...   \n",
       "1599995  AmandaMarie1028   \n",
       "1599996      TheWDBoards   \n",
       "1599997           bpbabe   \n",
       "1599998     tinydiamondz   \n",
       "1599999   RyanTrevMorris   \n",
       "\n",
       "                                                                                                                           5  \n",
       "0        @switchfoot http://twitpic.com/2y1zl - Awww, that's a bummer.  You shoulda got David Carr of Third Day to do it. ;D  \n",
       "1            is upset that he can't update his Facebook by texting it... and might cry as a result  School today also. Blah!  \n",
       "2                                  @Kenichan I dived many times for the ball. Managed to save 50%  The rest go out of bounds  \n",
       "3                                                                            my whole body feels itchy and like its on fire   \n",
       "4            @nationwideclass no, it's not behaving at all. i'm mad. why am i here? because I can't see you all over there.   \n",
       "...                                                                                                                      ...  \n",
       "1599995                                                             Just woke up. Having no school is the best feeling ever   \n",
       "1599996                                         TheWDB.com - Very cool to hear old Walt interviews!  ♫ http://blip.fm/~8bmta  \n",
       "1599997                                                            Are you ready for your MoJo Makeover? Ask me for details   \n",
       "1599998                                                    Happy 38th Birthday to my boo of alll time!!! Tupac Amaru Shakur   \n",
       "1599999                                                       happy #charitytuesday @theNSPCC @SparksCharity @SpeakingUpH4H   \n",
       "\n",
       "[1600000 rows x 6 columns]"
      ]
     },
     "execution_count": 69,
     "metadata": {},
     "output_type": "execute_result"
    }
   ],
   "source": [
    "df"
   ]
  },
  {
   "cell_type": "code",
   "execution_count": 70,
   "metadata": {},
   "outputs": [],
   "source": [
    "df = df.drop([1, 2,3, 4], axis =1)"
   ]
  },
  {
   "cell_type": "code",
   "execution_count": 71,
   "metadata": {},
   "outputs": [],
   "source": [
    "new_header = ['target', 'Text']\n",
    "df.columns = new_header"
   ]
  },
  {
   "cell_type": "code",
   "execution_count": 72,
   "metadata": {},
   "outputs": [
    {
     "data": {
      "text/html": [
       "<div>\n",
       "<style scoped>\n",
       "    .dataframe tbody tr th:only-of-type {\n",
       "        vertical-align: middle;\n",
       "    }\n",
       "\n",
       "    .dataframe tbody tr th {\n",
       "        vertical-align: top;\n",
       "    }\n",
       "\n",
       "    .dataframe thead th {\n",
       "        text-align: right;\n",
       "    }\n",
       "</style>\n",
       "<table border=\"1\" class=\"dataframe\">\n",
       "  <thead>\n",
       "    <tr style=\"text-align: right;\">\n",
       "      <th></th>\n",
       "      <th>target</th>\n",
       "      <th>Text</th>\n",
       "    </tr>\n",
       "  </thead>\n",
       "  <tbody>\n",
       "    <tr>\n",
       "      <th>0</th>\n",
       "      <td>0</td>\n",
       "      <td>@switchfoot http://twitpic.com/2y1zl - Awww, that's a bummer.  You shoulda got David Carr of Third Day to do it. ;D</td>\n",
       "    </tr>\n",
       "    <tr>\n",
       "      <th>1</th>\n",
       "      <td>0</td>\n",
       "      <td>is upset that he can't update his Facebook by texting it... and might cry as a result  School today also. Blah!</td>\n",
       "    </tr>\n",
       "    <tr>\n",
       "      <th>2</th>\n",
       "      <td>0</td>\n",
       "      <td>@Kenichan I dived many times for the ball. Managed to save 50%  The rest go out of bounds</td>\n",
       "    </tr>\n",
       "    <tr>\n",
       "      <th>3</th>\n",
       "      <td>0</td>\n",
       "      <td>my whole body feels itchy and like its on fire</td>\n",
       "    </tr>\n",
       "    <tr>\n",
       "      <th>4</th>\n",
       "      <td>0</td>\n",
       "      <td>@nationwideclass no, it's not behaving at all. i'm mad. why am i here? because I can't see you all over there.</td>\n",
       "    </tr>\n",
       "  </tbody>\n",
       "</table>\n",
       "</div>"
      ],
      "text/plain": [
       "   target  \\\n",
       "0       0   \n",
       "1       0   \n",
       "2       0   \n",
       "3       0   \n",
       "4       0   \n",
       "\n",
       "                                                                                                                  Text  \n",
       "0  @switchfoot http://twitpic.com/2y1zl - Awww, that's a bummer.  You shoulda got David Carr of Third Day to do it. ;D  \n",
       "1      is upset that he can't update his Facebook by texting it... and might cry as a result  School today also. Blah!  \n",
       "2                            @Kenichan I dived many times for the ball. Managed to save 50%  The rest go out of bounds  \n",
       "3                                                                      my whole body feels itchy and like its on fire   \n",
       "4      @nationwideclass no, it's not behaving at all. i'm mad. why am i here? because I can't see you all over there.   "
      ]
     },
     "execution_count": 72,
     "metadata": {},
     "output_type": "execute_result"
    }
   ],
   "source": [
    "df.head()"
   ]
  },
  {
   "cell_type": "code",
   "execution_count": 73,
   "metadata": {},
   "outputs": [
    {
     "data": {
      "text/plain": [
       "0          @switchfoot http://twitpic.com/2y1zl - Awww, that's a bummer.  You shoulda got David Carr of Third Day to do it. ;D\n",
       "1              is upset that he can't update his Facebook by texting it... and might cry as a result  School today also. Blah!\n",
       "2                                    @Kenichan I dived many times for the ball. Managed to save 50%  The rest go out of bounds\n",
       "3                                                                              my whole body feels itchy and like its on fire \n",
       "4              @nationwideclass no, it's not behaving at all. i'm mad. why am i here? because I can't see you all over there. \n",
       "                                                                  ...                                                         \n",
       "1599995                                                               Just woke up. Having no school is the best feeling ever \n",
       "1599996                                           TheWDB.com - Very cool to hear old Walt interviews!  ♫ http://blip.fm/~8bmta\n",
       "1599997                                                              Are you ready for your MoJo Makeover? Ask me for details \n",
       "1599998                                                      Happy 38th Birthday to my boo of alll time!!! Tupac Amaru Shakur \n",
       "1599999                                                         happy #charitytuesday @theNSPCC @SparksCharity @SpeakingUpH4H \n",
       "Name: Text, Length: 1600000, dtype: object"
      ]
     },
     "execution_count": 73,
     "metadata": {},
     "output_type": "execute_result"
    }
   ],
   "source": [
    "df['Text']"
   ]
  },
  {
   "cell_type": "markdown",
   "metadata": {},
   "source": [
    "## Anzahl der Labels anzeigen 0 - negative, 4 - positive "
   ]
  },
  {
   "cell_type": "code",
   "execution_count": 74,
   "metadata": {},
   "outputs": [
    {
     "data": {
      "text/plain": [
       "target\n",
       "0    800000\n",
       "4    800000\n",
       "Name: count, dtype: int64"
      ]
     },
     "execution_count": 74,
     "metadata": {},
     "output_type": "execute_result"
    }
   ],
   "source": [
    "df['target'].value_counts()"
   ]
  },
  {
   "cell_type": "markdown",
   "metadata": {},
   "source": [
    "## In Test- und Trainingsdatensatz splitten"
   ]
  },
  {
   "cell_type": "code",
   "execution_count": 75,
   "metadata": {},
   "outputs": [],
   "source": [
    "X = df['Text']\n",
    "y = df['target']"
   ]
  },
  {
   "cell_type": "code",
   "execution_count": 76,
   "metadata": {},
   "outputs": [],
   "source": [
    "feature_train, feature_test, label_train, label_test = train_test_split(X, y, test_size=0.2, random_state=1, stratify=y)"
   ]
  },
  {
   "cell_type": "code",
   "execution_count": 77,
   "metadata": {},
   "outputs": [],
   "source": [
    "train_data = pd.concat([feature_train, label_train], axis=1)"
   ]
  },
  {
   "cell_type": "code",
   "execution_count": 78,
   "metadata": {},
   "outputs": [
    {
     "data": {
      "text/html": [
       "<div>\n",
       "<style scoped>\n",
       "    .dataframe tbody tr th:only-of-type {\n",
       "        vertical-align: middle;\n",
       "    }\n",
       "\n",
       "    .dataframe tbody tr th {\n",
       "        vertical-align: top;\n",
       "    }\n",
       "\n",
       "    .dataframe thead th {\n",
       "        text-align: right;\n",
       "    }\n",
       "</style>\n",
       "<table border=\"1\" class=\"dataframe\">\n",
       "  <thead>\n",
       "    <tr style=\"text-align: right;\">\n",
       "      <th></th>\n",
       "      <th>Text</th>\n",
       "      <th>target</th>\n",
       "    </tr>\n",
       "  </thead>\n",
       "  <tbody>\n",
       "    <tr>\n",
       "      <th>999032</th>\n",
       "      <td>Rise and shining lol. I'm up a few mins later then planned but no rush i'll be out the door in time</td>\n",
       "      <td>4</td>\n",
       "    </tr>\n",
       "    <tr>\n",
       "      <th>1045663</th>\n",
       "      <td>Had a 2nd interview today. It's looking promising.</td>\n",
       "      <td>4</td>\n",
       "    </tr>\n",
       "    <tr>\n",
       "      <th>302336</th>\n",
       "      <td>@EmilyAlbracht I feel your pain!</td>\n",
       "      <td>0</td>\n",
       "    </tr>\n",
       "    <tr>\n",
       "      <th>1427382</th>\n",
       "      <td>http://twitpic.com/6sdbj - 4yr old son and I went exploring &amp;amp; hiking today and this is what we found  Luv amphibians!</td>\n",
       "      <td>4</td>\n",
       "    </tr>\n",
       "    <tr>\n",
       "      <th>64747</th>\n",
       "      <td>is lonely because all my housemates have gone to the pub</td>\n",
       "      <td>0</td>\n",
       "    </tr>\n",
       "    <tr>\n",
       "      <th>...</th>\n",
       "      <td>...</td>\n",
       "      <td>...</td>\n",
       "    </tr>\n",
       "    <tr>\n",
       "      <th>1127399</th>\n",
       "      <td>Being held together by bubblegum &amp;amp; blessings</td>\n",
       "      <td>4</td>\n",
       "    </tr>\n",
       "    <tr>\n",
       "      <th>884337</th>\n",
       "      <td>Heehee! I was one of them</td>\n",
       "      <td>4</td>\n",
       "    </tr>\n",
       "    <tr>\n",
       "      <th>989044</th>\n",
       "      <td>@bookwitter your welcome if you change your mind though let me know</td>\n",
       "      <td>4</td>\n",
       "    </tr>\n",
       "    <tr>\n",
       "      <th>1581849</th>\n",
       "      <td>@howcoza YOU BET I WILL  Bring Backup!</td>\n",
       "      <td>4</td>\n",
       "    </tr>\n",
       "    <tr>\n",
       "      <th>1308216</th>\n",
       "      <td>In Windows on a Linux box, Installing BSD to a Apple iPod. Yeah.</td>\n",
       "      <td>4</td>\n",
       "    </tr>\n",
       "  </tbody>\n",
       "</table>\n",
       "<p>1280000 rows × 2 columns</p>\n",
       "</div>"
      ],
      "text/plain": [
       "                                                                                                                              Text  \\\n",
       "999032                        Rise and shining lol. I'm up a few mins later then planned but no rush i'll be out the door in time    \n",
       "1045663                                                                        Had a 2nd interview today. It's looking promising.    \n",
       "302336                                                                                           @EmilyAlbracht I feel your pain!    \n",
       "1427382  http://twitpic.com/6sdbj - 4yr old son and I went exploring &amp; hiking today and this is what we found  Luv amphibians!   \n",
       "64747                                                                    is lonely because all my housemates have gone to the pub    \n",
       "...                                                                                                                            ...   \n",
       "1127399                                                                          Being held together by bubblegum &amp; blessings    \n",
       "884337                                                                                                  Heehee! I was one of them    \n",
       "989044                                                        @bookwitter your welcome if you change your mind though let me know    \n",
       "1581849                                                                                     @howcoza YOU BET I WILL  Bring Backup!   \n",
       "1308216                                                          In Windows on a Linux box, Installing BSD to a Apple iPod. Yeah.    \n",
       "\n",
       "         target  \n",
       "999032        4  \n",
       "1045663       4  \n",
       "302336        0  \n",
       "1427382       4  \n",
       "64747         0  \n",
       "...         ...  \n",
       "1127399       4  \n",
       "884337        4  \n",
       "989044        4  \n",
       "1581849       4  \n",
       "1308216       4  \n",
       "\n",
       "[1280000 rows x 2 columns]"
      ]
     },
     "execution_count": 78,
     "metadata": {},
     "output_type": "execute_result"
    }
   ],
   "source": [
    "train_data"
   ]
  },
  {
   "cell_type": "code",
   "execution_count": 79,
   "metadata": {},
   "outputs": [
    {
     "data": {
      "text/plain": [
       "target\n",
       "4    640000\n",
       "0    640000\n",
       "Name: count, dtype: int64"
      ]
     },
     "execution_count": 79,
     "metadata": {},
     "output_type": "execute_result"
    }
   ],
   "source": [
    "train_data['target'].value_counts()"
   ]
  },
  {
   "cell_type": "code",
   "execution_count": 80,
   "metadata": {},
   "outputs": [],
   "source": [
    "test_data = pd.concat([feature_test, label_test], axis=1)"
   ]
  },
  {
   "cell_type": "code",
   "execution_count": 81,
   "metadata": {},
   "outputs": [
    {
     "data": {
      "text/html": [
       "<div>\n",
       "<style scoped>\n",
       "    .dataframe tbody tr th:only-of-type {\n",
       "        vertical-align: middle;\n",
       "    }\n",
       "\n",
       "    .dataframe tbody tr th {\n",
       "        vertical-align: top;\n",
       "    }\n",
       "\n",
       "    .dataframe thead th {\n",
       "        text-align: right;\n",
       "    }\n",
       "</style>\n",
       "<table border=\"1\" class=\"dataframe\">\n",
       "  <thead>\n",
       "    <tr style=\"text-align: right;\">\n",
       "      <th></th>\n",
       "      <th>Text</th>\n",
       "      <th>target</th>\n",
       "    </tr>\n",
       "  </thead>\n",
       "  <tbody>\n",
       "    <tr>\n",
       "      <th>200373</th>\n",
       "      <td>would like to have even a little bit of time off work. Laying out until 11:30 then work 12:30-8:30.</td>\n",
       "      <td>0</td>\n",
       "    </tr>\n",
       "    <tr>\n",
       "      <th>1279087</th>\n",
       "      <td>Looking forward to keeping in touch with Naomi.. It has been a long time since we chatted!</td>\n",
       "      <td>4</td>\n",
       "    </tr>\n",
       "    <tr>\n",
       "      <th>44625</th>\n",
       "      <td>@NBATVAndre No, in Germany the NBA has no airtime  . But I got the International LP so I will watch the game for sure.</td>\n",
       "      <td>0</td>\n",
       "    </tr>\n",
       "    <tr>\n",
       "      <th>1353688</th>\n",
       "      <td>@AliChemist Your future self's in trouble, then!  My favourite Bagley is probably Running Blind, in Iceland. Terrific.</td>\n",
       "      <td>4</td>\n",
       "    </tr>\n",
       "    <tr>\n",
       "      <th>1335350</th>\n",
       "      <td>@remco_dekker did you know there is a reason why Opera is only popular the mobile platform..? It's because Firefox rocks its ass!</td>\n",
       "      <td>4</td>\n",
       "    </tr>\n",
       "    <tr>\n",
       "      <th>...</th>\n",
       "      <td>...</td>\n",
       "      <td>...</td>\n",
       "    </tr>\n",
       "    <tr>\n",
       "      <th>1144572</th>\n",
       "      <td>@ttmhand ???????</td>\n",
       "      <td>4</td>\n",
       "    </tr>\n",
       "    <tr>\n",
       "      <th>796530</th>\n",
       "      <td>had no idea on what to wear tomorrow !</td>\n",
       "      <td>0</td>\n",
       "    </tr>\n",
       "    <tr>\n",
       "      <th>171197</th>\n",
       "      <td>@sweet_pea00 darn  i will think of you on our journey so it's like you are really there</td>\n",
       "      <td>0</td>\n",
       "    </tr>\n",
       "    <tr>\n",
       "      <th>1322000</th>\n",
       "      <td>oh my, Calvin Harris called me a DAFT BASTARD. I feel so cool, this is my new claim to fame.</td>\n",
       "      <td>4</td>\n",
       "    </tr>\n",
       "    <tr>\n",
       "      <th>878892</th>\n",
       "      <td>Go to a family meal in 1 hour. I'll cheer up my grandpa</td>\n",
       "      <td>4</td>\n",
       "    </tr>\n",
       "  </tbody>\n",
       "</table>\n",
       "<p>320000 rows × 2 columns</p>\n",
       "</div>"
      ],
      "text/plain": [
       "                                                                                                                                       Text  \\\n",
       "200373                                 would like to have even a little bit of time off work. Laying out until 11:30 then work 12:30-8:30.    \n",
       "1279087                                         Looking forward to keeping in touch with Naomi.. It has been a long time since we chatted!    \n",
       "44625                @NBATVAndre No, in Germany the NBA has no airtime  . But I got the International LP so I will watch the game for sure.   \n",
       "1353688              @AliChemist Your future self's in trouble, then!  My favourite Bagley is probably Running Blind, in Iceland. Terrific.   \n",
       "1335350  @remco_dekker did you know there is a reason why Opera is only popular the mobile platform..? It's because Firefox rocks its ass!    \n",
       "...                                                                                                                                     ...   \n",
       "1144572                                                                                                                   @ttmhand ???????    \n",
       "796530                                                                                              had no idea on what to wear tomorrow !    \n",
       "171197                                              @sweet_pea00 darn  i will think of you on our journey so it's like you are really there   \n",
       "1322000                                     oh my, Calvin Harris called me a DAFT BASTARD. I feel so cool, this is my new claim to fame.      \n",
       "878892                                                                             Go to a family meal in 1 hour. I'll cheer up my grandpa    \n",
       "\n",
       "         target  \n",
       "200373        0  \n",
       "1279087       4  \n",
       "44625         0  \n",
       "1353688       4  \n",
       "1335350       4  \n",
       "...         ...  \n",
       "1144572       4  \n",
       "796530        0  \n",
       "171197        0  \n",
       "1322000       4  \n",
       "878892        4  \n",
       "\n",
       "[320000 rows x 2 columns]"
      ]
     },
     "execution_count": 81,
     "metadata": {},
     "output_type": "execute_result"
    }
   ],
   "source": [
    "test_data"
   ]
  },
  {
   "cell_type": "code",
   "execution_count": 82,
   "metadata": {},
   "outputs": [
    {
     "data": {
      "text/plain": [
       "target\n",
       "0    160000\n",
       "4    160000\n",
       "Name: count, dtype: int64"
      ]
     },
     "execution_count": 82,
     "metadata": {},
     "output_type": "execute_result"
    }
   ],
   "source": [
    "test_data[\"target\"].value_counts()"
   ]
  },
  {
   "cell_type": "markdown",
   "metadata": {},
   "source": [
    "### Export Preprocessed Data without stopword-cleaning"
   ]
  },
  {
   "cell_type": "code",
   "execution_count": 83,
   "metadata": {},
   "outputs": [],
   "source": [
    "test_data.to_csv('testdata_with_stopwords_preprocessed.csv', index=False)"
   ]
  },
  {
   "cell_type": "code",
   "execution_count": 84,
   "metadata": {},
   "outputs": [],
   "source": [
    "train_data.to_csv('traindata_with_stopwords_preprocessed.csv', index=False)"
   ]
  },
  {
   "cell_type": "markdown",
   "metadata": {},
   "source": [
    "## Stopword-cleaning"
   ]
  },
  {
   "cell_type": "code",
   "execution_count": 86,
   "metadata": {},
   "outputs": [],
   "source": [
    "def clean_text(text):\n",
    "    stop_words = stopwords.words('english')\n",
    "    text = re.sub(r'[@#]\\w+', ' ', text)  # Entfernen von Hashtags und Verlinkungen \n",
    "    text = re.sub(r'https?://\\S+', ' ', text)  # Entfernen von Links\n",
    "    text = re.sub(r\"\\b\\w+['’]\\w+\\b\", ' ', text)  # Entfernen von Kontraktionen wie 's, 'm etc. \n",
    "    text = re.sub(rf\"[{punctuation}]\", ' ', text)  # Entfernen von Satzzeichen\n",
    "    words = text.split()  \n",
    "    words = [word for word in words if word.lower() not in stop_words]  \n",
    "    return ' '.join(words)"
   ]
  },
  {
   "cell_type": "code",
   "execution_count": 87,
   "metadata": {},
   "outputs": [],
   "source": [
    "test_data_without_stopwords = test_data\n",
    "train_data_without_stopwords = train_data "
   ]
  },
  {
   "cell_type": "code",
   "execution_count": 88,
   "metadata": {},
   "outputs": [],
   "source": [
    "test_data_without_stopwords['Text'] = test_data_without_stopwords['Text'].apply(clean_text)"
   ]
  },
  {
   "cell_type": "code",
   "execution_count": 89,
   "metadata": {},
   "outputs": [
    {
     "data": {
      "text/html": [
       "<div>\n",
       "<style scoped>\n",
       "    .dataframe tbody tr th:only-of-type {\n",
       "        vertical-align: middle;\n",
       "    }\n",
       "\n",
       "    .dataframe tbody tr th {\n",
       "        vertical-align: top;\n",
       "    }\n",
       "\n",
       "    .dataframe thead th {\n",
       "        text-align: right;\n",
       "    }\n",
       "</style>\n",
       "<table border=\"1\" class=\"dataframe\">\n",
       "  <thead>\n",
       "    <tr style=\"text-align: right;\">\n",
       "      <th></th>\n",
       "      <th>Text</th>\n",
       "      <th>target</th>\n",
       "    </tr>\n",
       "  </thead>\n",
       "  <tbody>\n",
       "    <tr>\n",
       "      <th>200373</th>\n",
       "      <td>would like even little bit time work Laying 11 30 work 12 30 8 30</td>\n",
       "      <td>0</td>\n",
       "    </tr>\n",
       "    <tr>\n",
       "      <th>1279087</th>\n",
       "      <td>Looking forward keeping touch Naomi long time since chatted</td>\n",
       "      <td>4</td>\n",
       "    </tr>\n",
       "    <tr>\n",
       "      <th>44625</th>\n",
       "      <td>Germany NBA airtime got International LP watch game sure</td>\n",
       "      <td>0</td>\n",
       "    </tr>\n",
       "    <tr>\n",
       "      <th>1353688</th>\n",
       "      <td>future trouble favourite Bagley probably Running Blind Iceland Terrific</td>\n",
       "      <td>4</td>\n",
       "    </tr>\n",
       "    <tr>\n",
       "      <th>1335350</th>\n",
       "      <td>know reason Opera popular mobile platform Firefox rocks ass</td>\n",
       "      <td>4</td>\n",
       "    </tr>\n",
       "    <tr>\n",
       "      <th>...</th>\n",
       "      <td>...</td>\n",
       "      <td>...</td>\n",
       "    </tr>\n",
       "    <tr>\n",
       "      <th>1144572</th>\n",
       "      <td></td>\n",
       "      <td>4</td>\n",
       "    </tr>\n",
       "    <tr>\n",
       "      <th>796530</th>\n",
       "      <td>idea wear tomorrow</td>\n",
       "      <td>0</td>\n",
       "    </tr>\n",
       "    <tr>\n",
       "      <th>171197</th>\n",
       "      <td>darn think journey like really</td>\n",
       "      <td>0</td>\n",
       "    </tr>\n",
       "    <tr>\n",
       "      <th>1322000</th>\n",
       "      <td>oh Calvin Harris called DAFT BASTARD feel cool new claim fame</td>\n",
       "      <td>4</td>\n",
       "    </tr>\n",
       "    <tr>\n",
       "      <th>878892</th>\n",
       "      <td>Go family meal 1 hour cheer grandpa</td>\n",
       "      <td>4</td>\n",
       "    </tr>\n",
       "  </tbody>\n",
       "</table>\n",
       "<p>320000 rows × 2 columns</p>\n",
       "</div>"
      ],
      "text/plain": [
       "                                                                            Text  \\\n",
       "200373         would like even little bit time work Laying 11 30 work 12 30 8 30   \n",
       "1279087              Looking forward keeping touch Naomi long time since chatted   \n",
       "44625                   Germany NBA airtime got International LP watch game sure   \n",
       "1353688  future trouble favourite Bagley probably Running Blind Iceland Terrific   \n",
       "1335350              know reason Opera popular mobile platform Firefox rocks ass   \n",
       "...                                                                          ...   \n",
       "1144572                                                                            \n",
       "796530                                                        idea wear tomorrow   \n",
       "171197                                            darn think journey like really   \n",
       "1322000            oh Calvin Harris called DAFT BASTARD feel cool new claim fame   \n",
       "878892                                       Go family meal 1 hour cheer grandpa   \n",
       "\n",
       "         target  \n",
       "200373        0  \n",
       "1279087       4  \n",
       "44625         0  \n",
       "1353688       4  \n",
       "1335350       4  \n",
       "...         ...  \n",
       "1144572       4  \n",
       "796530        0  \n",
       "171197        0  \n",
       "1322000       4  \n",
       "878892        4  \n",
       "\n",
       "[320000 rows x 2 columns]"
      ]
     },
     "execution_count": 89,
     "metadata": {},
     "output_type": "execute_result"
    }
   ],
   "source": [
    "test_data_without_stopwords"
   ]
  },
  {
   "cell_type": "code",
   "execution_count": null,
   "metadata": {},
   "outputs": [],
   "source": [
    "\n",
    "train_data_without_stopwords['Text'] = train_data_without_stopwords['Text'].apply(clean_text)"
   ]
  },
  {
   "cell_type": "code",
   "execution_count": 90,
   "metadata": {},
   "outputs": [
    {
     "data": {
      "text/html": [
       "<div>\n",
       "<style scoped>\n",
       "    .dataframe tbody tr th:only-of-type {\n",
       "        vertical-align: middle;\n",
       "    }\n",
       "\n",
       "    .dataframe tbody tr th {\n",
       "        vertical-align: top;\n",
       "    }\n",
       "\n",
       "    .dataframe thead th {\n",
       "        text-align: right;\n",
       "    }\n",
       "</style>\n",
       "<table border=\"1\" class=\"dataframe\">\n",
       "  <thead>\n",
       "    <tr style=\"text-align: right;\">\n",
       "      <th></th>\n",
       "      <th>Text</th>\n",
       "      <th>target</th>\n",
       "    </tr>\n",
       "  </thead>\n",
       "  <tbody>\n",
       "    <tr>\n",
       "      <th>999032</th>\n",
       "      <td>Rise and shining lol. I'm up a few mins later then planned but no rush i'll be out the door in time</td>\n",
       "      <td>4</td>\n",
       "    </tr>\n",
       "    <tr>\n",
       "      <th>1045663</th>\n",
       "      <td>Had a 2nd interview today. It's looking promising.</td>\n",
       "      <td>4</td>\n",
       "    </tr>\n",
       "    <tr>\n",
       "      <th>302336</th>\n",
       "      <td>@EmilyAlbracht I feel your pain!</td>\n",
       "      <td>0</td>\n",
       "    </tr>\n",
       "    <tr>\n",
       "      <th>1427382</th>\n",
       "      <td>http://twitpic.com/6sdbj - 4yr old son and I went exploring &amp;amp; hiking today and this is what we found  Luv amphibians!</td>\n",
       "      <td>4</td>\n",
       "    </tr>\n",
       "    <tr>\n",
       "      <th>64747</th>\n",
       "      <td>is lonely because all my housemates have gone to the pub</td>\n",
       "      <td>0</td>\n",
       "    </tr>\n",
       "    <tr>\n",
       "      <th>...</th>\n",
       "      <td>...</td>\n",
       "      <td>...</td>\n",
       "    </tr>\n",
       "    <tr>\n",
       "      <th>1127399</th>\n",
       "      <td>Being held together by bubblegum &amp;amp; blessings</td>\n",
       "      <td>4</td>\n",
       "    </tr>\n",
       "    <tr>\n",
       "      <th>884337</th>\n",
       "      <td>Heehee! I was one of them</td>\n",
       "      <td>4</td>\n",
       "    </tr>\n",
       "    <tr>\n",
       "      <th>989044</th>\n",
       "      <td>@bookwitter your welcome if you change your mind though let me know</td>\n",
       "      <td>4</td>\n",
       "    </tr>\n",
       "    <tr>\n",
       "      <th>1581849</th>\n",
       "      <td>@howcoza YOU BET I WILL  Bring Backup!</td>\n",
       "      <td>4</td>\n",
       "    </tr>\n",
       "    <tr>\n",
       "      <th>1308216</th>\n",
       "      <td>In Windows on a Linux box, Installing BSD to a Apple iPod. Yeah.</td>\n",
       "      <td>4</td>\n",
       "    </tr>\n",
       "  </tbody>\n",
       "</table>\n",
       "<p>1280000 rows × 2 columns</p>\n",
       "</div>"
      ],
      "text/plain": [
       "                                                                                                                              Text  \\\n",
       "999032                        Rise and shining lol. I'm up a few mins later then planned but no rush i'll be out the door in time    \n",
       "1045663                                                                        Had a 2nd interview today. It's looking promising.    \n",
       "302336                                                                                           @EmilyAlbracht I feel your pain!    \n",
       "1427382  http://twitpic.com/6sdbj - 4yr old son and I went exploring &amp; hiking today and this is what we found  Luv amphibians!   \n",
       "64747                                                                    is lonely because all my housemates have gone to the pub    \n",
       "...                                                                                                                            ...   \n",
       "1127399                                                                          Being held together by bubblegum &amp; blessings    \n",
       "884337                                                                                                  Heehee! I was one of them    \n",
       "989044                                                        @bookwitter your welcome if you change your mind though let me know    \n",
       "1581849                                                                                     @howcoza YOU BET I WILL  Bring Backup!   \n",
       "1308216                                                          In Windows on a Linux box, Installing BSD to a Apple iPod. Yeah.    \n",
       "\n",
       "         target  \n",
       "999032        4  \n",
       "1045663       4  \n",
       "302336        0  \n",
       "1427382       4  \n",
       "64747         0  \n",
       "...         ...  \n",
       "1127399       4  \n",
       "884337        4  \n",
       "989044        4  \n",
       "1581849       4  \n",
       "1308216       4  \n",
       "\n",
       "[1280000 rows x 2 columns]"
      ]
     },
     "execution_count": 90,
     "metadata": {},
     "output_type": "execute_result"
    }
   ],
   "source": [
    "train_data_without_stopwords"
   ]
  },
  {
   "cell_type": "markdown",
   "metadata": {},
   "source": [
    "### Export Data with stopword-clearning"
   ]
  },
  {
   "cell_type": "code",
   "execution_count": null,
   "metadata": {},
   "outputs": [],
   "source": [
    "test_data.to_csv('testdata_without_stopwords_preprocessed.csv', index=False)"
   ]
  },
  {
   "cell_type": "code",
   "execution_count": null,
   "metadata": {},
   "outputs": [],
   "source": [
    "train_data.to_csv('traindata_withoutstopwords_preprocessed.csv', index=False)"
   ]
  }
 ],
 "metadata": {
  "kernelspec": {
   "display_name": "venv",
   "language": "python",
   "name": "python3"
  },
  "language_info": {
   "codemirror_mode": {
    "name": "ipython",
    "version": 3
   },
   "file_extension": ".py",
   "mimetype": "text/x-python",
   "name": "python",
   "nbconvert_exporter": "python",
   "pygments_lexer": "ipython3",
   "version": "3.12.3"
  }
 },
 "nbformat": 4,
 "nbformat_minor": 2
}
