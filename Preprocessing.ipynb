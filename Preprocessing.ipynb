{
 "cells": [
  {
   "cell_type": "markdown",
   "metadata": {},
   "source": [
    "## Dell Datensatz von ML gelabelled"
   ]
  },
  {
   "cell_type": "code",
   "execution_count": 36,
   "metadata": {},
   "outputs": [],
   "source": [
    "import numpy as np # for array, linear algebra\n",
    "import pandas as pd # for data processing\n",
    "import matplotlib.pyplot as plt # to crreate stat and visualize data\n",
    "import matplotlib as mpl  # to visualize data\n",
    "import seaborn as sns # to visualize data\n",
    "import matplotlib.colors as mcolors # to visualize colors\n",
    "import string # collection of alphabets, words or other characters\n",
    "import re # regular expression support\n",
    "from nltk.corpus import stopwords\n",
    "# import gensim # representing documents as semantic vectors"
   ]
  },
  {
   "cell_type": "code",
   "execution_count": 21,
   "metadata": {},
   "outputs": [],
   "source": [
    "df = pd.read_csv('sentiment-emotion-labelled_Dell_tweets.csv')"
   ]
  },
  {
   "cell_type": "code",
   "execution_count": 22,
   "metadata": {},
   "outputs": [
    {
     "data": {
      "text/html": [
       "<div>\n",
       "<style scoped>\n",
       "    .dataframe tbody tr th:only-of-type {\n",
       "        vertical-align: middle;\n",
       "    }\n",
       "\n",
       "    .dataframe tbody tr th {\n",
       "        vertical-align: top;\n",
       "    }\n",
       "\n",
       "    .dataframe thead th {\n",
       "        text-align: right;\n",
       "    }\n",
       "</style>\n",
       "<table border=\"1\" class=\"dataframe\">\n",
       "  <thead>\n",
       "    <tr style=\"text-align: right;\">\n",
       "      <th></th>\n",
       "      <th>Unnamed: 0</th>\n",
       "      <th>Datetime</th>\n",
       "      <th>Tweet Id</th>\n",
       "      <th>Text</th>\n",
       "      <th>Username</th>\n",
       "      <th>sentiment</th>\n",
       "      <th>sentiment_score</th>\n",
       "      <th>emotion</th>\n",
       "      <th>emotion_score</th>\n",
       "    </tr>\n",
       "  </thead>\n",
       "  <tbody>\n",
       "    <tr>\n",
       "      <th>0</th>\n",
       "      <td>0</td>\n",
       "      <td>2022-09-30 23:29:15+00:00</td>\n",
       "      <td>1575991191170342912</td>\n",
       "      <td>@Logitech @apple @Google @Microsoft @Dell @Len...</td>\n",
       "      <td>ManjuSreedaran</td>\n",
       "      <td>neutral</td>\n",
       "      <td>0.853283</td>\n",
       "      <td>anticipation</td>\n",
       "      <td>0.587121</td>\n",
       "    </tr>\n",
       "    <tr>\n",
       "      <th>1</th>\n",
       "      <td>1</td>\n",
       "      <td>2022-09-30 21:46:35+00:00</td>\n",
       "      <td>1575965354425131008</td>\n",
       "      <td>@MK_habit_addict @official_stier @MortalKombat...</td>\n",
       "      <td>MiKeMcDnet</td>\n",
       "      <td>neutral</td>\n",
       "      <td>0.519470</td>\n",
       "      <td>joy</td>\n",
       "      <td>0.886913</td>\n",
       "    </tr>\n",
       "    <tr>\n",
       "      <th>2</th>\n",
       "      <td>2</td>\n",
       "      <td>2022-09-30 21:18:02+00:00</td>\n",
       "      <td>1575958171423752203</td>\n",
       "      <td>As @CRN celebrates its 40th anniversary, Bob F...</td>\n",
       "      <td>jfollett</td>\n",
       "      <td>positive</td>\n",
       "      <td>0.763791</td>\n",
       "      <td>joy</td>\n",
       "      <td>0.960347</td>\n",
       "    </tr>\n",
       "    <tr>\n",
       "      <th>3</th>\n",
       "      <td>3</td>\n",
       "      <td>2022-09-30 20:05:24+00:00</td>\n",
       "      <td>1575939891485032450</td>\n",
       "      <td>@dell your customer service is horrible especi...</td>\n",
       "      <td>daveccarr</td>\n",
       "      <td>negative</td>\n",
       "      <td>0.954023</td>\n",
       "      <td>anger</td>\n",
       "      <td>0.983203</td>\n",
       "    </tr>\n",
       "    <tr>\n",
       "      <th>4</th>\n",
       "      <td>4</td>\n",
       "      <td>2022-09-30 20:03:17+00:00</td>\n",
       "      <td>1575939359160750080</td>\n",
       "      <td>@zacokalo @Dell @DellCares @Dell give the man ...</td>\n",
       "      <td>heycamella</td>\n",
       "      <td>neutral</td>\n",
       "      <td>0.529170</td>\n",
       "      <td>anger</td>\n",
       "      <td>0.776124</td>\n",
       "    </tr>\n",
       "  </tbody>\n",
       "</table>\n",
       "</div>"
      ],
      "text/plain": [
       "   Unnamed: 0                   Datetime             Tweet Id  \\\n",
       "0           0  2022-09-30 23:29:15+00:00  1575991191170342912   \n",
       "1           1  2022-09-30 21:46:35+00:00  1575965354425131008   \n",
       "2           2  2022-09-30 21:18:02+00:00  1575958171423752203   \n",
       "3           3  2022-09-30 20:05:24+00:00  1575939891485032450   \n",
       "4           4  2022-09-30 20:03:17+00:00  1575939359160750080   \n",
       "\n",
       "                                                Text        Username  \\\n",
       "0  @Logitech @apple @Google @Microsoft @Dell @Len...  ManjuSreedaran   \n",
       "1  @MK_habit_addict @official_stier @MortalKombat...      MiKeMcDnet   \n",
       "2  As @CRN celebrates its 40th anniversary, Bob F...        jfollett   \n",
       "3  @dell your customer service is horrible especi...       daveccarr   \n",
       "4  @zacokalo @Dell @DellCares @Dell give the man ...      heycamella   \n",
       "\n",
       "  sentiment  sentiment_score       emotion  emotion_score  \n",
       "0   neutral         0.853283  anticipation       0.587121  \n",
       "1   neutral         0.519470           joy       0.886913  \n",
       "2  positive         0.763791           joy       0.960347  \n",
       "3  negative         0.954023         anger       0.983203  \n",
       "4   neutral         0.529170         anger       0.776124  "
      ]
     },
     "execution_count": 22,
     "metadata": {},
     "output_type": "execute_result"
    }
   ],
   "source": [
    "df.head()"
   ]
  },
  {
   "cell_type": "code",
   "execution_count": 23,
   "metadata": {},
   "outputs": [
    {
     "name": "stdout",
     "output_type": "stream",
     "text": [
      "<class 'pandas.core.frame.DataFrame'>\n",
      "RangeIndex: 24970 entries, 0 to 24969\n",
      "Data columns (total 9 columns):\n",
      " #   Column           Non-Null Count  Dtype  \n",
      "---  ------           --------------  -----  \n",
      " 0   Unnamed: 0       24970 non-null  int64  \n",
      " 1   Datetime         24970 non-null  object \n",
      " 2   Tweet Id         24970 non-null  int64  \n",
      " 3   Text             24970 non-null  object \n",
      " 4   Username         24970 non-null  object \n",
      " 5   sentiment        24970 non-null  object \n",
      " 6   sentiment_score  24970 non-null  float64\n",
      " 7   emotion          24970 non-null  object \n",
      " 8   emotion_score    24970 non-null  float64\n",
      "dtypes: float64(2), int64(2), object(5)\n",
      "memory usage: 1.7+ MB\n"
     ]
    }
   ],
   "source": [
    "df.info()"
   ]
  },
  {
   "cell_type": "code",
   "execution_count": 24,
   "metadata": {},
   "outputs": [],
   "source": [
    "df = df.drop(['Unnamed: 0', 'Datetime','Tweet Id', 'Username', 'sentiment_score', 'emotion', 'emotion_score'], axis =1)"
   ]
  },
  {
   "cell_type": "code",
   "execution_count": 13,
   "metadata": {},
   "outputs": [
    {
     "data": {
      "text/html": [
       "<div>\n",
       "<style scoped>\n",
       "    .dataframe tbody tr th:only-of-type {\n",
       "        vertical-align: middle;\n",
       "    }\n",
       "\n",
       "    .dataframe tbody tr th {\n",
       "        vertical-align: top;\n",
       "    }\n",
       "\n",
       "    .dataframe thead th {\n",
       "        text-align: right;\n",
       "    }\n",
       "</style>\n",
       "<table border=\"1\" class=\"dataframe\">\n",
       "  <thead>\n",
       "    <tr style=\"text-align: right;\">\n",
       "      <th></th>\n",
       "      <th>Text</th>\n",
       "      <th>sentiment</th>\n",
       "    </tr>\n",
       "  </thead>\n",
       "  <tbody>\n",
       "    <tr>\n",
       "      <th>0</th>\n",
       "      <td>@Logitech @apple @Google @Microsoft @Dell @Len...</td>\n",
       "      <td>neutral</td>\n",
       "    </tr>\n",
       "    <tr>\n",
       "      <th>1</th>\n",
       "      <td>@MK_habit_addict @official_stier @MortalKombat...</td>\n",
       "      <td>neutral</td>\n",
       "    </tr>\n",
       "    <tr>\n",
       "      <th>2</th>\n",
       "      <td>As @CRN celebrates its 40th anniversary, Bob F...</td>\n",
       "      <td>positive</td>\n",
       "    </tr>\n",
       "    <tr>\n",
       "      <th>3</th>\n",
       "      <td>@dell your customer service is horrible especi...</td>\n",
       "      <td>negative</td>\n",
       "    </tr>\n",
       "    <tr>\n",
       "      <th>4</th>\n",
       "      <td>@zacokalo @Dell @DellCares @Dell give the man ...</td>\n",
       "      <td>neutral</td>\n",
       "    </tr>\n",
       "    <tr>\n",
       "      <th>...</th>\n",
       "      <td>...</td>\n",
       "      <td>...</td>\n",
       "    </tr>\n",
       "    <tr>\n",
       "      <th>24965</th>\n",
       "      <td>@ElDarkAngel2 @GamersNexus @Dell I wouldn't ev...</td>\n",
       "      <td>negative</td>\n",
       "    </tr>\n",
       "    <tr>\n",
       "      <th>24966</th>\n",
       "      <td>@kite_real @GamersNexus @Dell I didn't really ...</td>\n",
       "      <td>positive</td>\n",
       "    </tr>\n",
       "    <tr>\n",
       "      <th>24967</th>\n",
       "      <td>Hey @JoshTheFixer here it is....27 4K UHD USB-...</td>\n",
       "      <td>neutral</td>\n",
       "    </tr>\n",
       "    <tr>\n",
       "      <th>24968</th>\n",
       "      <td>@bravadogaming @thewolfpena @Alienware @intel ...</td>\n",
       "      <td>neutral</td>\n",
       "    </tr>\n",
       "    <tr>\n",
       "      <th>24969</th>\n",
       "      <td>@rabia_ejaz @Dell Stopped buying windows lapto...</td>\n",
       "      <td>positive</td>\n",
       "    </tr>\n",
       "  </tbody>\n",
       "</table>\n",
       "<p>24970 rows × 2 columns</p>\n",
       "</div>"
      ],
      "text/plain": [
       "                                                    Text sentiment\n",
       "0      @Logitech @apple @Google @Microsoft @Dell @Len...   neutral\n",
       "1      @MK_habit_addict @official_stier @MortalKombat...   neutral\n",
       "2      As @CRN celebrates its 40th anniversary, Bob F...  positive\n",
       "3      @dell your customer service is horrible especi...  negative\n",
       "4      @zacokalo @Dell @DellCares @Dell give the man ...   neutral\n",
       "...                                                  ...       ...\n",
       "24965  @ElDarkAngel2 @GamersNexus @Dell I wouldn't ev...  negative\n",
       "24966  @kite_real @GamersNexus @Dell I didn't really ...  positive\n",
       "24967  Hey @JoshTheFixer here it is....27 4K UHD USB-...   neutral\n",
       "24968  @bravadogaming @thewolfpena @Alienware @intel ...   neutral\n",
       "24969  @rabia_ejaz @Dell Stopped buying windows lapto...  positive\n",
       "\n",
       "[24970 rows x 2 columns]"
      ]
     },
     "execution_count": 13,
     "metadata": {},
     "output_type": "execute_result"
    }
   ],
   "source": [
    "df"
   ]
  },
  {
   "cell_type": "code",
   "execution_count": 15,
   "metadata": {},
   "outputs": [
    {
     "name": "stdout",
     "output_type": "stream",
     "text": [
      "Index(['Text', 'sentiment'], dtype='object')\n"
     ]
    }
   ],
   "source": [
    "print(df.columns)"
   ]
  },
  {
   "cell_type": "code",
   "execution_count": 25,
   "metadata": {},
   "outputs": [],
   "source": [
    "dftest = df.copy(deep = True)"
   ]
  },
  {
   "cell_type": "code",
   "execution_count": 37,
   "metadata": {},
   "outputs": [],
   "source": [
    "stop_words = stopwords.words('english')"
   ]
  },
  {
   "cell_type": "code",
   "execution_count": 39,
   "metadata": {},
   "outputs": [
    {
     "name": "stdout",
     "output_type": "stream",
     "text": [
      "['i', 'me', 'my', 'myself', 'we', 'our', 'ours', 'ourselves', 'you', \"you're\", \"you've\", \"you'll\", \"you'd\", 'your', 'yours', 'yourself', 'yourselves', 'he', 'him', 'his', 'himself', 'she', \"she's\", 'her', 'hers', 'herself', 'it', \"it's\", 'its', 'itself', 'they', 'them', 'their', 'theirs', 'themselves', 'what', 'which', 'who', 'whom', 'this', 'that', \"that'll\", 'these', 'those', 'am', 'is', 'are', 'was', 'were', 'be', 'been', 'being', 'have', 'has', 'had', 'having', 'do', 'does', 'did', 'doing', 'a', 'an', 'the', 'and', 'but', 'if', 'or', 'because', 'as', 'until', 'while', 'of', 'at', 'by', 'for', 'with', 'about', 'against', 'between', 'into', 'through', 'during', 'before', 'after', 'above', 'below', 'to', 'from', 'up', 'down', 'in', 'out', 'on', 'off', 'over', 'under', 'again', 'further', 'then', 'once', 'here', 'there', 'when', 'where', 'why', 'how', 'all', 'any', 'both', 'each', 'few', 'more', 'most', 'other', 'some', 'such', 'no', 'nor', 'not', 'only', 'own', 'same', 'so', 'than', 'too', 'very', 's', 't', 'can', 'will', 'just', 'don', \"don't\", 'should', \"should've\", 'now', 'd', 'll', 'm', 'o', 're', 've', 'y', 'ain', 'aren', \"aren't\", 'couldn', \"couldn't\", 'didn', \"didn't\", 'doesn', \"doesn't\", 'hadn', \"hadn't\", 'hasn', \"hasn't\", 'haven', \"haven't\", 'isn', \"isn't\", 'ma', 'mightn', \"mightn't\", 'mustn', \"mustn't\", 'needn', \"needn't\", 'shan', \"shan't\", 'shouldn', \"shouldn't\", 'wasn', \"wasn't\", 'weren', \"weren't\", 'won', \"won't\", 'wouldn', \"wouldn't\"]\n"
     ]
    }
   ],
   "source": [
    "print(stop_words)"
   ]
  },
  {
   "cell_type": "code",
   "execution_count": 40,
   "metadata": {},
   "outputs": [
    {
     "name": "stderr",
     "output_type": "stream",
     "text": [
      "<>:1: SyntaxWarning: invalid escape sequence '\\w'\n",
      "<>:2: SyntaxWarning: invalid escape sequence '\\S'\n",
      "<>:1: SyntaxWarning: invalid escape sequence '\\w'\n",
      "<>:2: SyntaxWarning: invalid escape sequence '\\S'\n",
      "/var/folders/zr/gt66s41d72j4f9_7bm7_1q040000gn/T/ipykernel_93801/4169002648.py:1: SyntaxWarning: invalid escape sequence '\\w'\n",
      "  dftest['Text'] = dftest['Text'].apply(lambda x: re.sub('[@#]\\w+', ' ', x))\n",
      "/var/folders/zr/gt66s41d72j4f9_7bm7_1q040000gn/T/ipykernel_93801/4169002648.py:2: SyntaxWarning: invalid escape sequence '\\S'\n",
      "  dftest['Text'] = dftest['Text'].apply(lambda x: re.sub('https:\\S+', ' ', x))\n"
     ]
    }
   ],
   "source": [
    "dftest['Text'] = dftest['Text'].apply(lambda x: re.sub('[@#]\\w+', ' ', x))\n",
    "dftest['Text'] = dftest['Text'].apply(lambda x: re.sub('https:\\S+', ' ', x))\n",
    "for word in stop_words:\n",
    "    dftest['Text'] = dftest['Text'].str.replace(fr'(^|\\b){word}\\b', ' ', regex=True)"
   ]
  },
  {
   "cell_type": "code",
   "execution_count": 30,
   "metadata": {},
   "outputs": [],
   "source": [
    "pd.set_option('display.max_colwidth', None)"
   ]
  },
  {
   "cell_type": "code",
   "execution_count": 41,
   "metadata": {},
   "outputs": [
    {
     "data": {
      "text/html": [
       "<div>\n",
       "<style scoped>\n",
       "    .dataframe tbody tr th:only-of-type {\n",
       "        vertical-align: middle;\n",
       "    }\n",
       "\n",
       "    .dataframe tbody tr th {\n",
       "        vertical-align: top;\n",
       "    }\n",
       "\n",
       "    .dataframe thead th {\n",
       "        text-align: right;\n",
       "    }\n",
       "</style>\n",
       "<table border=\"1\" class=\"dataframe\">\n",
       "  <thead>\n",
       "    <tr style=\"text-align: right;\">\n",
       "      <th></th>\n",
       "      <th>Text</th>\n",
       "      <th>sentiment</th>\n",
       "    </tr>\n",
       "  </thead>\n",
       "  <tbody>\n",
       "    <tr>\n",
       "      <th>0</th>\n",
       "      <td>QWERTY   modified   programmers   things like brackets, parens, quotes, operators, etc. moved     middle near G-H splitting left/right brackets   separate hands,   relieving   less dextrous pinky finger?</td>\n",
       "      <td>neutral</td>\n",
       "    </tr>\n",
       "    <tr>\n",
       "      <th>1</th>\n",
       "      <td>She'  getting   new         one     one   2-3 years old.  (More   triple   price - though much higher utility).</td>\n",
       "      <td>neutral</td>\n",
       "    </tr>\n",
       "    <tr>\n",
       "      <th>2</th>\n",
       "      <td>As   celebrates   40th anniversary, Bob Faletra     spoke         milestones, companies   personalities   helped build   channel.</td>\n",
       "      <td>positive</td>\n",
       "    </tr>\n",
       "    <tr>\n",
       "      <th>3</th>\n",
       "      <td>customer service   horrible especially agent syedfaisal     made   experience   purchasing   new computer downright awful   I’  reconsider ever buying   Dell     future</td>\n",
       "      <td>negative</td>\n",
       "    </tr>\n",
       "    <tr>\n",
       "      <th>4</th>\n",
       "      <td>give   man     paid  !</td>\n",
       "      <td>neutral</td>\n",
       "    </tr>\n",
       "  </tbody>\n",
       "</table>\n",
       "</div>"
      ],
      "text/plain": [
       "                                                                                                                                                                                                                        Text  \\\n",
       "0                QWERTY   modified   programmers   things like brackets, parens, quotes, operators, etc. moved     middle near G-H splitting left/right brackets   separate hands,   relieving   less dextrous pinky finger?   \n",
       "1                                                                                                          She'  getting   new         one     one   2-3 years old.  (More   triple   price - though much higher utility).     \n",
       "2                                                                      As   celebrates   40th anniversary, Bob Faletra     spoke         milestones, companies   personalities   helped build   channel.                       \n",
       "3                                                 customer service   horrible especially agent syedfaisal     made   experience   purchasing   new computer downright awful   I’  reconsider ever buying   Dell     future     \n",
       "4                                                                                                                                                                                                     give   man     paid  !   \n",
       "\n",
       "  sentiment  \n",
       "0   neutral  \n",
       "1   neutral  \n",
       "2  positive  \n",
       "3  negative  \n",
       "4   neutral  "
      ]
     },
     "execution_count": 41,
     "metadata": {},
     "output_type": "execute_result"
    }
   ],
   "source": [
    "dftest.head()"
   ]
  },
  {
   "cell_type": "code",
   "execution_count": 32,
   "metadata": {},
   "outputs": [
    {
     "data": {
      "text/html": [
       "<div>\n",
       "<style scoped>\n",
       "    .dataframe tbody tr th:only-of-type {\n",
       "        vertical-align: middle;\n",
       "    }\n",
       "\n",
       "    .dataframe tbody tr th {\n",
       "        vertical-align: top;\n",
       "    }\n",
       "\n",
       "    .dataframe thead th {\n",
       "        text-align: right;\n",
       "    }\n",
       "</style>\n",
       "<table border=\"1\" class=\"dataframe\">\n",
       "  <thead>\n",
       "    <tr style=\"text-align: right;\">\n",
       "      <th></th>\n",
       "      <th>Text</th>\n",
       "      <th>sentiment</th>\n",
       "    </tr>\n",
       "  </thead>\n",
       "  <tbody>\n",
       "    <tr>\n",
       "      <th>0</th>\n",
       "      <td>@Logitech @apple @Google @Microsoft @Dell @Lenovo #WhatIf QWERTY were modified for programmers so things like brackets, parens, quotes, operators, etc. moved to the middle near G-H splitting left/right brackets to separate hands, and relieving the less dextrous pinky finger?</td>\n",
       "      <td>neutral</td>\n",
       "    </tr>\n",
       "    <tr>\n",
       "      <th>1</th>\n",
       "      <td>@MK_habit_addict @official_stier @MortalKombat @newzealand She's getting a new @Dell #laptop when the one she has one only 2-3 years old.  (More than triple the price - though much higher utility). https://t.co/7WvkCw7vQf</td>\n",
       "      <td>neutral</td>\n",
       "    </tr>\n",
       "    <tr>\n",
       "      <th>2</th>\n",
       "      <td>As @CRN celebrates its 40th anniversary, Bob Faletra and @stevenjburke spoke with me about the milestones, companies and personalities that helped build the channel. https://t.co/stiuBObP1O #CRN40 #podcast #internationalpodcastday @Cisco @Microsoft @HPE @hp @Dell @intel</td>\n",
       "      <td>positive</td>\n",
       "    </tr>\n",
       "    <tr>\n",
       "      <th>3</th>\n",
       "      <td>@dell your customer service is horrible especially agent syedfaisal who has made this experience of purchasing a new computer downright awful and I’ll reconsider ever buying a Dell in the future @DellTech</td>\n",
       "      <td>negative</td>\n",
       "    </tr>\n",
       "    <tr>\n",
       "      <th>4</th>\n",
       "      <td>@zacokalo @Dell @DellCares @Dell give the man what he paid for!</td>\n",
       "      <td>neutral</td>\n",
       "    </tr>\n",
       "  </tbody>\n",
       "</table>\n",
       "</div>"
      ],
      "text/plain": [
       "                                                                                                                                                                                                                                                                                  Text  \\\n",
       "0  @Logitech @apple @Google @Microsoft @Dell @Lenovo #WhatIf QWERTY were modified for programmers so things like brackets, parens, quotes, operators, etc. moved to the middle near G-H splitting left/right brackets to separate hands, and relieving the less dextrous pinky finger?   \n",
       "1                                                        @MK_habit_addict @official_stier @MortalKombat @newzealand She's getting a new @Dell #laptop when the one she has one only 2-3 years old.  (More than triple the price - though much higher utility). https://t.co/7WvkCw7vQf   \n",
       "2       As @CRN celebrates its 40th anniversary, Bob Faletra and @stevenjburke spoke with me about the milestones, companies and personalities that helped build the channel. https://t.co/stiuBObP1O #CRN40 #podcast #internationalpodcastday @Cisco @Microsoft @HPE @hp @Dell @intel   \n",
       "3                                                                         @dell your customer service is horrible especially agent syedfaisal who has made this experience of purchasing a new computer downright awful and I’ll reconsider ever buying a Dell in the future @DellTech   \n",
       "4                                                                                                                                                                                                                      @zacokalo @Dell @DellCares @Dell give the man what he paid for!   \n",
       "\n",
       "  sentiment  \n",
       "0   neutral  \n",
       "1   neutral  \n",
       "2  positive  \n",
       "3  negative  \n",
       "4   neutral  "
      ]
     },
     "execution_count": 32,
     "metadata": {},
     "output_type": "execute_result"
    }
   ],
   "source": [
    "df.head()"
   ]
  },
  {
   "cell_type": "markdown",
   "metadata": {},
   "source": [
    "## händisch gelabelt"
   ]
  },
  {
   "cell_type": "markdown",
   "metadata": {},
   "source": [
    "import numpy as np # for array, linear algebra\n",
    "import pandas as pd # for data processing\n",
    "import matplotlib.pyplot as plt # to crreate stat and visualize data\n",
    "import matplotlib as mpl  # to visualize data\n",
    "import seaborn as sns # to visualize data\n",
    "import matplotlib.colors as mcolors # to visualize colors\n",
    "import string # collection of alphabets, words or other characters\n",
    "import re # regular expression support\n",
    "from nltk.corpus import stopwords\n",
    "# import gensim # representing documents as semantic vectors"
   ]
  },
  {
   "cell_type": "code",
   "execution_count": 42,
   "metadata": {},
   "outputs": [],
   "source": [
    "df = pd.read_csv('full-corpus.csv')"
   ]
  },
  {
   "cell_type": "code",
   "execution_count": 43,
   "metadata": {},
   "outputs": [],
   "source": [
    "stop_words = stopwords.words('english')"
   ]
  },
  {
   "cell_type": "code",
   "execution_count": 47,
   "metadata": {},
   "outputs": [],
   "source": [
    "df = df.drop(['TweetDate', 'TweetId','Topic'], axis =1)"
   ]
  },
  {
   "cell_type": "code",
   "execution_count": 48,
   "metadata": {},
   "outputs": [
    {
     "name": "stderr",
     "output_type": "stream",
     "text": [
      "<>:1: SyntaxWarning: invalid escape sequence '\\w'\n",
      "<>:2: SyntaxWarning: invalid escape sequence '\\S'\n",
      "<>:1: SyntaxWarning: invalid escape sequence '\\w'\n",
      "<>:2: SyntaxWarning: invalid escape sequence '\\S'\n",
      "/var/folders/zr/gt66s41d72j4f9_7bm7_1q040000gn/T/ipykernel_93801/2646479749.py:1: SyntaxWarning: invalid escape sequence '\\w'\n",
      "  df['TweetText'] = df['TweetText'].apply(lambda x: re.sub('[@#]\\w+', ' ', x))\n",
      "/var/folders/zr/gt66s41d72j4f9_7bm7_1q040000gn/T/ipykernel_93801/2646479749.py:2: SyntaxWarning: invalid escape sequence '\\S'\n",
      "  df['TweetText'] = df['TweetText'].apply(lambda x: re.sub('https:\\S+', ' ', x))\n"
     ]
    }
   ],
   "source": [
    "df['TweetText'] = df['TweetText'].apply(lambda x: re.sub('[@#]\\w+', ' ', x))\n",
    "df['TweetText'] = df['TweetText'].apply(lambda x: re.sub('https:\\S+', ' ', x))\n",
    "for word in stop_words:\n",
    "    df['TweetText'] = df['TweetText'].str.replace(fr'(^|\\b){word}\\b', ' ', regex=True)"
   ]
  },
  {
   "cell_type": "code",
   "execution_count": 49,
   "metadata": {},
   "outputs": [
    {
     "data": {
      "text/html": [
       "<div>\n",
       "<style scoped>\n",
       "    .dataframe tbody tr th:only-of-type {\n",
       "        vertical-align: middle;\n",
       "    }\n",
       "\n",
       "    .dataframe tbody tr th {\n",
       "        vertical-align: top;\n",
       "    }\n",
       "\n",
       "    .dataframe thead th {\n",
       "        text-align: right;\n",
       "    }\n",
       "</style>\n",
       "<table border=\"1\" class=\"dataframe\">\n",
       "  <thead>\n",
       "    <tr style=\"text-align: right;\">\n",
       "      <th></th>\n",
       "      <th>Sentiment</th>\n",
       "      <th>TweetText</th>\n",
       "    </tr>\n",
       "  </thead>\n",
       "  <tbody>\n",
       "    <tr>\n",
       "      <th>0</th>\n",
       "      <td>positive</td>\n",
       "      <td>Now             get swype     iphone         crack. Iphone</td>\n",
       "    </tr>\n",
       "    <tr>\n",
       "      <th>1</th>\n",
       "      <td>positive</td>\n",
       "      <td>adding   carrier support     iPhone 4S (  announced)</td>\n",
       "    </tr>\n",
       "    <tr>\n",
       "      <th>2</th>\n",
       "      <td>positive</td>\n",
       "      <td>Hilarious   video - guy     duet     '  Siri. Pretty much sums     love affair! http:// .co/8ExbnQjY</td>\n",
       "    </tr>\n",
       "    <tr>\n",
       "      <th>3</th>\n",
       "      <td>positive</td>\n",
       "      <td>made     easy       switch     iPhone. See ya!</td>\n",
       "    </tr>\n",
       "    <tr>\n",
       "      <th>4</th>\n",
       "      <td>positive</td>\n",
       "      <td>I   realized     reason I got   twitter   ios5 thanks</td>\n",
       "    </tr>\n",
       "    <tr>\n",
       "      <th>...</th>\n",
       "      <td>...</td>\n",
       "      <td>...</td>\n",
       "    </tr>\n",
       "    <tr>\n",
       "      <th>5108</th>\n",
       "      <td>irrelevant</td>\n",
       "      <td>copè con</td>\n",
       "    </tr>\n",
       "    <tr>\n",
       "      <th>5109</th>\n",
       "      <td>irrelevant</td>\n",
       "      <td>Buenas noches genteeee :)   los quierooo ...</td>\n",
       "    </tr>\n",
       "    <tr>\n",
       "      <th>5110</th>\n",
       "      <td>irrelevant</td>\n",
       "      <td>tiene la mala costumbre de ponerce bno cuano yo   voy :/</td>\n",
       "    </tr>\n",
       "    <tr>\n",
       "      <th>5111</th>\n",
       "      <td>irrelevant</td>\n",
       "      <td>Oi  . Muito bem vinda ao meu  . Sempre dou followback pelo meu perfil profissional. Permaneça por aqui, certo? Abrass!</td>\n",
       "    </tr>\n",
       "    <tr>\n",
       "      <th>5112</th>\n",
       "      <td>irrelevant</td>\n",
       "      <td>Eles arrastaram os barcos para   praia, deixaram tudo e   Jesus.(Lucas 5-11)e este foii   primeiro   da historia humana</td>\n",
       "    </tr>\n",
       "  </tbody>\n",
       "</table>\n",
       "<p>5113 rows × 2 columns</p>\n",
       "</div>"
      ],
      "text/plain": [
       "       Sentiment  \\\n",
       "0       positive   \n",
       "1       positive   \n",
       "2       positive   \n",
       "3       positive   \n",
       "4       positive   \n",
       "...          ...   \n",
       "5108  irrelevant   \n",
       "5109  irrelevant   \n",
       "5110  irrelevant   \n",
       "5111  irrelevant   \n",
       "5112  irrelevant   \n",
       "\n",
       "                                                                                                                      TweetText  \n",
       "0                                                                Now             get swype     iphone         crack. Iphone      \n",
       "1                                                                          adding   carrier support     iPhone 4S (  announced)  \n",
       "2                          Hilarious   video - guy     duet     '  Siri. Pretty much sums     love affair! http:// .co/8ExbnQjY  \n",
       "3                                                                                made     easy       switch     iPhone. See ya!  \n",
       "4                                                                       I   realized     reason I got   twitter   ios5 thanks    \n",
       "...                                                                                                                         ...  \n",
       "5108                                                                                                                 copè con    \n",
       "5109                                                                               Buenas noches genteeee :)   los quierooo ...  \n",
       "5110                                                                   tiene la mala costumbre de ponerce bno cuano yo   voy :/  \n",
       "5111     Oi  . Muito bem vinda ao meu  . Sempre dou followback pelo meu perfil profissional. Permaneça por aqui, certo? Abrass!  \n",
       "5112  Eles arrastaram os barcos para   praia, deixaram tudo e   Jesus.(Lucas 5-11)e este foii   primeiro   da historia humana    \n",
       "\n",
       "[5113 rows x 2 columns]"
      ]
     },
     "execution_count": 49,
     "metadata": {},
     "output_type": "execute_result"
    }
   ],
   "source": [
    "df"
   ]
  }
 ],
 "metadata": {
  "kernelspec": {
   "display_name": "venv",
   "language": "python",
   "name": "python3"
  },
  "language_info": {
   "codemirror_mode": {
    "name": "ipython",
    "version": 3
   },
   "file_extension": ".py",
   "mimetype": "text/x-python",
   "name": "python",
   "nbconvert_exporter": "python",
   "pygments_lexer": "ipython3",
   "version": "3.12.3"
  }
 },
 "nbformat": 4,
 "nbformat_minor": 2
}
