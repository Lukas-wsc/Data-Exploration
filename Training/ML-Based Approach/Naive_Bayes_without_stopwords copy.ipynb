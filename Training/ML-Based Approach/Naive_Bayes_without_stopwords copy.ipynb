{
 "cells": [
  {
   "cell_type": "code",
   "execution_count": 8,
   "metadata": {},
   "outputs": [],
   "source": [
    "import numpy as np # for array, linear algebra\n",
    "import pandas as pd # for data processing\n",
    "import matplotlib.pyplot as plt # to crreate stat and visualize data\n",
    "import matplotlib as mpl  # to visualize data\n",
    "import seaborn as sns # to visualize data\n",
    "import matplotlib.colors as mcolors # to visualize colors\n",
    "import string # collection of alphabets, words or other characters\n",
    "import re # regular expression support\n",
    "import nltk \n",
    "from nltk.corpus import stopwords\n",
    "from string import punctuation \n",
    "# import gensim # representing documents as semantic vectors\n",
    "\n",
    "from nltk.tokenize import word_tokenize\n",
    "from nltk.classify import NaiveBayesClassifier\n",
    "from nltk.classify.util import accuracy"
   ]
  },
  {
   "cell_type": "code",
   "execution_count": 9,
   "metadata": {},
   "outputs": [],
   "source": [
    "pd.set_option('display.max_colwidth', None)"
   ]
  },
  {
   "cell_type": "code",
   "execution_count": 10,
   "metadata": {},
   "outputs": [],
   "source": [
    "df_naive_bayes_without_stopwords = pd.read_csv('../../Data-Preparation/traindata_without_stopwords_preprocessed.csv')"
   ]
  },
  {
   "cell_type": "code",
   "execution_count": 11,
   "metadata": {},
   "outputs": [
    {
     "data": {
      "text/html": [
       "<div>\n",
       "<style scoped>\n",
       "    .dataframe tbody tr th:only-of-type {\n",
       "        vertical-align: middle;\n",
       "    }\n",
       "\n",
       "    .dataframe tbody tr th {\n",
       "        vertical-align: top;\n",
       "    }\n",
       "\n",
       "    .dataframe thead th {\n",
       "        text-align: right;\n",
       "    }\n",
       "</style>\n",
       "<table border=\"1\" class=\"dataframe\">\n",
       "  <thead>\n",
       "    <tr style=\"text-align: right;\">\n",
       "      <th></th>\n",
       "      <th>Text</th>\n",
       "      <th>target</th>\n",
       "      <th>Ground_Truth_Label</th>\n",
       "    </tr>\n",
       "  </thead>\n",
       "  <tbody>\n",
       "    <tr>\n",
       "      <th>0</th>\n",
       "      <td>Rise shining lol mins later planned rush door time</td>\n",
       "      <td>4</td>\n",
       "      <td>positive</td>\n",
       "    </tr>\n",
       "    <tr>\n",
       "      <th>1</th>\n",
       "      <td>2nd interview today looking promising</td>\n",
       "      <td>4</td>\n",
       "      <td>positive</td>\n",
       "    </tr>\n",
       "    <tr>\n",
       "      <th>2</th>\n",
       "      <td>feel pain</td>\n",
       "      <td>0</td>\n",
       "      <td>negative</td>\n",
       "    </tr>\n",
       "    <tr>\n",
       "      <th>3</th>\n",
       "      <td>4yr old son went exploring amp hiking today found Luv amphibians</td>\n",
       "      <td>4</td>\n",
       "      <td>positive</td>\n",
       "    </tr>\n",
       "    <tr>\n",
       "      <th>4</th>\n",
       "      <td>lonely housemates gone pub</td>\n",
       "      <td>0</td>\n",
       "      <td>negative</td>\n",
       "    </tr>\n",
       "    <tr>\n",
       "      <th>...</th>\n",
       "      <td>...</td>\n",
       "      <td>...</td>\n",
       "      <td>...</td>\n",
       "    </tr>\n",
       "    <tr>\n",
       "      <th>1279995</th>\n",
       "      <td>held together bubblegum amp blessings</td>\n",
       "      <td>4</td>\n",
       "      <td>positive</td>\n",
       "    </tr>\n",
       "    <tr>\n",
       "      <th>1279996</th>\n",
       "      <td>Heehee one</td>\n",
       "      <td>4</td>\n",
       "      <td>positive</td>\n",
       "    </tr>\n",
       "    <tr>\n",
       "      <th>1279997</th>\n",
       "      <td>welcome change mind though let know</td>\n",
       "      <td>4</td>\n",
       "      <td>positive</td>\n",
       "    </tr>\n",
       "    <tr>\n",
       "      <th>1279998</th>\n",
       "      <td>BET Bring Backup</td>\n",
       "      <td>4</td>\n",
       "      <td>positive</td>\n",
       "    </tr>\n",
       "    <tr>\n",
       "      <th>1279999</th>\n",
       "      <td>Windows Linux box Installing BSD Apple iPod Yeah</td>\n",
       "      <td>4</td>\n",
       "      <td>positive</td>\n",
       "    </tr>\n",
       "  </tbody>\n",
       "</table>\n",
       "<p>1280000 rows × 3 columns</p>\n",
       "</div>"
      ],
      "text/plain": [
       "                                                                     Text  \\\n",
       "0                      Rise shining lol mins later planned rush door time   \n",
       "1                                   2nd interview today looking promising   \n",
       "2                                                               feel pain   \n",
       "3        4yr old son went exploring amp hiking today found Luv amphibians   \n",
       "4                                              lonely housemates gone pub   \n",
       "...                                                                   ...   \n",
       "1279995                             held together bubblegum amp blessings   \n",
       "1279996                                                        Heehee one   \n",
       "1279997                               welcome change mind though let know   \n",
       "1279998                                                  BET Bring Backup   \n",
       "1279999                  Windows Linux box Installing BSD Apple iPod Yeah   \n",
       "\n",
       "         target Ground_Truth_Label  \n",
       "0             4           positive  \n",
       "1             4           positive  \n",
       "2             0           negative  \n",
       "3             4           positive  \n",
       "4             0           negative  \n",
       "...         ...                ...  \n",
       "1279995       4           positive  \n",
       "1279996       4           positive  \n",
       "1279997       4           positive  \n",
       "1279998       4           positive  \n",
       "1279999       4           positive  \n",
       "\n",
       "[1280000 rows x 3 columns]"
      ]
     },
     "execution_count": 11,
     "metadata": {},
     "output_type": "execute_result"
    }
   ],
   "source": [
    "df_naive_bayes_without_stopwords"
   ]
  },
  {
   "cell_type": "code",
   "execution_count": 12,
   "metadata": {},
   "outputs": [
    {
     "data": {
      "text/plain": [
       "target\n",
       "4    640000\n",
       "0    640000\n",
       "Name: count, dtype: int64"
      ]
     },
     "execution_count": 12,
     "metadata": {},
     "output_type": "execute_result"
    }
   ],
   "source": [
    "df_naive_bayes_without_stopwords['target'].value_counts()"
   ]
  },
  {
   "cell_type": "code",
   "execution_count": 13,
   "metadata": {},
   "outputs": [],
   "source": [
    "def extract_features(text):\n",
    "    words = word_tokenize(text)\n",
    "    features = {word.lower(): True for word in words if word.isalpha()}\n",
    "    return features\n"
   ]
  },
  {
   "cell_type": "code",
   "execution_count": 14,
   "metadata": {},
   "outputs": [],
   "source": [
    "df_naive_bayes_without_stopwords['features'] = df_naive_bayes_without_stopwords['Text'].apply(lambda text: extract_features(str(text)))"
   ]
  },
  {
   "cell_type": "code",
   "execution_count": 15,
   "metadata": {},
   "outputs": [],
   "source": [
    "data = list(zip(df_naive_bayes_without_stopwords['features'], df_naive_bayes_without_stopwords['Ground_Truth_Label']))"
   ]
  },
  {
   "cell_type": "code",
   "execution_count": 16,
   "metadata": {},
   "outputs": [],
   "source": [
    "classifier = NaiveBayesClassifier.train(data)"
   ]
  },
  {
   "cell_type": "code",
   "execution_count": 17,
   "metadata": {},
   "outputs": [
    {
     "data": {
      "text/html": [
       "<div>\n",
       "<style scoped>\n",
       "    .dataframe tbody tr th:only-of-type {\n",
       "        vertical-align: middle;\n",
       "    }\n",
       "\n",
       "    .dataframe tbody tr th {\n",
       "        vertical-align: top;\n",
       "    }\n",
       "\n",
       "    .dataframe thead th {\n",
       "        text-align: right;\n",
       "    }\n",
       "</style>\n",
       "<table border=\"1\" class=\"dataframe\">\n",
       "  <thead>\n",
       "    <tr style=\"text-align: right;\">\n",
       "      <th></th>\n",
       "      <th>Text</th>\n",
       "      <th>target</th>\n",
       "      <th>Ground_Truth_Label</th>\n",
       "      <th>features</th>\n",
       "    </tr>\n",
       "  </thead>\n",
       "  <tbody>\n",
       "    <tr>\n",
       "      <th>0</th>\n",
       "      <td>Rise shining lol mins later planned rush door time</td>\n",
       "      <td>4</td>\n",
       "      <td>positive</td>\n",
       "      <td>{'rise': True, 'shining': True, 'lol': True, 'mins': True, 'later': True, 'planned': True, 'rush': True, 'door': True, 'time': True}</td>\n",
       "    </tr>\n",
       "    <tr>\n",
       "      <th>1</th>\n",
       "      <td>2nd interview today looking promising</td>\n",
       "      <td>4</td>\n",
       "      <td>positive</td>\n",
       "      <td>{'interview': True, 'today': True, 'looking': True, 'promising': True}</td>\n",
       "    </tr>\n",
       "    <tr>\n",
       "      <th>2</th>\n",
       "      <td>feel pain</td>\n",
       "      <td>0</td>\n",
       "      <td>negative</td>\n",
       "      <td>{'feel': True, 'pain': True}</td>\n",
       "    </tr>\n",
       "    <tr>\n",
       "      <th>3</th>\n",
       "      <td>4yr old son went exploring amp hiking today found Luv amphibians</td>\n",
       "      <td>4</td>\n",
       "      <td>positive</td>\n",
       "      <td>{'old': True, 'son': True, 'went': True, 'exploring': True, 'amp': True, 'hiking': True, 'today': True, 'found': True, 'luv': True, 'amphibians': True}</td>\n",
       "    </tr>\n",
       "    <tr>\n",
       "      <th>4</th>\n",
       "      <td>lonely housemates gone pub</td>\n",
       "      <td>0</td>\n",
       "      <td>negative</td>\n",
       "      <td>{'lonely': True, 'housemates': True, 'gone': True, 'pub': True}</td>\n",
       "    </tr>\n",
       "    <tr>\n",
       "      <th>...</th>\n",
       "      <td>...</td>\n",
       "      <td>...</td>\n",
       "      <td>...</td>\n",
       "      <td>...</td>\n",
       "    </tr>\n",
       "    <tr>\n",
       "      <th>1279995</th>\n",
       "      <td>held together bubblegum amp blessings</td>\n",
       "      <td>4</td>\n",
       "      <td>positive</td>\n",
       "      <td>{'held': True, 'together': True, 'bubblegum': True, 'amp': True, 'blessings': True}</td>\n",
       "    </tr>\n",
       "    <tr>\n",
       "      <th>1279996</th>\n",
       "      <td>Heehee one</td>\n",
       "      <td>4</td>\n",
       "      <td>positive</td>\n",
       "      <td>{'heehee': True, 'one': True}</td>\n",
       "    </tr>\n",
       "    <tr>\n",
       "      <th>1279997</th>\n",
       "      <td>welcome change mind though let know</td>\n",
       "      <td>4</td>\n",
       "      <td>positive</td>\n",
       "      <td>{'welcome': True, 'change': True, 'mind': True, 'though': True, 'let': True, 'know': True}</td>\n",
       "    </tr>\n",
       "    <tr>\n",
       "      <th>1279998</th>\n",
       "      <td>BET Bring Backup</td>\n",
       "      <td>4</td>\n",
       "      <td>positive</td>\n",
       "      <td>{'bet': True, 'bring': True, 'backup': True}</td>\n",
       "    </tr>\n",
       "    <tr>\n",
       "      <th>1279999</th>\n",
       "      <td>Windows Linux box Installing BSD Apple iPod Yeah</td>\n",
       "      <td>4</td>\n",
       "      <td>positive</td>\n",
       "      <td>{'windows': True, 'linux': True, 'box': True, 'installing': True, 'bsd': True, 'apple': True, 'ipod': True, 'yeah': True}</td>\n",
       "    </tr>\n",
       "  </tbody>\n",
       "</table>\n",
       "<p>1280000 rows × 4 columns</p>\n",
       "</div>"
      ],
      "text/plain": [
       "                                                                     Text  \\\n",
       "0                      Rise shining lol mins later planned rush door time   \n",
       "1                                   2nd interview today looking promising   \n",
       "2                                                               feel pain   \n",
       "3        4yr old son went exploring amp hiking today found Luv amphibians   \n",
       "4                                              lonely housemates gone pub   \n",
       "...                                                                   ...   \n",
       "1279995                             held together bubblegum amp blessings   \n",
       "1279996                                                        Heehee one   \n",
       "1279997                               welcome change mind though let know   \n",
       "1279998                                                  BET Bring Backup   \n",
       "1279999                  Windows Linux box Installing BSD Apple iPod Yeah   \n",
       "\n",
       "         target Ground_Truth_Label  \\\n",
       "0             4           positive   \n",
       "1             4           positive   \n",
       "2             0           negative   \n",
       "3             4           positive   \n",
       "4             0           negative   \n",
       "...         ...                ...   \n",
       "1279995       4           positive   \n",
       "1279996       4           positive   \n",
       "1279997       4           positive   \n",
       "1279998       4           positive   \n",
       "1279999       4           positive   \n",
       "\n",
       "                                                                                                                                                        features  \n",
       "0                           {'rise': True, 'shining': True, 'lol': True, 'mins': True, 'later': True, 'planned': True, 'rush': True, 'door': True, 'time': True}  \n",
       "1                                                                                         {'interview': True, 'today': True, 'looking': True, 'promising': True}  \n",
       "2                                                                                                                                   {'feel': True, 'pain': True}  \n",
       "3        {'old': True, 'son': True, 'went': True, 'exploring': True, 'amp': True, 'hiking': True, 'today': True, 'found': True, 'luv': True, 'amphibians': True}  \n",
       "4                                                                                                {'lonely': True, 'housemates': True, 'gone': True, 'pub': True}  \n",
       "...                                                                                                                                                          ...  \n",
       "1279995                                                                      {'held': True, 'together': True, 'bubblegum': True, 'amp': True, 'blessings': True}  \n",
       "1279996                                                                                                                            {'heehee': True, 'one': True}  \n",
       "1279997                                                               {'welcome': True, 'change': True, 'mind': True, 'though': True, 'let': True, 'know': True}  \n",
       "1279998                                                                                                             {'bet': True, 'bring': True, 'backup': True}  \n",
       "1279999                                {'windows': True, 'linux': True, 'box': True, 'installing': True, 'bsd': True, 'apple': True, 'ipod': True, 'yeah': True}  \n",
       "\n",
       "[1280000 rows x 4 columns]"
      ]
     },
     "execution_count": 17,
     "metadata": {},
     "output_type": "execute_result"
    }
   ],
   "source": [
    "df_naive_bayes_without_stopwords"
   ]
  },
  {
   "cell_type": "code",
   "execution_count": 18,
   "metadata": {},
   "outputs": [
    {
     "name": "stdout",
     "output_type": "stream",
     "text": [
      "Accuracy: 0.80\n"
     ]
    }
   ],
   "source": [
    "print(f'Accuracy: {accuracy(classifier, data):.2f}')"
   ]
  },
  {
   "cell_type": "code",
   "execution_count": 19,
   "metadata": {},
   "outputs": [
    {
     "name": "stdout",
     "output_type": "stream",
     "text": [
      "Most Informative Features\n",
      "                    sadd = True           negati : positi =     55.7 : 1.0\n",
      "                  ouchie = True           negati : positi =     55.0 : 1.0\n",
      "                 sadface = True           negati : positi =     45.4 : 1.0\n",
      "             shareholder = True           positi : negati =     42.3 : 1.0\n",
      "                saddened = True           negati : positi =     39.0 : 1.0\n",
      "                  triste = True           negati : positi =     37.0 : 1.0\n",
      "                  farrah = True           negati : positi =     36.2 : 1.0\n",
      "                 mcmahon = True           negati : positi =     35.9 : 1.0\n",
      "                 unloved = True           negati : positi =     35.8 : 1.0\n",
      "                 saddens = True           negati : positi =     32.6 : 1.0\n"
     ]
    }
   ],
   "source": [
    "classifier.show_most_informative_features(10)"
   ]
  }
 ],
 "metadata": {
  "kernelspec": {
   "display_name": "venv",
   "language": "python",
   "name": "python3"
  },
  "language_info": {
   "codemirror_mode": {
    "name": "ipython",
    "version": 3
   },
   "file_extension": ".py",
   "mimetype": "text/x-python",
   "name": "python",
   "nbconvert_exporter": "python",
   "pygments_lexer": "ipython3",
   "version": "3.12.3"
  }
 },
 "nbformat": 4,
 "nbformat_minor": 2
}
