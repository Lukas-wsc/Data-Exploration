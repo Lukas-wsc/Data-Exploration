{
 "cells": [
  {
   "cell_type": "markdown",
   "metadata": {},
   "source": [
    "# Vader with stopword cleaning"
   ]
  },
  {
   "cell_type": "code",
   "execution_count": 5,
   "metadata": {},
   "outputs": [],
   "source": [
    "import pandas as pd # for data processing\n",
    "import matplotlib.pyplot as plt # to create stat and visualize data\n",
    "import matplotlib as mpl # to visualize data\n",
    "import seaborn as sns # to visualize data\n",
    "from sklearn.metrics import * # calculation of metrics for validation purposes \n",
    "import nltk # importing nltk            \n",
    "from vaderSentiment.vaderSentiment import SentimentIntensityAnalyzer # importing vader classifier"
   ]
  },
  {
   "cell_type": "markdown",
   "metadata": {},
   "source": [
    "setting to show full text content"
   ]
  },
  {
   "cell_type": "code",
   "execution_count": 6,
   "metadata": {},
   "outputs": [],
   "source": [
    "pd.set_option('display.max_colwidth', None)"
   ]
  },
  {
   "cell_type": "markdown",
   "metadata": {},
   "source": [
    "## Loading data"
   ]
  },
  {
   "cell_type": "code",
   "execution_count": 7,
   "metadata": {},
   "outputs": [],
   "source": [
    "df_vader_without_stopwords = pd.read_csv('../../Data-Preparation/sentiment140/traindata_without_stopwords_preprocessed.csv')"
   ]
  },
  {
   "cell_type": "code",
   "execution_count": 8,
   "metadata": {},
   "outputs": [
    {
     "data": {
      "text/plain": [
       "Text\n",
       "<class 'str'>      967917\n",
       "<class 'float'>      4883\n",
       "Name: count, dtype: int64"
      ]
     },
     "execution_count": 8,
     "metadata": {},
     "output_type": "execute_result"
    }
   ],
   "source": [
    "df_vader_without_stopwords['Text'].apply(type).value_counts()"
   ]
  },
  {
   "cell_type": "code",
   "execution_count": 9,
   "metadata": {},
   "outputs": [],
   "source": [
    "df_vader_without_stopwords['Text'] = df_vader_without_stopwords['Text'].astype(str)\n"
   ]
  },
  {
   "cell_type": "markdown",
   "metadata": {},
   "source": [
    "df_vader_without_stopwords['Text'] = df_vader_without_stopwords['Text'].astype(str)"
   ]
  },
  {
   "cell_type": "code",
   "execution_count": 10,
   "metadata": {},
   "outputs": [
    {
     "data": {
      "text/html": [
       "<div>\n",
       "<style scoped>\n",
       "    .dataframe tbody tr th:only-of-type {\n",
       "        vertical-align: middle;\n",
       "    }\n",
       "\n",
       "    .dataframe tbody tr th {\n",
       "        vertical-align: top;\n",
       "    }\n",
       "\n",
       "    .dataframe thead th {\n",
       "        text-align: right;\n",
       "    }\n",
       "</style>\n",
       "<table border=\"1\" class=\"dataframe\">\n",
       "  <thead>\n",
       "    <tr style=\"text-align: right;\">\n",
       "      <th></th>\n",
       "      <th>Text</th>\n",
       "      <th>Ground_Truth_Label</th>\n",
       "      <th>target</th>\n",
       "    </tr>\n",
       "  </thead>\n",
       "  <tbody>\n",
       "    <tr>\n",
       "      <th>0</th>\n",
       "      <td>wow wise fear elevators incredible love demi</td>\n",
       "      <td>negative</td>\n",
       "      <td>0</td>\n",
       "    </tr>\n",
       "    <tr>\n",
       "      <th>1</th>\n",
       "      <td>hahaha bored haha plane crash scary</td>\n",
       "      <td>negative</td>\n",
       "      <td>0</td>\n",
       "    </tr>\n",
       "    <tr>\n",
       "      <th>2</th>\n",
       "      <td>Sure following</td>\n",
       "      <td>positive</td>\n",
       "      <td>4</td>\n",
       "    </tr>\n",
       "    <tr>\n",
       "      <th>3</th>\n",
       "      <td>itunes say download OS3 yet mine says OS date</td>\n",
       "      <td>negative</td>\n",
       "      <td>0</td>\n",
       "    </tr>\n",
       "    <tr>\n",
       "      <th>4</th>\n",
       "      <td>French Mauritian speak French Good luck learning</td>\n",
       "      <td>negative</td>\n",
       "      <td>0</td>\n",
       "    </tr>\n",
       "    <tr>\n",
       "      <th>...</th>\n",
       "      <td>...</td>\n",
       "      <td>...</td>\n",
       "      <td>...</td>\n",
       "    </tr>\n",
       "    <tr>\n",
       "      <th>972795</th>\n",
       "      <td>asked 400 staff ACC bring cd back get signed said Please Please sign cd</td>\n",
       "      <td>negative</td>\n",
       "      <td>0</td>\n",
       "    </tr>\n",
       "    <tr>\n",
       "      <th>972796</th>\n",
       "      <td>love sucker romantic comedy harry met sally favorite movie</td>\n",
       "      <td>positive</td>\n",
       "      <td>4</td>\n",
       "    </tr>\n",
       "    <tr>\n",
       "      <th>972797</th>\n",
       "      <td>thx props amp u new listener â«</td>\n",
       "      <td>positive</td>\n",
       "      <td>4</td>\n",
       "    </tr>\n",
       "    <tr>\n",
       "      <th>972798</th>\n",
       "      <td>yesterday quot sonny chance quot came brazil loved amazing lt 33 please reply</td>\n",
       "      <td>negative</td>\n",
       "      <td>0</td>\n",
       "    </tr>\n",
       "    <tr>\n",
       "      <th>972799</th>\n",
       "      <td>glad finally help</td>\n",
       "      <td>positive</td>\n",
       "      <td>4</td>\n",
       "    </tr>\n",
       "  </tbody>\n",
       "</table>\n",
       "<p>972800 rows × 3 columns</p>\n",
       "</div>"
      ],
      "text/plain": [
       "                                                                                 Text  \\\n",
       "0                                        wow wise fear elevators incredible love demi   \n",
       "1                                                 hahaha bored haha plane crash scary   \n",
       "2                                                                      Sure following   \n",
       "3                                       itunes say download OS3 yet mine says OS date   \n",
       "4                                    French Mauritian speak French Good luck learning   \n",
       "...                                                                               ...   \n",
       "972795        asked 400 staff ACC bring cd back get signed said Please Please sign cd   \n",
       "972796                     love sucker romantic comedy harry met sally favorite movie   \n",
       "972797                                               thx props amp u new listener â«   \n",
       "972798  yesterday quot sonny chance quot came brazil loved amazing lt 33 please reply   \n",
       "972799                                                              glad finally help   \n",
       "\n",
       "       Ground_Truth_Label  target  \n",
       "0                negative       0  \n",
       "1                negative       0  \n",
       "2                positive       4  \n",
       "3                negative       0  \n",
       "4                negative       0  \n",
       "...                   ...     ...  \n",
       "972795           negative       0  \n",
       "972796           positive       4  \n",
       "972797           positive       4  \n",
       "972798           negative       0  \n",
       "972799           positive       4  \n",
       "\n",
       "[972800 rows x 3 columns]"
      ]
     },
     "execution_count": 10,
     "metadata": {},
     "output_type": "execute_result"
    }
   ],
   "source": [
    "df_vader_without_stopwords"
   ]
  },
  {
   "cell_type": "markdown",
   "metadata": {},
   "source": [
    "## Classifying sentiments "
   ]
  },
  {
   "cell_type": "markdown",
   "metadata": {},
   "source": [
    "SentimentIntensityAnalyzer gets imported that containes a pre-defined ruleset for sentiment analyzation. A sentiment score gets calculated from that and the value 0.00 is chosen to differ between positive and negative sentiment."
   ]
  },
  {
   "cell_type": "code",
   "execution_count": 11,
   "metadata": {},
   "outputs": [],
   "source": [
    "analyzer = SentimentIntensityAnalyzer()"
   ]
  },
  {
   "cell_type": "code",
   "execution_count": 12,
   "metadata": {},
   "outputs": [],
   "source": [
    "def classify_sentiment(text):\n",
    "    score = analyzer.polarity_scores(text)['compound']\n",
    "    if score >= 0.00:\n",
    "        return 'positive'\n",
    "    else: \n",
    "        return 'negative'"
   ]
  },
  {
   "cell_type": "code",
   "execution_count": 13,
   "metadata": {},
   "outputs": [],
   "source": [
    "df_vader_without_stopwords['VADER_Classification'] = df_vader_without_stopwords['Text'].apply(classify_sentiment)"
   ]
  },
  {
   "cell_type": "code",
   "execution_count": 14,
   "metadata": {},
   "outputs": [
    {
     "data": {
      "text/html": [
       "<div>\n",
       "<style scoped>\n",
       "    .dataframe tbody tr th:only-of-type {\n",
       "        vertical-align: middle;\n",
       "    }\n",
       "\n",
       "    .dataframe tbody tr th {\n",
       "        vertical-align: top;\n",
       "    }\n",
       "\n",
       "    .dataframe thead th {\n",
       "        text-align: right;\n",
       "    }\n",
       "</style>\n",
       "<table border=\"1\" class=\"dataframe\">\n",
       "  <thead>\n",
       "    <tr style=\"text-align: right;\">\n",
       "      <th></th>\n",
       "      <th>Text</th>\n",
       "      <th>Ground_Truth_Label</th>\n",
       "      <th>target</th>\n",
       "      <th>VADER_Classification</th>\n",
       "    </tr>\n",
       "  </thead>\n",
       "  <tbody>\n",
       "    <tr>\n",
       "      <th>0</th>\n",
       "      <td>wow wise fear elevators incredible love demi</td>\n",
       "      <td>negative</td>\n",
       "      <td>0</td>\n",
       "      <td>positive</td>\n",
       "    </tr>\n",
       "    <tr>\n",
       "      <th>1</th>\n",
       "      <td>hahaha bored haha plane crash scary</td>\n",
       "      <td>negative</td>\n",
       "      <td>0</td>\n",
       "      <td>negative</td>\n",
       "    </tr>\n",
       "    <tr>\n",
       "      <th>2</th>\n",
       "      <td>Sure following</td>\n",
       "      <td>positive</td>\n",
       "      <td>4</td>\n",
       "      <td>positive</td>\n",
       "    </tr>\n",
       "    <tr>\n",
       "      <th>3</th>\n",
       "      <td>itunes say download OS3 yet mine says OS date</td>\n",
       "      <td>negative</td>\n",
       "      <td>0</td>\n",
       "      <td>positive</td>\n",
       "    </tr>\n",
       "    <tr>\n",
       "      <th>4</th>\n",
       "      <td>French Mauritian speak French Good luck learning</td>\n",
       "      <td>negative</td>\n",
       "      <td>0</td>\n",
       "      <td>positive</td>\n",
       "    </tr>\n",
       "    <tr>\n",
       "      <th>...</th>\n",
       "      <td>...</td>\n",
       "      <td>...</td>\n",
       "      <td>...</td>\n",
       "      <td>...</td>\n",
       "    </tr>\n",
       "    <tr>\n",
       "      <th>972795</th>\n",
       "      <td>asked 400 staff ACC bring cd back get signed said Please Please sign cd</td>\n",
       "      <td>negative</td>\n",
       "      <td>0</td>\n",
       "      <td>positive</td>\n",
       "    </tr>\n",
       "    <tr>\n",
       "      <th>972796</th>\n",
       "      <td>love sucker romantic comedy harry met sally favorite movie</td>\n",
       "      <td>positive</td>\n",
       "      <td>4</td>\n",
       "      <td>positive</td>\n",
       "    </tr>\n",
       "    <tr>\n",
       "      <th>972797</th>\n",
       "      <td>thx props amp u new listener â«</td>\n",
       "      <td>positive</td>\n",
       "      <td>4</td>\n",
       "      <td>positive</td>\n",
       "    </tr>\n",
       "    <tr>\n",
       "      <th>972798</th>\n",
       "      <td>yesterday quot sonny chance quot came brazil loved amazing lt 33 please reply</td>\n",
       "      <td>negative</td>\n",
       "      <td>0</td>\n",
       "      <td>positive</td>\n",
       "    </tr>\n",
       "    <tr>\n",
       "      <th>972799</th>\n",
       "      <td>glad finally help</td>\n",
       "      <td>positive</td>\n",
       "      <td>4</td>\n",
       "      <td>positive</td>\n",
       "    </tr>\n",
       "  </tbody>\n",
       "</table>\n",
       "<p>972800 rows × 4 columns</p>\n",
       "</div>"
      ],
      "text/plain": [
       "                                                                                 Text  \\\n",
       "0                                        wow wise fear elevators incredible love demi   \n",
       "1                                                 hahaha bored haha plane crash scary   \n",
       "2                                                                      Sure following   \n",
       "3                                       itunes say download OS3 yet mine says OS date   \n",
       "4                                    French Mauritian speak French Good luck learning   \n",
       "...                                                                               ...   \n",
       "972795        asked 400 staff ACC bring cd back get signed said Please Please sign cd   \n",
       "972796                     love sucker romantic comedy harry met sally favorite movie   \n",
       "972797                                               thx props amp u new listener â«   \n",
       "972798  yesterday quot sonny chance quot came brazil loved amazing lt 33 please reply   \n",
       "972799                                                              glad finally help   \n",
       "\n",
       "       Ground_Truth_Label  target VADER_Classification  \n",
       "0                negative       0             positive  \n",
       "1                negative       0             negative  \n",
       "2                positive       4             positive  \n",
       "3                negative       0             positive  \n",
       "4                negative       0             positive  \n",
       "...                   ...     ...                  ...  \n",
       "972795           negative       0             positive  \n",
       "972796           positive       4             positive  \n",
       "972797           positive       4             positive  \n",
       "972798           negative       0             positive  \n",
       "972799           positive       4             positive  \n",
       "\n",
       "[972800 rows x 4 columns]"
      ]
     },
     "execution_count": 14,
     "metadata": {},
     "output_type": "execute_result"
    }
   ],
   "source": [
    "df_vader_without_stopwords"
   ]
  },
  {
   "cell_type": "markdown",
   "metadata": {},
   "source": [
    "## Testing quality of the classifier on training data"
   ]
  },
  {
   "cell_type": "code",
   "execution_count": 15,
   "metadata": {},
   "outputs": [],
   "source": [
    "accuracy = accuracy_score(df_vader_without_stopwords['Ground_Truth_Label'], df_vader_without_stopwords['VADER_Classification'])\n",
    "precision = precision_score(df_vader_without_stopwords['Ground_Truth_Label'], df_vader_without_stopwords['VADER_Classification'], pos_label='positive')\n",
    "recall = recall_score(df_vader_without_stopwords['Ground_Truth_Label'], df_vader_without_stopwords['VADER_Classification'], pos_label='positive')\n",
    "f1 = f1_score(df_vader_without_stopwords['Ground_Truth_Label'], df_vader_without_stopwords['VADER_Classification'], pos_label='positive')\n",
    "\n",
    "beta = 1 / (2**0.5)\n",
    "f_beta = fbeta_score(df_vader_without_stopwords['Ground_Truth_Label'], df_vader_without_stopwords['VADER_Classification'],beta=beta, pos_label='positive')\n"
   ]
  },
  {
   "cell_type": "code",
   "execution_count": 16,
   "metadata": {},
   "outputs": [
    {
     "name": "stdout",
     "output_type": "stream",
     "text": [
      "Accuracy: 0.64\n",
      "Precision: 0.59\n",
      "Recall: 0.91\n",
      "F1 Score: 0.72\n",
      "F-beta Score (beta=0.7071067811865475): 0.67037256781221\n"
     ]
    }
   ],
   "source": [
    "print(f'Accuracy: {accuracy:.2f}')\n",
    "print(f'Precision: {precision:.2f}')\n",
    "print(f'Recall: {recall:.2f}')\n",
    "print(f'F1 Score: {f1:.2f}')\n",
    "\n",
    "print(f\"F-beta Score (beta={beta}): {f_beta}\")"
   ]
  },
  {
   "cell_type": "code",
   "execution_count": 17,
   "metadata": {},
   "outputs": [
    {
     "name": "stdout",
     "output_type": "stream",
     "text": [
      "\n",
      "Classification Report:\n",
      "\n",
      "              precision    recall  f1-score   support\n",
      "\n",
      "    negative       0.80      0.38      0.51    486400\n",
      "    positive       0.59      0.91      0.72    486400\n",
      "\n",
      "    accuracy                           0.64    972800\n",
      "   macro avg       0.70      0.64      0.62    972800\n",
      "weighted avg       0.70      0.64      0.62    972800\n",
      "\n"
     ]
    }
   ],
   "source": [
    "print(\"\\nClassification Report:\\n\")\n",
    "print(classification_report(df_vader_without_stopwords['Ground_Truth_Label'], df_vader_without_stopwords['VADER_Classification'], target_names=['negative', 'positive']))"
   ]
  },
  {
   "cell_type": "markdown",
   "metadata": {},
   "source": [
    "creating heatmap to visualize false positives and false negatives"
   ]
  },
  {
   "cell_type": "code",
   "execution_count": 18,
   "metadata": {},
   "outputs": [
    {
     "data": {
      "image/png": "[encoded data removed]",
      "text/plain": [
       "<Figure size 1000x700 with 1 Axes>"
      ]
     },
     "metadata": {},
     "output_type": "display_data"
    }
   ],
   "source": [
    "cm_nb = confusion_matrix(df_vader_without_stopwords['Ground_Truth_Label'], df_vader_without_stopwords['VADER_Classification'])\n",
    "plt.figure(figsize=(10, 7))\n",
    "sns.heatmap(cm_nb, annot=True, fmt='d', cmap='Blues', cbar=False, annot_kws={\"size\": 14})\n",
    "plt.xlabel('Predicted Labels', fontsize=16)\n",
    "plt.ylabel('True Labels', fontsize=16)\n",
    "plt.title('Confusion Matrix for VADER without stopwords', fontsize=18)\n",
    "plt.xticks(ticks=[0.5, 1.5], labels=['negative', 'positive'], fontsize=14)\n",
    "plt.yticks(ticks=[0.5, 1.5], labels=['negative', 'positive'], fontsize=14, rotation=0)\n",
    "plt.show()"
   ]
  }
 ],
 "metadata": {
  "kernelspec": {
   "display_name": "venv",
   "language": "python",
   "name": "python3"
  },
  "language_info": {
   "codemirror_mode": {
    "name": "ipython",
    "version": 3
   },
   "file_extension": ".py",
   "mimetype": "text/x-python",
   "name": "python",
   "nbconvert_exporter": "python",
   "pygments_lexer": "ipython3",
   "version": "3.12.3"
  }
 },
 "nbformat": 4,
 "nbformat_minor": 2
}
