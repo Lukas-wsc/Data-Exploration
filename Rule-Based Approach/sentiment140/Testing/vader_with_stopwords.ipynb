{
 "cells": [
  {
   "cell_type": "code",
   "execution_count": 1,
   "metadata": {},
   "outputs": [
    {
     "name": "stderr",
     "output_type": "stream",
     "text": [
      "[nltk_data] Downloading package stopwords to\n",
      "[nltk_data]     /Users/I570078/nltk_data...\n",
      "[nltk_data]   Package stopwords is already up-to-date!\n"
     ]
    }
   ],
   "source": [
    "import numpy as np # for array, linear algebra\n",
    "import pandas as pd # for data processing\n",
    "import matplotlib.pyplot as plt # to crreate stat and visualize data\n",
    "import matplotlib as mpl  # to visualize data\n",
    "import seaborn as sns # to visualize data\n",
    "import matplotlib.colors as mcolors # to visualize colors\n",
    "import string # collection of alphabets, words or other characters\n",
    "import re # regular expression support\n",
    "import nltk \n",
    "nltk.download('stopwords')\n",
    "from sklearn.metrics import *\n",
    "\n",
    "# import gensim # representing documents as semantic vectors\n",
    "\n",
    "from vaderSentiment.vaderSentiment import SentimentIntensityAnalyzer\n",
    "from sklearn.metrics import accuracy_score"
   ]
  },
  {
   "cell_type": "code",
   "execution_count": 2,
   "metadata": {},
   "outputs": [],
   "source": [
    "pd.set_option('display.max_colwidth', None)"
   ]
  },
  {
   "cell_type": "markdown",
   "metadata": {},
   "source": [
    "## Vader without Text-Pre-Edditing"
   ]
  },
  {
   "cell_type": "code",
   "execution_count": 3,
   "metadata": {},
   "outputs": [],
   "source": [
    "df_vader_with_stopwords = pd.read_csv('../../Data-Preparation/testdata_with_stopwords_preprocessed.csv')"
   ]
  },
  {
   "cell_type": "code",
   "execution_count": 4,
   "metadata": {},
   "outputs": [
    {
     "data": {
      "text/plain": [
       "target\n",
       "0    160000\n",
       "4    160000\n",
       "Name: count, dtype: int64"
      ]
     },
     "execution_count": 4,
     "metadata": {},
     "output_type": "execute_result"
    }
   ],
   "source": [
    "df_vader_with_stopwords['target'].value_counts()"
   ]
  },
  {
   "cell_type": "code",
   "execution_count": 5,
   "metadata": {},
   "outputs": [],
   "source": [
    "analyzer = SentimentIntensityAnalyzer()"
   ]
  },
  {
   "cell_type": "code",
   "execution_count": 6,
   "metadata": {},
   "outputs": [],
   "source": [
    "def classify_sentiment(text):\n",
    "    score = analyzer.polarity_scores(text)['compound']\n",
    "    if score >= 0.00:\n",
    "        return 'positive'\n",
    "    else: \n",
    "        return 'negative'"
   ]
  },
  {
   "cell_type": "code",
   "execution_count": 7,
   "metadata": {},
   "outputs": [],
   "source": [
    "df_vader_with_stopwords['VADER_Classification'] = df_vader_with_stopwords['Text'].apply(classify_sentiment)"
   ]
  },
  {
   "cell_type": "code",
   "execution_count": 8,
   "metadata": {},
   "outputs": [
    {
     "data": {
      "text/html": [
       "<div>\n",
       "<style scoped>\n",
       "    .dataframe tbody tr th:only-of-type {\n",
       "        vertical-align: middle;\n",
       "    }\n",
       "\n",
       "    .dataframe tbody tr th {\n",
       "        vertical-align: top;\n",
       "    }\n",
       "\n",
       "    .dataframe thead th {\n",
       "        text-align: right;\n",
       "    }\n",
       "</style>\n",
       "<table border=\"1\" class=\"dataframe\">\n",
       "  <thead>\n",
       "    <tr style=\"text-align: right;\">\n",
       "      <th></th>\n",
       "      <th>Text</th>\n",
       "      <th>target</th>\n",
       "      <th>Ground_Truth_Label</th>\n",
       "      <th>VADER_Classification</th>\n",
       "    </tr>\n",
       "  </thead>\n",
       "  <tbody>\n",
       "    <tr>\n",
       "      <th>0</th>\n",
       "      <td>would like to have even a little bit of time off work. Laying out until 11:30 then work 12:30-8:30.</td>\n",
       "      <td>0</td>\n",
       "      <td>negative</td>\n",
       "      <td>positive</td>\n",
       "    </tr>\n",
       "    <tr>\n",
       "      <th>1</th>\n",
       "      <td>Looking forward to keeping in touch with Naomi.. It has been a long time since we chatted!</td>\n",
       "      <td>4</td>\n",
       "      <td>positive</td>\n",
       "      <td>positive</td>\n",
       "    </tr>\n",
       "    <tr>\n",
       "      <th>2</th>\n",
       "      <td>@NBATVAndre No, in Germany the NBA has no airtime  . But I got the International LP so I will watch the game for sure.</td>\n",
       "      <td>0</td>\n",
       "      <td>negative</td>\n",
       "      <td>positive</td>\n",
       "    </tr>\n",
       "    <tr>\n",
       "      <th>3</th>\n",
       "      <td>@AliChemist Your future self's in trouble, then!  My favourite Bagley is probably Running Blind, in Iceland. Terrific.</td>\n",
       "      <td>4</td>\n",
       "      <td>positive</td>\n",
       "      <td>negative</td>\n",
       "    </tr>\n",
       "    <tr>\n",
       "      <th>4</th>\n",
       "      <td>@remco_dekker did you know there is a reason why Opera is only popular the mobile platform..? It's because Firefox rocks its ass!</td>\n",
       "      <td>4</td>\n",
       "      <td>positive</td>\n",
       "      <td>negative</td>\n",
       "    </tr>\n",
       "    <tr>\n",
       "      <th>...</th>\n",
       "      <td>...</td>\n",
       "      <td>...</td>\n",
       "      <td>...</td>\n",
       "      <td>...</td>\n",
       "    </tr>\n",
       "    <tr>\n",
       "      <th>319995</th>\n",
       "      <td>@ttmhand ???????</td>\n",
       "      <td>4</td>\n",
       "      <td>positive</td>\n",
       "      <td>positive</td>\n",
       "    </tr>\n",
       "    <tr>\n",
       "      <th>319996</th>\n",
       "      <td>had no idea on what to wear tomorrow !</td>\n",
       "      <td>0</td>\n",
       "      <td>negative</td>\n",
       "      <td>negative</td>\n",
       "    </tr>\n",
       "    <tr>\n",
       "      <th>319997</th>\n",
       "      <td>@sweet_pea00 darn  i will think of you on our journey so it's like you are really there</td>\n",
       "      <td>0</td>\n",
       "      <td>negative</td>\n",
       "      <td>positive</td>\n",
       "    </tr>\n",
       "    <tr>\n",
       "      <th>319998</th>\n",
       "      <td>oh my, Calvin Harris called me a DAFT BASTARD. I feel so cool, this is my new claim to fame.</td>\n",
       "      <td>4</td>\n",
       "      <td>positive</td>\n",
       "      <td>positive</td>\n",
       "    </tr>\n",
       "    <tr>\n",
       "      <th>319999</th>\n",
       "      <td>Go to a family meal in 1 hour. I'll cheer up my grandpa</td>\n",
       "      <td>4</td>\n",
       "      <td>positive</td>\n",
       "      <td>positive</td>\n",
       "    </tr>\n",
       "  </tbody>\n",
       "</table>\n",
       "<p>320000 rows × 4 columns</p>\n",
       "</div>"
      ],
      "text/plain": [
       "                                                                                                                                      Text  \\\n",
       "0                                     would like to have even a little bit of time off work. Laying out until 11:30 then work 12:30-8:30.    \n",
       "1                                              Looking forward to keeping in touch with Naomi.. It has been a long time since we chatted!    \n",
       "2                   @NBATVAndre No, in Germany the NBA has no airtime  . But I got the International LP so I will watch the game for sure.   \n",
       "3                   @AliChemist Your future self's in trouble, then!  My favourite Bagley is probably Running Blind, in Iceland. Terrific.   \n",
       "4       @remco_dekker did you know there is a reason why Opera is only popular the mobile platform..? It's because Firefox rocks its ass!    \n",
       "...                                                                                                                                    ...   \n",
       "319995                                                                                                                   @ttmhand ???????    \n",
       "319996                                                                                             had no idea on what to wear tomorrow !    \n",
       "319997                                             @sweet_pea00 darn  i will think of you on our journey so it's like you are really there   \n",
       "319998                                     oh my, Calvin Harris called me a DAFT BASTARD. I feel so cool, this is my new claim to fame.      \n",
       "319999                                                                            Go to a family meal in 1 hour. I'll cheer up my grandpa    \n",
       "\n",
       "        target Ground_Truth_Label VADER_Classification  \n",
       "0            0           negative             positive  \n",
       "1            4           positive             positive  \n",
       "2            0           negative             positive  \n",
       "3            4           positive             negative  \n",
       "4            4           positive             negative  \n",
       "...        ...                ...                  ...  \n",
       "319995       4           positive             positive  \n",
       "319996       0           negative             negative  \n",
       "319997       0           negative             positive  \n",
       "319998       4           positive             positive  \n",
       "319999       4           positive             positive  \n",
       "\n",
       "[320000 rows x 4 columns]"
      ]
     },
     "execution_count": 8,
     "metadata": {},
     "output_type": "execute_result"
    }
   ],
   "source": [
    "df_vader_with_stopwords"
   ]
  },
  {
   "cell_type": "code",
   "execution_count": 9,
   "metadata": {},
   "outputs": [
    {
     "name": "stdout",
     "output_type": "stream",
     "text": [
      "Accuracy: 0.66650625\n"
     ]
    }
   ],
   "source": [
    "accuracy = accuracy_score(df_vader_with_stopwords['Ground_Truth_Label'], df_vader_with_stopwords['VADER_Classification'])\n",
    "print(f'Accuracy: {accuracy}')"
   ]
  },
  {
   "cell_type": "code",
   "execution_count": 10,
   "metadata": {},
   "outputs": [],
   "source": [
    "accuracy = accuracy_score(df_vader_with_stopwords['Ground_Truth_Label'], df_vader_with_stopwords['VADER_Classification'])\n",
    "precision = precision_score(df_vader_with_stopwords['Ground_Truth_Label'], df_vader_with_stopwords['VADER_Classification'], pos_label='positive')\n",
    "recall = recall_score(df_vader_with_stopwords['Ground_Truth_Label'], df_vader_with_stopwords['VADER_Classification'], pos_label='positive')\n",
    "f1 = f1_score(df_vader_with_stopwords['Ground_Truth_Label'], df_vader_with_stopwords['VADER_Classification'], pos_label='positive')\n"
   ]
  },
  {
   "cell_type": "code",
   "execution_count": 11,
   "metadata": {},
   "outputs": [
    {
     "name": "stdout",
     "output_type": "stream",
     "text": [
      "Accuracy: 0.67\n",
      "Precision: 0.61\n",
      "Recall: 0.90\n",
      "F1 Score: 0.73\n"
     ]
    }
   ],
   "source": [
    "print(f'Accuracy: {accuracy:.2f}')\n",
    "print(f'Precision: {precision:.2f}')\n",
    "print(f'Recall: {recall:.2f}')\n",
    "print(f'F1 Score: {f1:.2f}')"
   ]
  },
  {
   "cell_type": "code",
   "execution_count": 12,
   "metadata": {},
   "outputs": [
    {
     "name": "stdout",
     "output_type": "stream",
     "text": [
      "\n",
      "Classification Report:\n",
      "\n",
      "              precision    recall  f1-score   support\n",
      "\n",
      "    negative       0.81      0.43      0.56    160000\n",
      "    positive       0.61      0.90      0.73    160000\n",
      "\n",
      "    accuracy                           0.67    320000\n",
      "   macro avg       0.71      0.67      0.65    320000\n",
      "weighted avg       0.71      0.67      0.65    320000\n",
      "\n"
     ]
    }
   ],
   "source": [
    "print(\"\\nClassification Report:\\n\")\n",
    "print(classification_report(df_vader_with_stopwords['Ground_Truth_Label'], df_vader_with_stopwords['VADER_Classification'], target_names=['negative', 'positive']))"
   ]
  },
  {
   "cell_type": "code",
   "execution_count": 13,
   "metadata": {},
   "outputs": [
    {
     "data": {
      "image/png": "[encoded data removed]",
      "text/plain": [
       "<Figure size 1000x700 with 1 Axes>"
      ]
     },
     "metadata": {},
     "output_type": "display_data"
    }
   ],
   "source": [
    "cm_nb = confusion_matrix(df_vader_with_stopwords['Ground_Truth_Label'], df_vader_with_stopwords['VADER_Classification'])\n",
    "\n",
    "\n",
    "# Erstellen der Heatmap\n",
    "plt.figure(figsize=(10, 7))\n",
    "sns.heatmap(cm_nb, annot=True, fmt='d', cmap='Blues', cbar=False, annot_kws={\"size\": 14})\n",
    "plt.xlabel('Predicted Labels', fontsize=16)\n",
    "plt.ylabel('True Labels', fontsize=16)\n",
    "plt.title('Confusion Matrix for VADER with stopwords', fontsize=18)\n",
    "plt.xticks(ticks=[0.5, 1.5], labels=['negative', 'positive'], fontsize=14)\n",
    "plt.yticks(ticks=[0.5, 1.5], labels=['negative', 'positive'], fontsize=14, rotation=0)\n",
    "plt.show()"
   ]
  }
 ],
 "metadata": {
  "kernelspec": {
   "display_name": "venv",
   "language": "python",
   "name": "python3"
  },
  "language_info": {
   "codemirror_mode": {
    "name": "ipython",
    "version": 3
   },
   "file_extension": ".py",
   "mimetype": "text/x-python",
   "name": "python",
   "nbconvert_exporter": "python",
   "pygments_lexer": "ipython3",
   "version": "3.12.3"
  }
 },
 "nbformat": 4,
 "nbformat_minor": 2
}
