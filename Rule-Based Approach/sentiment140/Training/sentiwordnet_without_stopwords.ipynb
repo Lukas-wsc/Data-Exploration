{
 "cells": [
  {
   "cell_type": "markdown",
   "metadata": {},
   "source": [
    "## Sentiwordnet mit Entfernen von Stopwords und Satzzeichen\n",
    "\n"
   ]
  },
  {
   "cell_type": "code",
   "execution_count": 1,
   "metadata": {},
   "outputs": [
    {
     "name": "stderr",
     "output_type": "stream",
     "text": [
      "[nltk_data] Downloading package sentiwordnet to\n",
      "[nltk_data]     /Users/I570078/nltk_data...\n",
      "[nltk_data]   Package sentiwordnet is already up-to-date!\n",
      "[nltk_data] Downloading package wordnet to /Users/I570078/nltk_data...\n",
      "[nltk_data]   Package wordnet is already up-to-date!\n",
      "[nltk_data] Downloading package punkt to /Users/I570078/nltk_data...\n",
      "[nltk_data]   Package punkt is already up-to-date!\n",
      "[nltk_data] Downloading package averaged_perceptron_tagger to\n",
      "[nltk_data]     /Users/I570078/nltk_data...\n",
      "[nltk_data]   Package averaged_perceptron_tagger is already up-to-\n",
      "[nltk_data]       date!\n"
     ]
    },
    {
     "data": {
      "text/plain": [
       "True"
      ]
     },
     "execution_count": 1,
     "metadata": {},
     "output_type": "execute_result"
    }
   ],
   "source": [
    "import numpy as np # for array, linear algebra\n",
    "import pandas as pd # for data processing\n",
    "import matplotlib.pyplot as plt # to crreate stat and visualize data\n",
    "import matplotlib as mpl  # to visualize data\n",
    "import seaborn as sns # to visualize data\n",
    "import matplotlib.colors as mcolors # to visualize colors\n",
    "import string # collection of alphabets, words or other characters\n",
    "import re # regular expression support\n",
    "import nltk \n",
    "from nltk.corpus import stopwords\n",
    "from string import punctuation \n",
    "# import gensim # representing documents as semantic vectors\n",
    "from sklearn.metrics import *\n",
    "\n",
    "from nltk.corpus import sentiwordnet as swn\n",
    "nltk.download('sentiwordnet')\n",
    "nltk.download('wordnet')\n",
    "nltk.download('punkt')\n",
    "nltk.download('averaged_perceptron_tagger')"
   ]
  },
  {
   "cell_type": "markdown",
   "metadata": {},
   "source": [
    "Einstellung, um kompletten Inhalt der Spalte 'Text' anzuzeigen. "
   ]
  },
  {
   "cell_type": "code",
   "execution_count": 2,
   "metadata": {},
   "outputs": [],
   "source": [
    "pd.set_option('display.max_colwidth', None)"
   ]
  },
  {
   "cell_type": "markdown",
   "metadata": {},
   "source": [
    "Einlesen der Daten"
   ]
  },
  {
   "cell_type": "code",
   "execution_count": 3,
   "metadata": {},
   "outputs": [],
   "source": [
    "df_sentiwordnet_without_stopwords = pd.read_csv('../../Data-Preparation/traindata_without_stopwords_preprocessed.csv')"
   ]
  },
  {
   "cell_type": "markdown",
   "metadata": {},
   "source": [
    "Überprüfung des Datensatzes"
   ]
  },
  {
   "cell_type": "code",
   "execution_count": 4,
   "metadata": {},
   "outputs": [
    {
     "data": {
      "text/plain": [
       "target\n",
       "4    640000\n",
       "0    640000\n",
       "Name: count, dtype: int64"
      ]
     },
     "execution_count": 4,
     "metadata": {},
     "output_type": "execute_result"
    }
   ],
   "source": [
    "df_sentiwordnet_without_stopwords['target'].value_counts()"
   ]
  },
  {
   "cell_type": "code",
   "execution_count": 5,
   "metadata": {},
   "outputs": [
    {
     "data": {
      "text/html": [
       "<div>\n",
       "<style scoped>\n",
       "    .dataframe tbody tr th:only-of-type {\n",
       "        vertical-align: middle;\n",
       "    }\n",
       "\n",
       "    .dataframe tbody tr th {\n",
       "        vertical-align: top;\n",
       "    }\n",
       "\n",
       "    .dataframe thead th {\n",
       "        text-align: right;\n",
       "    }\n",
       "</style>\n",
       "<table border=\"1\" class=\"dataframe\">\n",
       "  <thead>\n",
       "    <tr style=\"text-align: right;\">\n",
       "      <th></th>\n",
       "      <th>Text</th>\n",
       "      <th>target</th>\n",
       "      <th>Ground_Truth_Label</th>\n",
       "    </tr>\n",
       "  </thead>\n",
       "  <tbody>\n",
       "    <tr>\n",
       "      <th>0</th>\n",
       "      <td>Rise shining lol mins later planned rush door time</td>\n",
       "      <td>4</td>\n",
       "      <td>positive</td>\n",
       "    </tr>\n",
       "    <tr>\n",
       "      <th>1</th>\n",
       "      <td>2nd interview today looking promising</td>\n",
       "      <td>4</td>\n",
       "      <td>positive</td>\n",
       "    </tr>\n",
       "    <tr>\n",
       "      <th>2</th>\n",
       "      <td>feel pain</td>\n",
       "      <td>0</td>\n",
       "      <td>negative</td>\n",
       "    </tr>\n",
       "    <tr>\n",
       "      <th>3</th>\n",
       "      <td>4yr old son went exploring amp hiking today found Luv amphibians</td>\n",
       "      <td>4</td>\n",
       "      <td>positive</td>\n",
       "    </tr>\n",
       "    <tr>\n",
       "      <th>4</th>\n",
       "      <td>lonely housemates gone pub</td>\n",
       "      <td>0</td>\n",
       "      <td>negative</td>\n",
       "    </tr>\n",
       "  </tbody>\n",
       "</table>\n",
       "</div>"
      ],
      "text/plain": [
       "                                                               Text  target  \\\n",
       "0                Rise shining lol mins later planned rush door time       4   \n",
       "1                             2nd interview today looking promising       4   \n",
       "2                                                         feel pain       0   \n",
       "3  4yr old son went exploring amp hiking today found Luv amphibians       4   \n",
       "4                                        lonely housemates gone pub       0   \n",
       "\n",
       "  Ground_Truth_Label  \n",
       "0           positive  \n",
       "1           positive  \n",
       "2           negative  \n",
       "3           positive  \n",
       "4           negative  "
      ]
     },
     "execution_count": 5,
     "metadata": {},
     "output_type": "execute_result"
    }
   ],
   "source": [
    "df_sentiwordnet_without_stopwords.head()"
   ]
  },
  {
   "cell_type": "markdown",
   "metadata": {},
   "source": [
    "Dieser Classifier bildet den Durchschnitt aller Wortbedeutungen (Lemma), die ein jeweiliges Wort haben kann und achtet somit nicht auf den Kontext, sondern gibt eher einen allgemeinen Durchschnitt der Wortbedeutung als Sentiment-Score an."
   ]
  },
  {
   "cell_type": "code",
   "execution_count": 6,
   "metadata": {},
   "outputs": [
    {
     "data": {
      "text/plain": [
       "Text\n",
       "<class 'str'>      1273589\n",
       "<class 'float'>       6411\n",
       "Name: count, dtype: int64"
      ]
     },
     "execution_count": 6,
     "metadata": {},
     "output_type": "execute_result"
    }
   ],
   "source": [
    "# Check the types of the entries in the 'Text' column\n",
    "df_sentiwordnet_without_stopwords['Text'].apply(type).value_counts()"
   ]
  },
  {
   "cell_type": "code",
   "execution_count": 7,
   "metadata": {},
   "outputs": [],
   "source": [
    "df_sentiwordnet_without_stopwords['Text'] = df_sentiwordnet_without_stopwords['Text'].astype(str)\n"
   ]
  },
  {
   "cell_type": "code",
   "execution_count": 8,
   "metadata": {},
   "outputs": [
    {
     "data": {
      "text/plain": [
       "Text\n",
       "<class 'str'>    1280000\n",
       "Name: count, dtype: int64"
      ]
     },
     "execution_count": 8,
     "metadata": {},
     "output_type": "execute_result"
    }
   ],
   "source": [
    "df_sentiwordnet_without_stopwords['Text'].apply(type).value_counts()"
   ]
  },
  {
   "cell_type": "code",
   "execution_count": 9,
   "metadata": {},
   "outputs": [],
   "source": [
    "def naiveSentiment(review):\n",
    "    reviewPolarity = 0.0\n",
    "    numExceptions = 0\n",
    "    words = review.lower().split()\n",
    "    \n",
    "    for word in words:\n",
    "        numMeanings = 0\n",
    "        weight = 0.0\n",
    "        synsets = list(swn.senti_synsets(word))\n",
    "        if synsets:\n",
    "            for meaning in synsets:\n",
    "                pos_score = meaning.pos_score()\n",
    "                neg_score = meaning.neg_score()\n",
    "                if pos_score > neg_score:\n",
    "                    weight += (pos_score - neg_score)\n",
    "                    numMeanings += 1\n",
    "                elif pos_score < neg_score:\n",
    "                    weight -= (neg_score - pos_score)\n",
    "                    numMeanings += 1\n",
    "        else:\n",
    "            numExceptions += 1\n",
    "        if numMeanings > 0:\n",
    "            reviewPolarity += (weight / numMeanings)\n",
    "    return reviewPolarity"
   ]
  },
  {
   "cell_type": "code",
   "execution_count": 10,
   "metadata": {},
   "outputs": [],
   "source": [
    "df_sentiwordnet_without_stopwords['Sentiwordnet_Classification'] = df_sentiwordnet_without_stopwords['Text'].apply(lambda x: 'positive' if naiveSentiment(x) >= 0 else 'negative')\n"
   ]
  },
  {
   "cell_type": "code",
   "execution_count": 11,
   "metadata": {},
   "outputs": [
    {
     "data": {
      "text/html": [
       "<div>\n",
       "<style scoped>\n",
       "    .dataframe tbody tr th:only-of-type {\n",
       "        vertical-align: middle;\n",
       "    }\n",
       "\n",
       "    .dataframe tbody tr th {\n",
       "        vertical-align: top;\n",
       "    }\n",
       "\n",
       "    .dataframe thead th {\n",
       "        text-align: right;\n",
       "    }\n",
       "</style>\n",
       "<table border=\"1\" class=\"dataframe\">\n",
       "  <thead>\n",
       "    <tr style=\"text-align: right;\">\n",
       "      <th></th>\n",
       "      <th>Text</th>\n",
       "      <th>target</th>\n",
       "      <th>Ground_Truth_Label</th>\n",
       "      <th>Sentiwordnet_Classification</th>\n",
       "    </tr>\n",
       "  </thead>\n",
       "  <tbody>\n",
       "    <tr>\n",
       "      <th>0</th>\n",
       "      <td>Rise shining lol mins later planned rush door time</td>\n",
       "      <td>4</td>\n",
       "      <td>positive</td>\n",
       "      <td>positive</td>\n",
       "    </tr>\n",
       "    <tr>\n",
       "      <th>1</th>\n",
       "      <td>2nd interview today looking promising</td>\n",
       "      <td>4</td>\n",
       "      <td>positive</td>\n",
       "      <td>positive</td>\n",
       "    </tr>\n",
       "    <tr>\n",
       "      <th>2</th>\n",
       "      <td>feel pain</td>\n",
       "      <td>0</td>\n",
       "      <td>negative</td>\n",
       "      <td>negative</td>\n",
       "    </tr>\n",
       "    <tr>\n",
       "      <th>3</th>\n",
       "      <td>4yr old son went exploring amp hiking today found Luv amphibians</td>\n",
       "      <td>4</td>\n",
       "      <td>positive</td>\n",
       "      <td>positive</td>\n",
       "    </tr>\n",
       "    <tr>\n",
       "      <th>4</th>\n",
       "      <td>lonely housemates gone pub</td>\n",
       "      <td>0</td>\n",
       "      <td>negative</td>\n",
       "      <td>negative</td>\n",
       "    </tr>\n",
       "    <tr>\n",
       "      <th>...</th>\n",
       "      <td>...</td>\n",
       "      <td>...</td>\n",
       "      <td>...</td>\n",
       "      <td>...</td>\n",
       "    </tr>\n",
       "    <tr>\n",
       "      <th>1279995</th>\n",
       "      <td>held together bubblegum amp blessings</td>\n",
       "      <td>4</td>\n",
       "      <td>positive</td>\n",
       "      <td>positive</td>\n",
       "    </tr>\n",
       "    <tr>\n",
       "      <th>1279996</th>\n",
       "      <td>Heehee one</td>\n",
       "      <td>4</td>\n",
       "      <td>positive</td>\n",
       "      <td>positive</td>\n",
       "    </tr>\n",
       "    <tr>\n",
       "      <th>1279997</th>\n",
       "      <td>welcome change mind though let know</td>\n",
       "      <td>4</td>\n",
       "      <td>positive</td>\n",
       "      <td>positive</td>\n",
       "    </tr>\n",
       "    <tr>\n",
       "      <th>1279998</th>\n",
       "      <td>BET Bring Backup</td>\n",
       "      <td>4</td>\n",
       "      <td>positive</td>\n",
       "      <td>negative</td>\n",
       "    </tr>\n",
       "    <tr>\n",
       "      <th>1279999</th>\n",
       "      <td>Windows Linux box Installing BSD Apple iPod Yeah</td>\n",
       "      <td>4</td>\n",
       "      <td>positive</td>\n",
       "      <td>positive</td>\n",
       "    </tr>\n",
       "  </tbody>\n",
       "</table>\n",
       "<p>1280000 rows × 4 columns</p>\n",
       "</div>"
      ],
      "text/plain": [
       "                                                                     Text  \\\n",
       "0                      Rise shining lol mins later planned rush door time   \n",
       "1                                   2nd interview today looking promising   \n",
       "2                                                               feel pain   \n",
       "3        4yr old son went exploring amp hiking today found Luv amphibians   \n",
       "4                                              lonely housemates gone pub   \n",
       "...                                                                   ...   \n",
       "1279995                             held together bubblegum amp blessings   \n",
       "1279996                                                        Heehee one   \n",
       "1279997                               welcome change mind though let know   \n",
       "1279998                                                  BET Bring Backup   \n",
       "1279999                  Windows Linux box Installing BSD Apple iPod Yeah   \n",
       "\n",
       "         target Ground_Truth_Label Sentiwordnet_Classification  \n",
       "0             4           positive                    positive  \n",
       "1             4           positive                    positive  \n",
       "2             0           negative                    negative  \n",
       "3             4           positive                    positive  \n",
       "4             0           negative                    negative  \n",
       "...         ...                ...                         ...  \n",
       "1279995       4           positive                    positive  \n",
       "1279996       4           positive                    positive  \n",
       "1279997       4           positive                    positive  \n",
       "1279998       4           positive                    negative  \n",
       "1279999       4           positive                    positive  \n",
       "\n",
       "[1280000 rows x 4 columns]"
      ]
     },
     "execution_count": 11,
     "metadata": {},
     "output_type": "execute_result"
    }
   ],
   "source": [
    "df_sentiwordnet_without_stopwords"
   ]
  },
  {
   "cell_type": "code",
   "execution_count": 12,
   "metadata": {},
   "outputs": [
    {
     "name": "stdout",
     "output_type": "stream",
     "text": [
      "Accuracy: 0.60765703125\n"
     ]
    }
   ],
   "source": [
    "from sklearn.metrics import accuracy_score\n",
    "accuracy = accuracy_score(df_sentiwordnet_without_stopwords['Ground_Truth_Label'], df_sentiwordnet_without_stopwords['Sentiwordnet_Classification'])\n",
    "print(f'Accuracy: {accuracy}')"
   ]
  },
  {
   "cell_type": "code",
   "execution_count": 13,
   "metadata": {},
   "outputs": [],
   "source": [
    "accuracy = accuracy_score(df_sentiwordnet_without_stopwords['Ground_Truth_Label'], df_sentiwordnet_without_stopwords['Sentiwordnet_Classification'])\n",
    "precision = precision_score(df_sentiwordnet_without_stopwords['Ground_Truth_Label'], df_sentiwordnet_without_stopwords['Sentiwordnet_Classification'], pos_label='positive')\n",
    "recall = recall_score(df_sentiwordnet_without_stopwords['Ground_Truth_Label'], df_sentiwordnet_without_stopwords['Sentiwordnet_Classification'], pos_label='positive')\n",
    "f1 = f1_score(df_sentiwordnet_without_stopwords['Ground_Truth_Label'], df_sentiwordnet_without_stopwords['Sentiwordnet_Classification'], pos_label='positive')"
   ]
  },
  {
   "cell_type": "code",
   "execution_count": 14,
   "metadata": {},
   "outputs": [
    {
     "name": "stdout",
     "output_type": "stream",
     "text": [
      "Accuracy: 0.61\n",
      "Precision: 0.58\n",
      "Recall: 0.79\n",
      "F1 Score: 0.67\n"
     ]
    }
   ],
   "source": [
    "print(f'Accuracy: {accuracy:.2f}')\n",
    "print(f'Precision: {precision:.2f}')\n",
    "print(f'Recall: {recall:.2f}')\n",
    "print(f'F1 Score: {f1:.2f}')"
   ]
  },
  {
   "cell_type": "code",
   "execution_count": 15,
   "metadata": {},
   "outputs": [
    {
     "name": "stdout",
     "output_type": "stream",
     "text": [
      "\n",
      "Classification Report:\n",
      "\n",
      "              precision    recall  f1-score   support\n",
      "\n",
      "    negative       0.67      0.43      0.52    640000\n",
      "    positive       0.58      0.79      0.67    640000\n",
      "\n",
      "    accuracy                           0.61   1280000\n",
      "   macro avg       0.62      0.61      0.59   1280000\n",
      "weighted avg       0.62      0.61      0.59   1280000\n",
      "\n"
     ]
    }
   ],
   "source": [
    "print(\"\\nClassification Report:\\n\")\n",
    "print(classification_report(df_sentiwordnet_without_stopwords['Ground_Truth_Label'], df_sentiwordnet_without_stopwords['Sentiwordnet_Classification'], target_names=['negative', 'positive']))"
   ]
  },
  {
   "cell_type": "code",
   "execution_count": 17,
   "metadata": {},
   "outputs": [
    {
     "data": {
      "image/png": "[encoded data removed]",
      "text/plain": [
       "<Figure size 1000x700 with 1 Axes>"
      ]
     },
     "metadata": {},
     "output_type": "display_data"
    }
   ],
   "source": [
    "cm_nb = confusion_matrix(df_sentiwordnet_without_stopwords['Ground_Truth_Label'], df_sentiwordnet_without_stopwords['Sentiwordnet_Classification'])\n",
    "\n",
    "\n",
    "# Erstellen der Heatmap\n",
    "plt.figure(figsize=(10, 7))\n",
    "sns.heatmap(cm_nb, annot=True, fmt='d', cmap='Blues', cbar=False, annot_kws={\"size\": 14})\n",
    "plt.xlabel('Predicted Labels', fontsize=16)\n",
    "plt.ylabel('True Labels', fontsize=16)\n",
    "plt.title('Confusion Matrix for Sentiwordnet without stopwords', fontsize=18)\n",
    "plt.xticks(ticks=[0.5, 1.5], labels=['negative', 'positive'], fontsize=14)\n",
    "plt.yticks(ticks=[0.5, 1.5], labels=['negative', 'positive'], fontsize=14, rotation=0)\n",
    "plt.show()"
   ]
  }
 ],
 "metadata": {
  "kernelspec": {
   "display_name": "venv",
   "language": "python",
   "name": "python3"
  },
  "language_info": {
   "codemirror_mode": {
    "name": "ipython",
    "version": 3
   },
   "file_extension": ".py",
   "mimetype": "text/x-python",
   "name": "python",
   "nbconvert_exporter": "python",
   "pygments_lexer": "ipython3",
   "version": "3.12.3"
  }
 },
 "nbformat": 4,
 "nbformat_minor": 2
}
