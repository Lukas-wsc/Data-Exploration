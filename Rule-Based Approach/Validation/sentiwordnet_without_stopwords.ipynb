{
 "cells": [
  {
   "cell_type": "markdown",
   "metadata": {},
   "source": [
    "# Validating Sentiwordnet with stopword cleaning\n",
    "since this had the best overall performance on test and train-data"
   ]
  },
  {
   "cell_type": "code",
   "execution_count": 1,
   "metadata": {},
   "outputs": [],
   "source": [
    "import pandas as pd # for data processing\n",
    "import matplotlib.pyplot as plt # to create stat and visualize data\n",
    "import matplotlib as mpl # to visualize data\n",
    "import seaborn as sns # to visualize data\n",
    "from sklearn.metrics import * # calculation of metrics for validation purposes \n",
    "import re #regular expressions\n",
    "import nltk # importing nltk\n",
    "from nltk.corpus import stopwords\n",
    "from string import punctuation \n",
    "from nltk.corpus import sentiwordnet as swn"
   ]
  },
  {
   "cell_type": "markdown",
   "metadata": {},
   "source": [
    "setting to show full text content"
   ]
  },
  {
   "cell_type": "code",
   "execution_count": 2,
   "metadata": {},
   "outputs": [],
   "source": [
    "pd.set_option('display.max_colwidth', None)"
   ]
  },
  {
   "cell_type": "markdown",
   "metadata": {},
   "source": [
    "## Loading data"
   ]
  },
  {
   "cell_type": "code",
   "execution_count": 3,
   "metadata": {},
   "outputs": [],
   "source": [
    "df_sentiwordnet_without_stopwords = pd.read_csv('../../Data-Preparation/twitter-corpus/full_corpus_preprocessed.csv')"
   ]
  },
  {
   "cell_type": "code",
   "execution_count": 4,
   "metadata": {},
   "outputs": [
    {
     "data": {
      "text/plain": [
       "Ground_Truth_Label\n",
       "positive    519\n",
       "negative    519\n",
       "Name: count, dtype: int64"
      ]
     },
     "execution_count": 4,
     "metadata": {},
     "output_type": "execute_result"
    }
   ],
   "source": [
    "df_sentiwordnet_without_stopwords['Ground_Truth_Label'].value_counts()"
   ]
  },
  {
   "cell_type": "code",
   "execution_count": 5,
   "metadata": {},
   "outputs": [
    {
     "data": {
      "text/html": [
       "<div>\n",
       "<style scoped>\n",
       "    .dataframe tbody tr th:only-of-type {\n",
       "        vertical-align: middle;\n",
       "    }\n",
       "\n",
       "    .dataframe tbody tr th {\n",
       "        vertical-align: top;\n",
       "    }\n",
       "\n",
       "    .dataframe thead th {\n",
       "        text-align: right;\n",
       "    }\n",
       "</style>\n",
       "<table border=\"1\" class=\"dataframe\">\n",
       "  <thead>\n",
       "    <tr style=\"text-align: right;\">\n",
       "      <th></th>\n",
       "      <th>Ground_Truth_Label</th>\n",
       "      <th>Text</th>\n",
       "      <th>target_number</th>\n",
       "    </tr>\n",
       "  </thead>\n",
       "  <tbody>\n",
       "    <tr>\n",
       "      <th>0</th>\n",
       "      <td>positive</td>\n",
       "      <td>Now all @Apple has to do is get swype on the iphone and it will be crack. Iphone that is</td>\n",
       "      <td>4</td>\n",
       "    </tr>\n",
       "    <tr>\n",
       "      <th>1</th>\n",
       "      <td>positive</td>\n",
       "      <td>@Apple will be adding more carrier support to the iPhone 4S (just announced)</td>\n",
       "      <td>4</td>\n",
       "    </tr>\n",
       "    <tr>\n",
       "      <th>2</th>\n",
       "      <td>positive</td>\n",
       "      <td>Hilarious @youtube video - guy does a duet with @apple 's Siri. Pretty much sums up the love affair! http://t.co/8ExbnQjY</td>\n",
       "      <td>4</td>\n",
       "    </tr>\n",
       "    <tr>\n",
       "      <th>3</th>\n",
       "      <td>positive</td>\n",
       "      <td>@RIM you made it too easy for me to switch to @Apple iPhone. See ya!</td>\n",
       "      <td>4</td>\n",
       "    </tr>\n",
       "    <tr>\n",
       "      <th>4</th>\n",
       "      <td>positive</td>\n",
       "      <td>I just realized that the reason I got into twitter was ios5 thanks @apple</td>\n",
       "      <td>4</td>\n",
       "    </tr>\n",
       "  </tbody>\n",
       "</table>\n",
       "</div>"
      ],
      "text/plain": [
       "  Ground_Truth_Label  \\\n",
       "0           positive   \n",
       "1           positive   \n",
       "2           positive   \n",
       "3           positive   \n",
       "4           positive   \n",
       "\n",
       "                                                                                                                        Text  \\\n",
       "0                                   Now all @Apple has to do is get swype on the iphone and it will be crack. Iphone that is   \n",
       "1                                               @Apple will be adding more carrier support to the iPhone 4S (just announced)   \n",
       "2  Hilarious @youtube video - guy does a duet with @apple 's Siri. Pretty much sums up the love affair! http://t.co/8ExbnQjY   \n",
       "3                                                       @RIM you made it too easy for me to switch to @Apple iPhone. See ya!   \n",
       "4                                                  I just realized that the reason I got into twitter was ios5 thanks @apple   \n",
       "\n",
       "   target_number  \n",
       "0              4  \n",
       "1              4  \n",
       "2              4  \n",
       "3              4  \n",
       "4              4  "
      ]
     },
     "execution_count": 5,
     "metadata": {},
     "output_type": "execute_result"
    }
   ],
   "source": [
    "df_sentiwordnet_without_stopwords.head()"
   ]
  },
  {
   "cell_type": "code",
   "execution_count": 6,
   "metadata": {},
   "outputs": [
    {
     "data": {
      "text/plain": [
       "Text\n",
       "<class 'str'>    1038\n",
       "Name: count, dtype: int64"
      ]
     },
     "execution_count": 6,
     "metadata": {},
     "output_type": "execute_result"
    }
   ],
   "source": [
    "df_sentiwordnet_without_stopwords['Text'].apply(type).value_counts()"
   ]
  },
  {
   "cell_type": "code",
   "execution_count": 7,
   "metadata": {},
   "outputs": [],
   "source": [
    "df_sentiwordnet_without_stopwords['Text'] = df_sentiwordnet_without_stopwords['Text'].astype(str)\n"
   ]
  },
  {
   "cell_type": "code",
   "execution_count": 8,
   "metadata": {},
   "outputs": [
    {
     "data": {
      "text/plain": [
       "Text\n",
       "<class 'str'>    1038\n",
       "Name: count, dtype: int64"
      ]
     },
     "execution_count": 8,
     "metadata": {},
     "output_type": "execute_result"
    }
   ],
   "source": [
    "df_sentiwordnet_without_stopwords['Text'].apply(type).value_counts()"
   ]
  },
  {
   "cell_type": "markdown",
   "metadata": {},
   "source": [
    "stopword cleaning, since it is not yet applied to the validation set"
   ]
  },
  {
   "cell_type": "code",
   "execution_count": 9,
   "metadata": {},
   "outputs": [],
   "source": [
    "def clean_text(text):\n",
    "    stop_words = stopwords.words('english')\n",
    "    text = re.sub(r'[@#]\\w+', ' ', text)  \n",
    "    text = re.sub(r'https?://\\S+', ' ', text)  \n",
    "    text = re.sub(r\"\\b\\w+['’]\\w+\\b\", ' ', text)  \n",
    "    text = re.sub(rf\"[{punctuation}]\", ' ', text)  \n",
    "    words = text.split()  \n",
    "    words = [word for word in words if word.lower() not in stop_words]  \n",
    "    return ' '.join(words)"
   ]
  },
  {
   "cell_type": "code",
   "execution_count": 10,
   "metadata": {},
   "outputs": [],
   "source": [
    "df_sentiwordnet_without_stopwords['Text'] = df_sentiwordnet_without_stopwords['Text'].apply(clean_text)"
   ]
  },
  {
   "cell_type": "markdown",
   "metadata": {},
   "source": [
    "## Classifying sentiments "
   ]
  },
  {
   "cell_type": "markdown",
   "metadata": {},
   "source": [
    "This classifier calculates the average sentiment score of all possible meanings (lemmas) of a word. It doesn't consider the context in which the word is used but instead provides a general average sentiment score based on all its meanings."
   ]
  },
  {
   "cell_type": "code",
   "execution_count": 11,
   "metadata": {},
   "outputs": [],
   "source": [
    "def naiveSentiment(review):\n",
    "    reviewPolarity = 0.0\n",
    "    numExceptions = 0\n",
    "    words = review.lower().split()\n",
    "    \n",
    "    for word in words:\n",
    "        numMeanings = 0\n",
    "        weight = 0.0\n",
    "        synsets = list(swn.senti_synsets(word))\n",
    "        if synsets:\n",
    "            for meaning in synsets:\n",
    "                pos_score = meaning.pos_score()\n",
    "                neg_score = meaning.neg_score()\n",
    "                if pos_score > neg_score:\n",
    "                    weight += (pos_score - neg_score)\n",
    "                    numMeanings += 1\n",
    "                elif pos_score < neg_score:\n",
    "                    weight -= (neg_score - pos_score)\n",
    "                    numMeanings += 1\n",
    "        else:\n",
    "            numExceptions += 1\n",
    "        if numMeanings > 0:\n",
    "            reviewPolarity += (weight / numMeanings)\n",
    "    return reviewPolarity"
   ]
  },
  {
   "cell_type": "code",
   "execution_count": 12,
   "metadata": {},
   "outputs": [],
   "source": [
    "df_sentiwordnet_without_stopwords['Sentiwordnet_Classification'] = df_sentiwordnet_without_stopwords['Text'].apply(lambda x: 'positive' if naiveSentiment(x) >= 0 else 'negative')\n"
   ]
  },
  {
   "cell_type": "code",
   "execution_count": 13,
   "metadata": {},
   "outputs": [
    {
     "data": {
      "text/html": [
       "<div>\n",
       "<style scoped>\n",
       "    .dataframe tbody tr th:only-of-type {\n",
       "        vertical-align: middle;\n",
       "    }\n",
       "\n",
       "    .dataframe tbody tr th {\n",
       "        vertical-align: top;\n",
       "    }\n",
       "\n",
       "    .dataframe thead th {\n",
       "        text-align: right;\n",
       "    }\n",
       "</style>\n",
       "<table border=\"1\" class=\"dataframe\">\n",
       "  <thead>\n",
       "    <tr style=\"text-align: right;\">\n",
       "      <th></th>\n",
       "      <th>Ground_Truth_Label</th>\n",
       "      <th>Text</th>\n",
       "      <th>target_number</th>\n",
       "      <th>Sentiwordnet_Classification</th>\n",
       "    </tr>\n",
       "  </thead>\n",
       "  <tbody>\n",
       "    <tr>\n",
       "      <th>0</th>\n",
       "      <td>positive</td>\n",
       "      <td>get swype iphone crack Iphone</td>\n",
       "      <td>4</td>\n",
       "      <td>positive</td>\n",
       "    </tr>\n",
       "    <tr>\n",
       "      <th>1</th>\n",
       "      <td>positive</td>\n",
       "      <td>adding carrier support iPhone 4S announced</td>\n",
       "      <td>4</td>\n",
       "      <td>positive</td>\n",
       "    </tr>\n",
       "    <tr>\n",
       "      <th>2</th>\n",
       "      <td>positive</td>\n",
       "      <td>Hilarious video guy duet Siri Pretty much sums love affair</td>\n",
       "      <td>4</td>\n",
       "      <td>positive</td>\n",
       "    </tr>\n",
       "    <tr>\n",
       "      <th>3</th>\n",
       "      <td>positive</td>\n",
       "      <td>made easy switch iPhone See ya</td>\n",
       "      <td>4</td>\n",
       "      <td>positive</td>\n",
       "    </tr>\n",
       "    <tr>\n",
       "      <th>4</th>\n",
       "      <td>positive</td>\n",
       "      <td>realized reason got twitter ios5 thanks</td>\n",
       "      <td>4</td>\n",
       "      <td>positive</td>\n",
       "    </tr>\n",
       "    <tr>\n",
       "      <th>...</th>\n",
       "      <td>...</td>\n",
       "      <td>...</td>\n",
       "      <td>...</td>\n",
       "      <td>...</td>\n",
       "    </tr>\n",
       "    <tr>\n",
       "      <th>1033</th>\n",
       "      <td>negative</td>\n",
       "      <td>like criticise Steve Ballmer face face pain suffering products cause</td>\n",
       "      <td>0</td>\n",
       "      <td>negative</td>\n",
       "    </tr>\n",
       "    <tr>\n",
       "      <th>1034</th>\n",
       "      <td>negative</td>\n",
       "      <td>phone pretty much ever since Really annoyed</td>\n",
       "      <td>0</td>\n",
       "      <td>positive</td>\n",
       "    </tr>\n",
       "    <tr>\n",
       "      <th>1035</th>\n",
       "      <td>negative</td>\n",
       "      <td>gave try Windows 8 Dev Preview good UI way messy right waiting Beta</td>\n",
       "      <td>0</td>\n",
       "      <td>positive</td>\n",
       "    </tr>\n",
       "    <tr>\n",
       "      <th>1036</th>\n",
       "      <td>negative</td>\n",
       "      <td>RT iphones r 2 expensive went w htc galaxy customer loyalty w phone comp</td>\n",
       "      <td>0</td>\n",
       "      <td>positive</td>\n",
       "    </tr>\n",
       "    <tr>\n",
       "      <th>1037</th>\n",
       "      <td>negative</td>\n",
       "      <td>Yeah shit happens real whore sometimes</td>\n",
       "      <td>0</td>\n",
       "      <td>negative</td>\n",
       "    </tr>\n",
       "  </tbody>\n",
       "</table>\n",
       "<p>1038 rows × 4 columns</p>\n",
       "</div>"
      ],
      "text/plain": [
       "     Ground_Truth_Label  \\\n",
       "0              positive   \n",
       "1              positive   \n",
       "2              positive   \n",
       "3              positive   \n",
       "4              positive   \n",
       "...                 ...   \n",
       "1033           negative   \n",
       "1034           negative   \n",
       "1035           negative   \n",
       "1036           negative   \n",
       "1037           negative   \n",
       "\n",
       "                                                                          Text  \\\n",
       "0                                                get swype iphone crack Iphone   \n",
       "1                                   adding carrier support iPhone 4S announced   \n",
       "2                   Hilarious video guy duet Siri Pretty much sums love affair   \n",
       "3                                               made easy switch iPhone See ya   \n",
       "4                                      realized reason got twitter ios5 thanks   \n",
       "...                                                                        ...   \n",
       "1033      like criticise Steve Ballmer face face pain suffering products cause   \n",
       "1034                               phone pretty much ever since Really annoyed   \n",
       "1035       gave try Windows 8 Dev Preview good UI way messy right waiting Beta   \n",
       "1036  RT iphones r 2 expensive went w htc galaxy customer loyalty w phone comp   \n",
       "1037                                    Yeah shit happens real whore sometimes   \n",
       "\n",
       "      target_number Sentiwordnet_Classification  \n",
       "0                 4                    positive  \n",
       "1                 4                    positive  \n",
       "2                 4                    positive  \n",
       "3                 4                    positive  \n",
       "4                 4                    positive  \n",
       "...             ...                         ...  \n",
       "1033              0                    negative  \n",
       "1034              0                    positive  \n",
       "1035              0                    positive  \n",
       "1036              0                    positive  \n",
       "1037              0                    negative  \n",
       "\n",
       "[1038 rows x 4 columns]"
      ]
     },
     "execution_count": 13,
     "metadata": {},
     "output_type": "execute_result"
    }
   ],
   "source": [
    "df_sentiwordnet_without_stopwords"
   ]
  },
  {
   "cell_type": "code",
   "execution_count": 14,
   "metadata": {},
   "outputs": [
    {
     "name": "stdout",
     "output_type": "stream",
     "text": [
      "Accuracy: 0.6098265895953757\n"
     ]
    }
   ],
   "source": [
    "from sklearn.metrics import accuracy_score\n",
    "accuracy = accuracy_score(df_sentiwordnet_without_stopwords['Ground_Truth_Label'], df_sentiwordnet_without_stopwords['Sentiwordnet_Classification'])\n",
    "print(f'Accuracy: {accuracy}')"
   ]
  },
  {
   "cell_type": "markdown",
   "metadata": {},
   "source": [
    "## Testing quality of the classifier on validation data"
   ]
  },
  {
   "cell_type": "code",
   "execution_count": 15,
   "metadata": {},
   "outputs": [],
   "source": [
    "accuracy = accuracy_score(df_sentiwordnet_without_stopwords['Ground_Truth_Label'], df_sentiwordnet_without_stopwords['Sentiwordnet_Classification'])\n",
    "precision = precision_score(df_sentiwordnet_without_stopwords['Ground_Truth_Label'], df_sentiwordnet_without_stopwords['Sentiwordnet_Classification'], pos_label='positive')\n",
    "recall = recall_score(df_sentiwordnet_without_stopwords['Ground_Truth_Label'], df_sentiwordnet_without_stopwords['Sentiwordnet_Classification'], pos_label='positive')\n",
    "f1 = f1_score(df_sentiwordnet_without_stopwords['Ground_Truth_Label'], df_sentiwordnet_without_stopwords['Sentiwordnet_Classification'], pos_label='positive')\n",
    "\n",
    "beta = 1 / (2**0.5)\n",
    "f_beta = fbeta_score(df_sentiwordnet_without_stopwords['Ground_Truth_Label'], df_sentiwordnet_without_stopwords['Sentiwordnet_Classification'],beta=beta, pos_label='positive')"
   ]
  },
  {
   "cell_type": "code",
   "execution_count": 16,
   "metadata": {},
   "outputs": [
    {
     "name": "stdout",
     "output_type": "stream",
     "text": [
      "Accuracy: 0.61\n",
      "Precision: 0.58\n",
      "Recall: 0.80\n",
      "F1 Score: 0.67\n",
      "F-beta Score (beta=0.7071067811865475): 0.6381342901076371\n"
     ]
    }
   ],
   "source": [
    "print(f'Accuracy: {accuracy:.2f}')\n",
    "print(f'Precision: {precision:.2f}')\n",
    "print(f'Recall: {recall:.2f}')\n",
    "print(f'F1 Score: {f1:.2f}')\n",
    "\n",
    "print(f\"F-beta Score (beta={beta}): {f_beta}\")\n"
   ]
  },
  {
   "cell_type": "code",
   "execution_count": 17,
   "metadata": {},
   "outputs": [
    {
     "name": "stdout",
     "output_type": "stream",
     "text": [
      "\n",
      "Classification Report:\n",
      "\n",
      "              precision    recall  f1-score   support\n",
      "\n",
      "    negative       0.68      0.42      0.52       519\n",
      "    positive       0.58      0.80      0.67       519\n",
      "\n",
      "    accuracy                           0.61      1038\n",
      "   macro avg       0.63      0.61      0.60      1038\n",
      "weighted avg       0.63      0.61      0.60      1038\n",
      "\n"
     ]
    }
   ],
   "source": [
    "print(\"\\nClassification Report:\\n\")\n",
    "print(classification_report(df_sentiwordnet_without_stopwords['Ground_Truth_Label'], df_sentiwordnet_without_stopwords['Sentiwordnet_Classification'], target_names=['negative', 'positive']))"
   ]
  },
  {
   "cell_type": "markdown",
   "metadata": {},
   "source": [
    "creating heatmap to visualize false positives and false negatives"
   ]
  },
  {
   "cell_type": "code",
   "execution_count": 18,
   "metadata": {},
   "outputs": [
    {
     "data": {
      "image/png": "[encoded data removed]",
      "text/plain": [
       "<Figure size 1000x700 with 1 Axes>"
      ]
     },
     "metadata": {},
     "output_type": "display_data"
    }
   ],
   "source": [
    "cm_nb = confusion_matrix(df_sentiwordnet_without_stopwords['Ground_Truth_Label'], df_sentiwordnet_without_stopwords['Sentiwordnet_Classification'])\n",
    "plt.figure(figsize=(10, 7))\n",
    "sns.heatmap(cm_nb, annot=True, fmt='d', cmap='Blues', cbar=False, annot_kws={\"size\": 14})\n",
    "plt.xlabel('Predicted Labels', fontsize=16)\n",
    "plt.ylabel('True Labels', fontsize=16)\n",
    "plt.title('Confusion Matrix for Sentiwordnet without stopwords', fontsize=18)\n",
    "plt.xticks(ticks=[0.5, 1.5], labels=['negative', 'positive'], fontsize=14)\n",
    "plt.yticks(ticks=[0.5, 1.5], labels=['negative', 'positive'], fontsize=14, rotation=0)\n",
    "plt.show()"
   ]
  }
 ],
 "metadata": {
  "kernelspec": {
   "display_name": "venv",
   "language": "python",
   "name": "python3"
  },
  "language_info": {
   "codemirror_mode": {
    "name": "ipython",
    "version": 3
   },
   "file_extension": ".py",
   "mimetype": "text/x-python",
   "name": "python",
   "nbconvert_exporter": "python",
   "pygments_lexer": "ipython3",
   "version": "3.12.3"
  }
 },
 "nbformat": 4,
 "nbformat_minor": 2
}
