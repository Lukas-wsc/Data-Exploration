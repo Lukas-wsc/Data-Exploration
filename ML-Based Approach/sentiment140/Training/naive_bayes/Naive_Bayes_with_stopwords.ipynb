{
 "cells": [
  {
   "cell_type": "markdown",
   "metadata": {},
   "source": [
    "# Training Naive Bayes without stopword cleaning"
   ]
  },
  {
   "cell_type": "markdown",
   "metadata": {},
   "source": [
    "importing all necessary libraries"
   ]
  },
  {
   "cell_type": "code",
   "execution_count": 67,
   "metadata": {},
   "outputs": [],
   "source": [
    "import pandas as pd\n",
    "import matplotlib.pyplot as plt \n",
    "import seaborn as sns \n",
    "import pickle\n",
    "from sklearn.metrics import *\n",
    "from nltk.classify import NaiveBayesClassifier\n",
    "from nltk.tokenize import word_tokenize"
   ]
  },
  {
   "cell_type": "markdown",
   "metadata": {},
   "source": [
    "setting to show full text content"
   ]
  },
  {
   "cell_type": "code",
   "execution_count": 68,
   "metadata": {},
   "outputs": [],
   "source": [
    "pd.set_option('display.max_colwidth', None)"
   ]
  },
  {
   "cell_type": "markdown",
   "metadata": {},
   "source": [
    "## importing data and feature vector extraction"
   ]
  },
  {
   "cell_type": "code",
   "execution_count": 69,
   "metadata": {},
   "outputs": [],
   "source": [
    "df_naive_bayes_with_stopwords = pd.read_csv('../../../../Data-Preparation/sentiment140/traindata_with_stopwords_preprocessed.csv')"
   ]
  },
  {
   "cell_type": "code",
   "execution_count": 70,
   "metadata": {},
   "outputs": [
    {
     "data": {
      "text/html": [
       "<div>\n",
       "<style scoped>\n",
       "    .dataframe tbody tr th:only-of-type {\n",
       "        vertical-align: middle;\n",
       "    }\n",
       "\n",
       "    .dataframe tbody tr th {\n",
       "        vertical-align: top;\n",
       "    }\n",
       "\n",
       "    .dataframe thead th {\n",
       "        text-align: right;\n",
       "    }\n",
       "</style>\n",
       "<table border=\"1\" class=\"dataframe\">\n",
       "  <thead>\n",
       "    <tr style=\"text-align: right;\">\n",
       "      <th></th>\n",
       "      <th>Text</th>\n",
       "      <th>target</th>\n",
       "      <th>Ground_Truth_Label</th>\n",
       "    </tr>\n",
       "  </thead>\n",
       "  <tbody>\n",
       "    <tr>\n",
       "      <th>0</th>\n",
       "      <td>Rise and shining lol. I'm up a few mins later then planned but no rush i'll be out the door in time</td>\n",
       "      <td>4</td>\n",
       "      <td>positive</td>\n",
       "    </tr>\n",
       "    <tr>\n",
       "      <th>1</th>\n",
       "      <td>Had a 2nd interview today. It's looking promising.</td>\n",
       "      <td>4</td>\n",
       "      <td>positive</td>\n",
       "    </tr>\n",
       "    <tr>\n",
       "      <th>2</th>\n",
       "      <td>@EmilyAlbracht I feel your pain!</td>\n",
       "      <td>0</td>\n",
       "      <td>negative</td>\n",
       "    </tr>\n",
       "    <tr>\n",
       "      <th>3</th>\n",
       "      <td>http://twitpic.com/6sdbj - 4yr old son and I went exploring &amp;amp; hiking today and this is what we found  Luv amphibians!</td>\n",
       "      <td>4</td>\n",
       "      <td>positive</td>\n",
       "    </tr>\n",
       "    <tr>\n",
       "      <th>4</th>\n",
       "      <td>is lonely because all my housemates have gone to the pub</td>\n",
       "      <td>0</td>\n",
       "      <td>negative</td>\n",
       "    </tr>\n",
       "    <tr>\n",
       "      <th>...</th>\n",
       "      <td>...</td>\n",
       "      <td>...</td>\n",
       "      <td>...</td>\n",
       "    </tr>\n",
       "    <tr>\n",
       "      <th>1279995</th>\n",
       "      <td>Being held together by bubblegum &amp;amp; blessings</td>\n",
       "      <td>4</td>\n",
       "      <td>positive</td>\n",
       "    </tr>\n",
       "    <tr>\n",
       "      <th>1279996</th>\n",
       "      <td>Heehee! I was one of them</td>\n",
       "      <td>4</td>\n",
       "      <td>positive</td>\n",
       "    </tr>\n",
       "    <tr>\n",
       "      <th>1279997</th>\n",
       "      <td>@bookwitter your welcome if you change your mind though let me know</td>\n",
       "      <td>4</td>\n",
       "      <td>positive</td>\n",
       "    </tr>\n",
       "    <tr>\n",
       "      <th>1279998</th>\n",
       "      <td>@howcoza YOU BET I WILL  Bring Backup!</td>\n",
       "      <td>4</td>\n",
       "      <td>positive</td>\n",
       "    </tr>\n",
       "    <tr>\n",
       "      <th>1279999</th>\n",
       "      <td>In Windows on a Linux box, Installing BSD to a Apple iPod. Yeah.</td>\n",
       "      <td>4</td>\n",
       "      <td>positive</td>\n",
       "    </tr>\n",
       "  </tbody>\n",
       "</table>\n",
       "<p>1280000 rows × 3 columns</p>\n",
       "</div>"
      ],
      "text/plain": [
       "                                                                                                                              Text  \\\n",
       "0                             Rise and shining lol. I'm up a few mins later then planned but no rush i'll be out the door in time    \n",
       "1                                                                              Had a 2nd interview today. It's looking promising.    \n",
       "2                                                                                                @EmilyAlbracht I feel your pain!    \n",
       "3        http://twitpic.com/6sdbj - 4yr old son and I went exploring &amp; hiking today and this is what we found  Luv amphibians!   \n",
       "4                                                                        is lonely because all my housemates have gone to the pub    \n",
       "...                                                                                                                            ...   \n",
       "1279995                                                                          Being held together by bubblegum &amp; blessings    \n",
       "1279996                                                                                                 Heehee! I was one of them    \n",
       "1279997                                                       @bookwitter your welcome if you change your mind though let me know    \n",
       "1279998                                                                                     @howcoza YOU BET I WILL  Bring Backup!   \n",
       "1279999                                                          In Windows on a Linux box, Installing BSD to a Apple iPod. Yeah.    \n",
       "\n",
       "         target Ground_Truth_Label  \n",
       "0             4           positive  \n",
       "1             4           positive  \n",
       "2             0           negative  \n",
       "3             4           positive  \n",
       "4             0           negative  \n",
       "...         ...                ...  \n",
       "1279995       4           positive  \n",
       "1279996       4           positive  \n",
       "1279997       4           positive  \n",
       "1279998       4           positive  \n",
       "1279999       4           positive  \n",
       "\n",
       "[1280000 rows x 3 columns]"
      ]
     },
     "execution_count": 70,
     "metadata": {},
     "output_type": "execute_result"
    }
   ],
   "source": [
    "df_naive_bayes_with_stopwords"
   ]
  },
  {
   "cell_type": "code",
   "execution_count": 71,
   "metadata": {},
   "outputs": [
    {
     "data": {
      "text/plain": [
       "target\n",
       "4    640000\n",
       "0    640000\n",
       "Name: count, dtype: int64"
      ]
     },
     "execution_count": 71,
     "metadata": {},
     "output_type": "execute_result"
    }
   ],
   "source": [
    "df_naive_bayes_with_stopwords['target'].value_counts()"
   ]
  },
  {
   "cell_type": "markdown",
   "metadata": {},
   "source": [
    "using one-hot encoding for words present in a sentence"
   ]
  },
  {
   "cell_type": "code",
   "execution_count": 72,
   "metadata": {},
   "outputs": [],
   "source": [
    "def extract_features(text):\n",
    "    words = word_tokenize(text)\n",
    "    features = {word.lower(): True for word in words if word.isalpha()}\n",
    "    return features\n",
    "\n"
   ]
  },
  {
   "cell_type": "code",
   "execution_count": 73,
   "metadata": {},
   "outputs": [],
   "source": [
    "df_naive_bayes_with_stopwords['features'] = df_naive_bayes_with_stopwords['Text'].apply(lambda text: extract_features(str(text)))"
   ]
  },
  {
   "cell_type": "code",
   "execution_count": 74,
   "metadata": {},
   "outputs": [
    {
     "data": {
      "text/html": [
       "<div>\n",
       "<style scoped>\n",
       "    .dataframe tbody tr th:only-of-type {\n",
       "        vertical-align: middle;\n",
       "    }\n",
       "\n",
       "    .dataframe tbody tr th {\n",
       "        vertical-align: top;\n",
       "    }\n",
       "\n",
       "    .dataframe thead th {\n",
       "        text-align: right;\n",
       "    }\n",
       "</style>\n",
       "<table border=\"1\" class=\"dataframe\">\n",
       "  <thead>\n",
       "    <tr style=\"text-align: right;\">\n",
       "      <th></th>\n",
       "      <th>Text</th>\n",
       "      <th>target</th>\n",
       "      <th>Ground_Truth_Label</th>\n",
       "      <th>features</th>\n",
       "    </tr>\n",
       "  </thead>\n",
       "  <tbody>\n",
       "    <tr>\n",
       "      <th>0</th>\n",
       "      <td>Rise and shining lol. I'm up a few mins later then planned but no rush i'll be out the door in time</td>\n",
       "      <td>4</td>\n",
       "      <td>positive</td>\n",
       "      <td>{'rise': True, 'and': True, 'shining': True, 'lol': True, 'i': True, 'up': True, 'a': True, 'few': True, 'mins': True, 'later': True, 'then': True, 'planned': True, 'but': True, 'no': True, 'rush': True, 'be': True, 'out': True, 'the': True, 'door': True, 'in': True, 'time': True}</td>\n",
       "    </tr>\n",
       "    <tr>\n",
       "      <th>1</th>\n",
       "      <td>Had a 2nd interview today. It's looking promising.</td>\n",
       "      <td>4</td>\n",
       "      <td>positive</td>\n",
       "      <td>{'had': True, 'a': True, 'interview': True, 'today': True, 'it': True, 'looking': True, 'promising': True}</td>\n",
       "    </tr>\n",
       "    <tr>\n",
       "      <th>2</th>\n",
       "      <td>@EmilyAlbracht I feel your pain!</td>\n",
       "      <td>0</td>\n",
       "      <td>negative</td>\n",
       "      <td>{'emilyalbracht': True, 'i': True, 'feel': True, 'your': True, 'pain': True}</td>\n",
       "    </tr>\n",
       "    <tr>\n",
       "      <th>3</th>\n",
       "      <td>http://twitpic.com/6sdbj - 4yr old son and I went exploring &amp;amp; hiking today and this is what we found  Luv amphibians!</td>\n",
       "      <td>4</td>\n",
       "      <td>positive</td>\n",
       "      <td>{'http': True, 'old': True, 'son': True, 'and': True, 'i': True, 'went': True, 'exploring': True, 'amp': True, 'hiking': True, 'today': True, 'this': True, 'is': True, 'what': True, 'we': True, 'found': True, 'luv': True, 'amphibians': True}</td>\n",
       "    </tr>\n",
       "    <tr>\n",
       "      <th>4</th>\n",
       "      <td>is lonely because all my housemates have gone to the pub</td>\n",
       "      <td>0</td>\n",
       "      <td>negative</td>\n",
       "      <td>{'is': True, 'lonely': True, 'because': True, 'all': True, 'my': True, 'housemates': True, 'have': True, 'gone': True, 'to': True, 'the': True, 'pub': True}</td>\n",
       "    </tr>\n",
       "    <tr>\n",
       "      <th>...</th>\n",
       "      <td>...</td>\n",
       "      <td>...</td>\n",
       "      <td>...</td>\n",
       "      <td>...</td>\n",
       "    </tr>\n",
       "    <tr>\n",
       "      <th>1279995</th>\n",
       "      <td>Being held together by bubblegum &amp;amp; blessings</td>\n",
       "      <td>4</td>\n",
       "      <td>positive</td>\n",
       "      <td>{'being': True, 'held': True, 'together': True, 'by': True, 'bubblegum': True, 'amp': True, 'blessings': True}</td>\n",
       "    </tr>\n",
       "    <tr>\n",
       "      <th>1279996</th>\n",
       "      <td>Heehee! I was one of them</td>\n",
       "      <td>4</td>\n",
       "      <td>positive</td>\n",
       "      <td>{'heehee': True, 'i': True, 'was': True, 'one': True, 'of': True, 'them': True}</td>\n",
       "    </tr>\n",
       "    <tr>\n",
       "      <th>1279997</th>\n",
       "      <td>@bookwitter your welcome if you change your mind though let me know</td>\n",
       "      <td>4</td>\n",
       "      <td>positive</td>\n",
       "      <td>{'bookwitter': True, 'your': True, 'welcome': True, 'if': True, 'you': True, 'change': True, 'mind': True, 'though': True, 'let': True, 'me': True, 'know': True}</td>\n",
       "    </tr>\n",
       "    <tr>\n",
       "      <th>1279998</th>\n",
       "      <td>@howcoza YOU BET I WILL  Bring Backup!</td>\n",
       "      <td>4</td>\n",
       "      <td>positive</td>\n",
       "      <td>{'howcoza': True, 'you': True, 'bet': True, 'i': True, 'will': True, 'bring': True, 'backup': True}</td>\n",
       "    </tr>\n",
       "    <tr>\n",
       "      <th>1279999</th>\n",
       "      <td>In Windows on a Linux box, Installing BSD to a Apple iPod. Yeah.</td>\n",
       "      <td>4</td>\n",
       "      <td>positive</td>\n",
       "      <td>{'in': True, 'windows': True, 'on': True, 'a': True, 'linux': True, 'box': True, 'installing': True, 'bsd': True, 'to': True, 'apple': True, 'ipod': True, 'yeah': True}</td>\n",
       "    </tr>\n",
       "  </tbody>\n",
       "</table>\n",
       "<p>1280000 rows × 4 columns</p>\n",
       "</div>"
      ],
      "text/plain": [
       "                                                                                                                              Text  \\\n",
       "0                             Rise and shining lol. I'm up a few mins later then planned but no rush i'll be out the door in time    \n",
       "1                                                                              Had a 2nd interview today. It's looking promising.    \n",
       "2                                                                                                @EmilyAlbracht I feel your pain!    \n",
       "3        http://twitpic.com/6sdbj - 4yr old son and I went exploring &amp; hiking today and this is what we found  Luv amphibians!   \n",
       "4                                                                        is lonely because all my housemates have gone to the pub    \n",
       "...                                                                                                                            ...   \n",
       "1279995                                                                          Being held together by bubblegum &amp; blessings    \n",
       "1279996                                                                                                 Heehee! I was one of them    \n",
       "1279997                                                       @bookwitter your welcome if you change your mind though let me know    \n",
       "1279998                                                                                     @howcoza YOU BET I WILL  Bring Backup!   \n",
       "1279999                                                          In Windows on a Linux box, Installing BSD to a Apple iPod. Yeah.    \n",
       "\n",
       "         target Ground_Truth_Label  \\\n",
       "0             4           positive   \n",
       "1             4           positive   \n",
       "2             0           negative   \n",
       "3             4           positive   \n",
       "4             0           negative   \n",
       "...         ...                ...   \n",
       "1279995       4           positive   \n",
       "1279996       4           positive   \n",
       "1279997       4           positive   \n",
       "1279998       4           positive   \n",
       "1279999       4           positive   \n",
       "\n",
       "                                                                                                                                                                                                                                                                                          features  \n",
       "0        {'rise': True, 'and': True, 'shining': True, 'lol': True, 'i': True, 'up': True, 'a': True, 'few': True, 'mins': True, 'later': True, 'then': True, 'planned': True, 'but': True, 'no': True, 'rush': True, 'be': True, 'out': True, 'the': True, 'door': True, 'in': True, 'time': True}  \n",
       "1                                                                                                                                                                                       {'had': True, 'a': True, 'interview': True, 'today': True, 'it': True, 'looking': True, 'promising': True}  \n",
       "2                                                                                                                                                                                                                     {'emilyalbracht': True, 'i': True, 'feel': True, 'your': True, 'pain': True}  \n",
       "3                                                {'http': True, 'old': True, 'son': True, 'and': True, 'i': True, 'went': True, 'exploring': True, 'amp': True, 'hiking': True, 'today': True, 'this': True, 'is': True, 'what': True, 'we': True, 'found': True, 'luv': True, 'amphibians': True}  \n",
       "4                                                                                                                                     {'is': True, 'lonely': True, 'because': True, 'all': True, 'my': True, 'housemates': True, 'have': True, 'gone': True, 'to': True, 'the': True, 'pub': True}  \n",
       "...                                                                                                                                                                                                                                                                                            ...  \n",
       "1279995                                                                                                                                                                             {'being': True, 'held': True, 'together': True, 'by': True, 'bubblegum': True, 'amp': True, 'blessings': True}  \n",
       "1279996                                                                                                                                                                                                            {'heehee': True, 'i': True, 'was': True, 'one': True, 'of': True, 'them': True}  \n",
       "1279997                                                                                                                          {'bookwitter': True, 'your': True, 'welcome': True, 'if': True, 'you': True, 'change': True, 'mind': True, 'though': True, 'let': True, 'me': True, 'know': True}  \n",
       "1279998                                                                                                                                                                                        {'howcoza': True, 'you': True, 'bet': True, 'i': True, 'will': True, 'bring': True, 'backup': True}  \n",
       "1279999                                                                                                                   {'in': True, 'windows': True, 'on': True, 'a': True, 'linux': True, 'box': True, 'installing': True, 'bsd': True, 'to': True, 'apple': True, 'ipod': True, 'yeah': True}  \n",
       "\n",
       "[1280000 rows x 4 columns]"
      ]
     },
     "execution_count": 74,
     "metadata": {},
     "output_type": "execute_result"
    }
   ],
   "source": [
    "df_naive_bayes_with_stopwords"
   ]
  },
  {
   "cell_type": "markdown",
   "metadata": {},
   "source": [
    "## Training of the classifier"
   ]
  },
  {
   "cell_type": "markdown",
   "metadata": {},
   "source": [
    "Bernoulli Naive Bayes\n",
    "\n",
    "Based on the presence of a word rather than its frequency.\n",
    "\n",
    "The frequency of a word is important only across all tweets and not within an individual tweet. For example, in a single tweet, whether \"good\" appears once or twice does not matter; only its presence is significant.\n",
    "\n",
    "In the classifier used here, the absence of a feature (word) is already accounted for by counting the number of missing values (None) and incorporating this into the probability distribution. This correctly handles the absence of a word, and a feature vector (dictionary) with True values for present words is sufficient."
   ]
  },
  {
   "cell_type": "markdown",
   "metadata": {},
   "source": [
    "the data that's used to train the vector gets created by zipping the feature and the label together"
   ]
  },
  {
   "cell_type": "code",
   "execution_count": 75,
   "metadata": {},
   "outputs": [],
   "source": [
    "data = list(zip(df_naive_bayes_with_stopwords['features'], df_naive_bayes_with_stopwords['Ground_Truth_Label']))"
   ]
  },
  {
   "cell_type": "code",
   "execution_count": 76,
   "metadata": {},
   "outputs": [
    {
     "name": "stdout",
     "output_type": "stream",
     "text": [
      "({'rise': True, 'and': True, 'shining': True, 'lol': True, 'i': True, 'up': True, 'a': True, 'few': True, 'mins': True, 'later': True, 'then': True, 'planned': True, 'but': True, 'no': True, 'rush': True, 'be': True, 'out': True, 'the': True, 'door': True, 'in': True, 'time': True}, 'positive')\n"
     ]
    }
   ],
   "source": [
    "print(data[0])"
   ]
  },
  {
   "cell_type": "code",
   "execution_count": 77,
   "metadata": {},
   "outputs": [],
   "source": [
    "classifier = NaiveBayesClassifier.train(data)"
   ]
  },
  {
   "cell_type": "markdown",
   "metadata": {},
   "source": [
    "the prediction of the classifier gets added to the dataframe as a column"
   ]
  },
  {
   "cell_type": "code",
   "execution_count": 78,
   "metadata": {},
   "outputs": [],
   "source": [
    "df_naive_bayes_with_stopwords['Prediction'] = df_naive_bayes_with_stopwords['features'].apply(classifier.classify)"
   ]
  },
  {
   "cell_type": "code",
   "execution_count": 79,
   "metadata": {},
   "outputs": [
    {
     "data": {
      "text/html": [
       "<div>\n",
       "<style scoped>\n",
       "    .dataframe tbody tr th:only-of-type {\n",
       "        vertical-align: middle;\n",
       "    }\n",
       "\n",
       "    .dataframe tbody tr th {\n",
       "        vertical-align: top;\n",
       "    }\n",
       "\n",
       "    .dataframe thead th {\n",
       "        text-align: right;\n",
       "    }\n",
       "</style>\n",
       "<table border=\"1\" class=\"dataframe\">\n",
       "  <thead>\n",
       "    <tr style=\"text-align: right;\">\n",
       "      <th></th>\n",
       "      <th>Text</th>\n",
       "      <th>target</th>\n",
       "      <th>Ground_Truth_Label</th>\n",
       "      <th>features</th>\n",
       "      <th>Prediction</th>\n",
       "    </tr>\n",
       "  </thead>\n",
       "  <tbody>\n",
       "    <tr>\n",
       "      <th>0</th>\n",
       "      <td>Rise and shining lol. I'm up a few mins later then planned but no rush i'll be out the door in time</td>\n",
       "      <td>4</td>\n",
       "      <td>positive</td>\n",
       "      <td>{'rise': True, 'and': True, 'shining': True, 'lol': True, 'i': True, 'up': True, 'a': True, 'few': True, 'mins': True, 'later': True, 'then': True, 'planned': True, 'but': True, 'no': True, 'rush': True, 'be': True, 'out': True, 'the': True, 'door': True, 'in': True, 'time': True}</td>\n",
       "      <td>negative</td>\n",
       "    </tr>\n",
       "    <tr>\n",
       "      <th>1</th>\n",
       "      <td>Had a 2nd interview today. It's looking promising.</td>\n",
       "      <td>4</td>\n",
       "      <td>positive</td>\n",
       "      <td>{'had': True, 'a': True, 'interview': True, 'today': True, 'it': True, 'looking': True, 'promising': True}</td>\n",
       "      <td>positive</td>\n",
       "    </tr>\n",
       "    <tr>\n",
       "      <th>2</th>\n",
       "      <td>@EmilyAlbracht I feel your pain!</td>\n",
       "      <td>0</td>\n",
       "      <td>negative</td>\n",
       "      <td>{'emilyalbracht': True, 'i': True, 'feel': True, 'your': True, 'pain': True}</td>\n",
       "      <td>negative</td>\n",
       "    </tr>\n",
       "    <tr>\n",
       "      <th>3</th>\n",
       "      <td>http://twitpic.com/6sdbj - 4yr old son and I went exploring &amp;amp; hiking today and this is what we found  Luv amphibians!</td>\n",
       "      <td>4</td>\n",
       "      <td>positive</td>\n",
       "      <td>{'http': True, 'old': True, 'son': True, 'and': True, 'i': True, 'went': True, 'exploring': True, 'amp': True, 'hiking': True, 'today': True, 'this': True, 'is': True, 'what': True, 'we': True, 'found': True, 'luv': True, 'amphibians': True}</td>\n",
       "      <td>positive</td>\n",
       "    </tr>\n",
       "    <tr>\n",
       "      <th>4</th>\n",
       "      <td>is lonely because all my housemates have gone to the pub</td>\n",
       "      <td>0</td>\n",
       "      <td>negative</td>\n",
       "      <td>{'is': True, 'lonely': True, 'because': True, 'all': True, 'my': True, 'housemates': True, 'have': True, 'gone': True, 'to': True, 'the': True, 'pub': True}</td>\n",
       "      <td>negative</td>\n",
       "    </tr>\n",
       "  </tbody>\n",
       "</table>\n",
       "</div>"
      ],
      "text/plain": [
       "                                                                                                                        Text  \\\n",
       "0                       Rise and shining lol. I'm up a few mins later then planned but no rush i'll be out the door in time    \n",
       "1                                                                        Had a 2nd interview today. It's looking promising.    \n",
       "2                                                                                          @EmilyAlbracht I feel your pain!    \n",
       "3  http://twitpic.com/6sdbj - 4yr old son and I went exploring &amp; hiking today and this is what we found  Luv amphibians!   \n",
       "4                                                                  is lonely because all my housemates have gone to the pub    \n",
       "\n",
       "   target Ground_Truth_Label  \\\n",
       "0       4           positive   \n",
       "1       4           positive   \n",
       "2       0           negative   \n",
       "3       4           positive   \n",
       "4       0           negative   \n",
       "\n",
       "                                                                                                                                                                                                                                                                                    features  \\\n",
       "0  {'rise': True, 'and': True, 'shining': True, 'lol': True, 'i': True, 'up': True, 'a': True, 'few': True, 'mins': True, 'later': True, 'then': True, 'planned': True, 'but': True, 'no': True, 'rush': True, 'be': True, 'out': True, 'the': True, 'door': True, 'in': True, 'time': True}   \n",
       "1                                                                                                                                                                                 {'had': True, 'a': True, 'interview': True, 'today': True, 'it': True, 'looking': True, 'promising': True}   \n",
       "2                                                                                                                                                                                                               {'emilyalbracht': True, 'i': True, 'feel': True, 'your': True, 'pain': True}   \n",
       "3                                          {'http': True, 'old': True, 'son': True, 'and': True, 'i': True, 'went': True, 'exploring': True, 'amp': True, 'hiking': True, 'today': True, 'this': True, 'is': True, 'what': True, 'we': True, 'found': True, 'luv': True, 'amphibians': True}   \n",
       "4                                                                                                                               {'is': True, 'lonely': True, 'because': True, 'all': True, 'my': True, 'housemates': True, 'have': True, 'gone': True, 'to': True, 'the': True, 'pub': True}   \n",
       "\n",
       "  Prediction  \n",
       "0   negative  \n",
       "1   positive  \n",
       "2   negative  \n",
       "3   positive  \n",
       "4   negative  "
      ]
     },
     "execution_count": 79,
     "metadata": {},
     "output_type": "execute_result"
    }
   ],
   "source": [
    "df_naive_bayes_with_stopwords.head()"
   ]
  },
  {
   "cell_type": "markdown",
   "metadata": {},
   "source": [
    "showing words with biggest influence on the prediction"
   ]
  },
  {
   "cell_type": "code",
   "execution_count": 80,
   "metadata": {},
   "outputs": [
    {
     "name": "stdout",
     "output_type": "stream",
     "text": [
      "Most Informative Features\n",
      "                    sadd = True           negati : positi =     55.0 : 1.0\n",
      "                  ouchie = True           negati : positi =     54.3 : 1.0\n",
      "                  farrah = True           negati : positi =     44.8 : 1.0\n",
      "                 sadface = True           negati : positi =     44.2 : 1.0\n",
      "             shareholder = True           positi : negati =     42.3 : 1.0\n",
      "                saddened = True           negati : positi =     39.0 : 1.0\n",
      "                  triste = True           negati : positi =     36.3 : 1.0\n",
      "                 unloved = True           negati : positi =     36.2 : 1.0\n",
      "                 saddens = True           negati : positi =     32.6 : 1.0\n",
      "                fuzzball = True           positi : negati =     31.8 : 1.0\n"
     ]
    }
   ],
   "source": [
    "classifier.show_most_informative_features(10)"
   ]
  },
  {
   "cell_type": "markdown",
   "metadata": {},
   "source": [
    "## Testing quality of the classifier on training data"
   ]
  },
  {
   "cell_type": "markdown",
   "metadata": {},
   "source": [
    "calculating metrics to quanitfy the quality of the model"
   ]
  },
  {
   "cell_type": "code",
   "execution_count": 86,
   "metadata": {},
   "outputs": [],
   "source": [
    "accuracy = accuracy_score(df_naive_bayes_with_stopwords['Ground_Truth_Label'], df_naive_bayes_with_stopwords['Prediction'])\n",
    "precision = precision_score(df_naive_bayes_with_stopwords['Ground_Truth_Label'], df_naive_bayes_with_stopwords['Prediction'], pos_label='positive')\n",
    "recall = recall_score(df_naive_bayes_with_stopwords['Ground_Truth_Label'], df_naive_bayes_with_stopwords['Prediction'], pos_label='positive')\n",
    "f1 = f1_score(df_naive_bayes_with_stopwords['Ground_Truth_Label'], df_naive_bayes_with_stopwords['Prediction'], pos_label='positive')\n",
    "\n",
    "beta = 1 / (2**0.5)\n",
    "f_beta = fbeta_score(df_naive_bayes_with_stopwords['Ground_Truth_Label'], df_naive_bayes_with_stopwords['Prediction'], beta=beta, pos_label='positive')"
   ]
  },
  {
   "cell_type": "code",
   "execution_count": 87,
   "metadata": {},
   "outputs": [
    {
     "name": "stdout",
     "output_type": "stream",
     "text": [
      "Accuracy: 0.82\n",
      "Precision: 0.90\n",
      "Recall: 0.72\n",
      "F1 Score: 0.80\n",
      "F-beta Score (beta=0.7071067811865475): 0.8319689408543066\n"
     ]
    }
   ],
   "source": [
    "print(f'Accuracy: {accuracy:.2f}')\n",
    "print(f'Precision: {precision:.2f}')\n",
    "print(f'Recall: {recall:.2f}')\n",
    "print(f'F1 Score: {f1:.2f}')\n",
    "print(f\"F-beta Score (beta={beta}): {f_beta}\")"
   ]
  },
  {
   "cell_type": "code",
   "execution_count": 83,
   "metadata": {},
   "outputs": [
    {
     "name": "stdout",
     "output_type": "stream",
     "text": [
      "\n",
      "Classification Report:\n",
      "\n",
      "              precision    recall  f1-score   support\n",
      "\n",
      "    negative       0.77      0.92      0.84    640000\n",
      "    positive       0.90      0.72      0.80    640000\n",
      "\n",
      "    accuracy                           0.82   1280000\n",
      "   macro avg       0.83      0.82      0.82   1280000\n",
      "weighted avg       0.83      0.82      0.82   1280000\n",
      "\n"
     ]
    }
   ],
   "source": [
    "print(\"\\nClassification Report:\\n\")\n",
    "print(classification_report(df_naive_bayes_with_stopwords['Ground_Truth_Label'], df_naive_bayes_with_stopwords['Prediction'], target_names=['negative', 'positive']))"
   ]
  },
  {
   "cell_type": "markdown",
   "metadata": {},
   "source": [
    "creating heatmap to visualize false positives and false negatives"
   ]
  },
  {
   "cell_type": "code",
   "execution_count": 84,
   "metadata": {},
   "outputs": [
    {
     "data": {
      "image/png": "[encoded data removed]",
      "text/plain": [
       "<Figure size 1000x700 with 1 Axes>"
      ]
     },
     "metadata": {},
     "output_type": "display_data"
    }
   ],
   "source": [
    "cm_nb = confusion_matrix(df_naive_bayes_with_stopwords['Ground_Truth_Label'], df_naive_bayes_with_stopwords['Prediction'])\n",
    "plt.figure(figsize=(10, 7))\n",
    "sns.heatmap(cm_nb, annot=True, fmt='d', cmap='Blues', cbar=False, annot_kws={\"size\": 14})\n",
    "plt.xlabel('Predicted Labels', fontsize=16)\n",
    "plt.ylabel('True Labels', fontsize=16)\n",
    "plt.title('Confusion Matrix for Naive Bayes Classifier', fontsize=18)\n",
    "plt.xticks(ticks=[0.5, 1.5], labels=['negative', 'positive'], fontsize=14)\n",
    "plt.yticks(ticks=[0.5, 1.5], labels=['negative', 'positive'], fontsize=14, rotation=0)\n",
    "plt.show()"
   ]
  },
  {
   "cell_type": "markdown",
   "metadata": {},
   "source": [
    "## Exporting classifier"
   ]
  },
  {
   "cell_type": "code",
   "execution_count": 85,
   "metadata": {},
   "outputs": [],
   "source": [
    "with open('naive_bayes_with_stopwords_classifier.pkl', 'wb') as file:\n",
    "    pickle.dump(classifier, file)"
   ]
  }
 ],
 "metadata": {
  "kernelspec": {
   "display_name": "venv",
   "language": "python",
   "name": "python3"
  },
  "language_info": {
   "codemirror_mode": {
    "name": "ipython",
    "version": 3
   },
   "file_extension": ".py",
   "mimetype": "text/x-python",
   "name": "python",
   "nbconvert_exporter": "python",
   "pygments_lexer": "ipython3",
   "version": "3.12.4"
  }
 },
 "nbformat": 4,
 "nbformat_minor": 2
}
