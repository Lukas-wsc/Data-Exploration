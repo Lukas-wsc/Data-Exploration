{
 "cells": [
  {
   "cell_type": "markdown",
   "metadata": {},
   "source": [
    "# Text Classification with XGBoost - Testing Without Stopwords"
   ]
  },
  {
   "cell_type": "code",
   "execution_count": 15,
   "metadata": {},
   "outputs": [],
   "source": [
    "import numpy as np # for array, linear algebra\n",
    "import pandas as pd # for data processing\n",
    "import matplotlib as mpl  # to visualize data\n",
    "import matplotlib.pyplot as plt # to crreate stat and visualize data\n",
    "import matplotlib.colors as mcolors # to visualize colors\n",
    "import seaborn as sns # to visualize data\n",
    "from sklearn.feature_extraction.text import TfidfVectorizer # to transfrom the text into numbers\n",
    "from sklearn.metrics import * # to calculate the metrics\n",
    "import pickle\n",
    "import xgboost as xgb# used model"
   ]
  },
  {
   "cell_type": "code",
   "execution_count": 16,
   "metadata": {},
   "outputs": [
    {
     "name": "stdout",
     "output_type": "stream",
     "text": [
      "XGBClassifier(base_score=None, booster=None, boosting_type='dart',\n",
      "              callbacks=None, colsample_bylevel=None, colsample_bynode=None,\n",
      "              colsample_bytree=None, device=None, early_stopping_rounds=None,\n",
      "              enable_categorical=False, eta=0.2, eval_metric=None,\n",
      "              feature_types=None, gamma=None, grow_policy=None,\n",
      "              importance_type=None, interaction_constraints=None,\n",
      "              learning_rate=None, max_bin=None, max_cat_threshold=None,\n",
      "              max_cat_to_onehot=None, max_delta_step=None, max_depth=7,\n",
      "              max_leaves=None, min_child_weight=None, missing=nan,\n",
      "              monotone_constraints=None, multi_strategy=None, n_estimators=None,\n",
      "              n_jobs=None, ...)\n",
      "TfidfVectorizer()\n"
     ]
    }
   ],
   "source": [
    "# Load the classifier from the file\n",
    "with open('../../Training/XGBoost/XGBoost_without_stopwords.pkl', 'rb') as file:\n",
    "    classifier = pickle.load(file)\n",
    "\n",
    "# Check if the classifier is loaded correctly\n",
    "print(classifier)\n",
    "\n",
    "# load the vectorizer from file\n",
    "with open('../../../Data-Preparation/sentiment140/tfidf_vectorizer.pkl', 'rb') as f:\n",
    "    loaded_vectorizer = pickle.load(f)\n",
    "print(loaded_vectorizer)"
   ]
  },
  {
   "cell_type": "code",
   "execution_count": 17,
   "metadata": {},
   "outputs": [],
   "source": [
    "test_no_stop = pd.read_csv('../../../Data-Preparation/sentiment140/testdata_with_stopwords_preprocessed.csv')"
   ]
  },
  {
   "cell_type": "code",
   "execution_count": 18,
   "metadata": {},
   "outputs": [
    {
     "data": {
      "text/html": [
       "<div>\n",
       "<style scoped>\n",
       "    .dataframe tbody tr th:only-of-type {\n",
       "        vertical-align: middle;\n",
       "    }\n",
       "\n",
       "    .dataframe tbody tr th {\n",
       "        vertical-align: top;\n",
       "    }\n",
       "\n",
       "    .dataframe thead th {\n",
       "        text-align: right;\n",
       "    }\n",
       "</style>\n",
       "<table border=\"1\" class=\"dataframe\">\n",
       "  <thead>\n",
       "    <tr style=\"text-align: right;\">\n",
       "      <th></th>\n",
       "      <th>Text</th>\n",
       "      <th>Ground_Truth_Label</th>\n",
       "      <th>target</th>\n",
       "    </tr>\n",
       "  </thead>\n",
       "  <tbody>\n",
       "    <tr>\n",
       "      <th>0</th>\n",
       "      <td>would like to have even a little bit of time o...</td>\n",
       "      <td>negative</td>\n",
       "      <td>0</td>\n",
       "    </tr>\n",
       "    <tr>\n",
       "      <th>1</th>\n",
       "      <td>Looking forward to keeping in touch with Naomi...</td>\n",
       "      <td>positive</td>\n",
       "      <td>4</td>\n",
       "    </tr>\n",
       "    <tr>\n",
       "      <th>2</th>\n",
       "      <td>@NBATVAndre No, in Germany the NBA has no airt...</td>\n",
       "      <td>negative</td>\n",
       "      <td>0</td>\n",
       "    </tr>\n",
       "    <tr>\n",
       "      <th>3</th>\n",
       "      <td>@AliChemist Your future self's in trouble, the...</td>\n",
       "      <td>positive</td>\n",
       "      <td>4</td>\n",
       "    </tr>\n",
       "    <tr>\n",
       "      <th>4</th>\n",
       "      <td>@remco_dekker did you know there is a reason w...</td>\n",
       "      <td>positive</td>\n",
       "      <td>4</td>\n",
       "    </tr>\n",
       "  </tbody>\n",
       "</table>\n",
       "</div>"
      ],
      "text/plain": [
       "                                                Text Ground_Truth_Label  \\\n",
       "0  would like to have even a little bit of time o...           negative   \n",
       "1  Looking forward to keeping in touch with Naomi...           positive   \n",
       "2  @NBATVAndre No, in Germany the NBA has no airt...           negative   \n",
       "3  @AliChemist Your future self's in trouble, the...           positive   \n",
       "4  @remco_dekker did you know there is a reason w...           positive   \n",
       "\n",
       "   target  \n",
       "0       0  \n",
       "1       4  \n",
       "2       0  \n",
       "3       4  \n",
       "4       4  "
      ]
     },
     "execution_count": 18,
     "metadata": {},
     "output_type": "execute_result"
    }
   ],
   "source": [
    "test_no_stop.head()"
   ]
  },
  {
   "cell_type": "code",
   "execution_count": 19,
   "metadata": {},
   "outputs": [],
   "source": [
    "# extraction of feature and labels\n",
    "test_no_stop['target'] = test_no_stop['target'].replace(4,1)\n",
    "X_test_no_stop = test_no_stop.drop(['target'], axis=1).copy()\n",
    "Y_test_no_stop = test_no_stop['target'].copy()"
   ]
  },
  {
   "cell_type": "markdown",
   "metadata": {},
   "source": [
    "### Vectorization of the Data\n",
    "\n",
    "Vectorization is a necessary step, as machine learning models are only capable of processing numerical data. "
   ]
  },
  {
   "cell_type": "code",
   "execution_count": 20,
   "metadata": {},
   "outputs": [],
   "source": [
    "X_testing_no_stop = loaded_vectorizer.transform(X_test_no_stop['Text'].astype(str))"
   ]
  },
  {
   "cell_type": "code",
   "execution_count": 21,
   "metadata": {},
   "outputs": [],
   "source": [
    "# Predict using imported classifier and vectorized test data\n",
    "predictions_no_stop = classifier.predict(X_testing_no_stop)"
   ]
  },
  {
   "cell_type": "code",
   "execution_count": 22,
   "metadata": {},
   "outputs": [
    {
     "name": "stdout",
     "output_type": "stream",
     "text": [
      "Accuracy: 72.49%\n"
     ]
    }
   ],
   "source": [
    "accuracy = accuracy_score(Y_test_no_stop, predictions_no_stop)\n",
    "print(\"Accuracy: {:.2f}%\".format(accuracy * 100))"
   ]
  },
  {
   "cell_type": "markdown",
   "metadata": {},
   "source": [
    "## Evaluation"
   ]
  },
  {
   "cell_type": "code",
   "execution_count": null,
   "metadata": {},
   "outputs": [],
   "source": [
    "beta = 1 / (2**0.5) # used for model evaluation"
   ]
  },
  {
   "cell_type": "code",
   "execution_count": 1,
   "metadata": {},
   "outputs": [
    {
     "ename": "NameError",
     "evalue": "name 'accuracy_score' is not defined",
     "output_type": "error",
     "traceback": [
      "\u001b[0;31m---------------------------------------------------------------------------\u001b[0m",
      "\u001b[0;31mNameError\u001b[0m                                 Traceback (most recent call last)",
      "Cell \u001b[0;32mIn[1], line 2\u001b[0m\n\u001b[1;32m      1\u001b[0m \u001b[38;5;66;03m# calculate metrics\u001b[39;00m\n\u001b[0;32m----> 2\u001b[0m accuracy \u001b[38;5;241m=\u001b[39m \u001b[43maccuracy_score\u001b[49m(Y_test_no_stop, predictions_no_stop)\n\u001b[1;32m      3\u001b[0m precision \u001b[38;5;241m=\u001b[39m precision_score(Y_test_no_stop, predictions_no_stop, pos_label\u001b[38;5;241m=\u001b[39m\u001b[38;5;241m1\u001b[39m)\n\u001b[1;32m      4\u001b[0m recall \u001b[38;5;241m=\u001b[39m recall_score(Y_test_no_stop, predictions_no_stop, pos_label\u001b[38;5;241m=\u001b[39m\u001b[38;5;241m1\u001b[39m)\n",
      "\u001b[0;31mNameError\u001b[0m: name 'accuracy_score' is not defined"
     ]
    }
   ],
   "source": [
    "# calculate metrics\n",
    "accuracy = accuracy_score(Y_test_no_stop, predictions_no_stop)\n",
    "precision = precision_score(Y_test_no_stop, predictions_no_stop, pos_label=1)\n",
    "recall = recall_score(Y_test_no_stop, predictions_no_stop, pos_label=1)\n",
    "f1 = f1_score(Y_test_no_stop, predictions_no_stop, pos_label=1)\n",
    "f_beta = fbeta_score(Y_test_no_stop, predictions_no_stop, beta=beta, pos_label=1)\n",
    "\n",
    "# visualize metrics\n",
    "print('XGBoost without Stopwords on test data')\n",
    "print(f'Accuracy: {accuracy:.2f}')\n",
    "print(f'Precision: {precision:.2f}')\n",
    "print(f'Recall: {recall:.2f}')\n",
    "print(f'F1 Score: {f1:.2f}')\n",
    "print(f\"F-beta Score (beta={beta}): {f_beta}\")"
   ]
  },
  {
   "cell_type": "code",
   "execution_count": 24,
   "metadata": {},
   "outputs": [
    {
     "data": {
      "image/png": "[encoded data removed]",
      "text/plain": [
       "<Figure size 1000x700 with 1 Axes>"
      ]
     },
     "metadata": {},
     "output_type": "display_data"
    }
   ],
   "source": [
    "cm_nb = confusion_matrix(Y_test_no_stop, predictions_no_stop)\n",
    "\n",
    "\n",
    "# creation of the Heatmap\n",
    "plt.figure(figsize=(10, 7))\n",
    "sns.heatmap(cm_nb, annot=True, fmt='d', cmap='Blues', cbar=False, annot_kws={\"size\": 8})\n",
    "plt.xlabel('Predicted Labels', fontsize=16)\n",
    "plt.ylabel('True Labels', fontsize=16)\n",
    "plt.title('Confusion Matrix for XGBoost Classifier without Stopwords', fontsize=18)\n",
    "plt.xticks(ticks=[0.5, 1.5], labels=['negative', 'positive'], fontsize=14)\n",
    "plt.yticks(ticks=[0.5, 1.5], labels=['negative', 'positive'], fontsize=14, rotation=0)\n",
    "plt.show()"
   ]
  }
 ],
 "metadata": {
  "kernelspec": {
   "display_name": "venv",
   "language": "python",
   "name": "python3"
  },
  "language_info": {
   "codemirror_mode": {
    "name": "ipython",
    "version": 3
   },
   "file_extension": ".py",
   "mimetype": "text/x-python",
   "name": "python",
   "nbconvert_exporter": "python",
   "pygments_lexer": "ipython3",
   "version": "3.12.4"
  }
 },
 "nbformat": 4,
 "nbformat_minor": 2
}
