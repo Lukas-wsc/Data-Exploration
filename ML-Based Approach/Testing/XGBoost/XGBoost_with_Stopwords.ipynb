{
 "cells": [
  {
   "cell_type": "markdown",
   "metadata": {},
   "source": [
    "# Text Classification mit XGBoost"
   ]
  },
  {
   "cell_type": "code",
   "execution_count": 63,
   "metadata": {},
   "outputs": [],
   "source": [
    "import numpy as np # for array, linear algebra\n",
    "import pandas as pd # for data processing\n",
    "import matplotlib as mpl  # to visualize data\n",
    "import matplotlib.pyplot as plt # to crreate stat and visualize data\n",
    "import matplotlib.colors as mcolors # to visualize colors\n",
    "import seaborn as sns # to visualize data\n",
    "from sklearn.feature_extraction.text import TfidfVectorizer # to transfrom the text into numbers\n",
    "from sklearn.metrics import * # to calculate the metrics\n",
    "from hyperopt import STATUS_OK, Trials, fmin, hp, tpe\n",
    "import pickle\n",
    "\n",
    "import xgboost as xgb# used model"
   ]
  },
  {
   "cell_type": "code",
   "execution_count": 64,
   "metadata": {},
   "outputs": [
    {
     "name": "stdout",
     "output_type": "stream",
     "text": [
      "XGBClassifier(base_score=None, booster=None, callbacks=None,\n",
      "              colsample_bylevel=None, colsample_bynode=None,\n",
      "              colsample_bytree=None, device=None, early_stopping_rounds=None,\n",
      "              enable_categorical=False, eval_metric=None, feature_types=None,\n",
      "              gamma=None, grow_policy=None, importance_type=None,\n",
      "              interaction_constraints=None, learning_rate=None, max_bin=None,\n",
      "              max_cat_threshold=None, max_cat_to_onehot=None,\n",
      "              max_delta_step=None, max_depth=None, max_leaves=None,\n",
      "              min_child_weight=None, missing=nan, monotone_constraints=None,\n",
      "              multi_strategy=None, n_estimators=None, n_jobs=-1,\n",
      "              num_parallel_tree=None, random_state=None, ...)\n",
      "TfidfVectorizer()\n"
     ]
    }
   ],
   "source": [
    "# Load the classifier from the file\n",
    "with open('../../Training/XGBoost/XGBoost_with_stopwords.pkl', 'rb') as file:\n",
    "    classifier = pickle.load(file)\n",
    "\n",
    "# Check if the classifier is loaded correctly\n",
    "print(classifier)\n",
    "\n",
    "# load the vectorizer from file\n",
    "with open('../../../Data-Preparation/sentiment140/tfidf_vectorizer.pkl', 'rb') as f:\n",
    "    loaded_vectorizer = pickle.load(f)\n",
    "print(loaded_vectorizer)"
   ]
  },
  {
   "cell_type": "code",
   "execution_count": 65,
   "metadata": {},
   "outputs": [],
   "source": [
    "test_stop = pd.read_csv('../../../Data-Preparation/sentiment140/testdata_with_stopwords_preprocessed.csv')"
   ]
  },
  {
   "cell_type": "code",
   "execution_count": 66,
   "metadata": {},
   "outputs": [
    {
     "data": {
      "text/html": [
       "<div>\n",
       "<style scoped>\n",
       "    .dataframe tbody tr th:only-of-type {\n",
       "        vertical-align: middle;\n",
       "    }\n",
       "\n",
       "    .dataframe tbody tr th {\n",
       "        vertical-align: top;\n",
       "    }\n",
       "\n",
       "    .dataframe thead th {\n",
       "        text-align: right;\n",
       "    }\n",
       "</style>\n",
       "<table border=\"1\" class=\"dataframe\">\n",
       "  <thead>\n",
       "    <tr style=\"text-align: right;\">\n",
       "      <th></th>\n",
       "      <th>Text</th>\n",
       "      <th>target</th>\n",
       "      <th>Ground_Truth_Label</th>\n",
       "    </tr>\n",
       "  </thead>\n",
       "  <tbody>\n",
       "    <tr>\n",
       "      <th>0</th>\n",
       "      <td>would like to have even a little bit of time o...</td>\n",
       "      <td>0</td>\n",
       "      <td>negative</td>\n",
       "    </tr>\n",
       "    <tr>\n",
       "      <th>1</th>\n",
       "      <td>Looking forward to keeping in touch with Naomi...</td>\n",
       "      <td>4</td>\n",
       "      <td>positive</td>\n",
       "    </tr>\n",
       "    <tr>\n",
       "      <th>2</th>\n",
       "      <td>@NBATVAndre No, in Germany the NBA has no airt...</td>\n",
       "      <td>0</td>\n",
       "      <td>negative</td>\n",
       "    </tr>\n",
       "    <tr>\n",
       "      <th>3</th>\n",
       "      <td>@AliChemist Your future self's in trouble, the...</td>\n",
       "      <td>4</td>\n",
       "      <td>positive</td>\n",
       "    </tr>\n",
       "    <tr>\n",
       "      <th>4</th>\n",
       "      <td>@remco_dekker did you know there is a reason w...</td>\n",
       "      <td>4</td>\n",
       "      <td>positive</td>\n",
       "    </tr>\n",
       "  </tbody>\n",
       "</table>\n",
       "</div>"
      ],
      "text/plain": [
       "                                                Text  target  \\\n",
       "0  would like to have even a little bit of time o...       0   \n",
       "1  Looking forward to keeping in touch with Naomi...       4   \n",
       "2  @NBATVAndre No, in Germany the NBA has no airt...       0   \n",
       "3  @AliChemist Your future self's in trouble, the...       4   \n",
       "4  @remco_dekker did you know there is a reason w...       4   \n",
       "\n",
       "  Ground_Truth_Label  \n",
       "0           negative  \n",
       "1           positive  \n",
       "2           negative  \n",
       "3           positive  \n",
       "4           positive  "
      ]
     },
     "execution_count": 66,
     "metadata": {},
     "output_type": "execute_result"
    }
   ],
   "source": [
    "test_stop.head()"
   ]
  },
  {
   "cell_type": "markdown",
   "metadata": {},
   "source": [
    "## Vorbereitung"
   ]
  },
  {
   "cell_type": "code",
   "execution_count": 67,
   "metadata": {},
   "outputs": [],
   "source": [
    "test_stop['target'] = test_stop['target'].replace(4,1)\n"
   ]
  },
  {
   "cell_type": "code",
   "execution_count": 68,
   "metadata": {},
   "outputs": [],
   "source": [
    "X_test_stop = test_stop.drop(['target'], axis=1).copy()\n"
   ]
  },
  {
   "cell_type": "code",
   "execution_count": 69,
   "metadata": {},
   "outputs": [],
   "source": [
    "Y_test_stop = test_stop['target'].copy()"
   ]
  },
  {
   "cell_type": "markdown",
   "metadata": {},
   "source": [
    "## Modelltraining mit Stopwords"
   ]
  },
  {
   "cell_type": "code",
   "execution_count": 70,
   "metadata": {},
   "outputs": [],
   "source": [
    "# astype(str) is necesarry \n",
    "#X_training_stop = vectorizer.fit_transform(X_train_stop['Text'].astype(str))\n",
    "\n",
    "X_testing_stop = loaded_vectorizer.transform(X_test_stop['Text'].astype(str))\n"
   ]
  },
  {
   "cell_type": "code",
   "execution_count": 71,
   "metadata": {},
   "outputs": [],
   "source": [
    "# model = xgb.XGBClassifier(n_jobs = -1)\n",
    "# model.fit(X_testing_stop, Y_test_stop)"
   ]
  },
  {
   "cell_type": "code",
   "execution_count": 72,
   "metadata": {},
   "outputs": [
    {
     "name": "stdout",
     "output_type": "stream",
     "text": [
      "(320000, 686782)\n"
     ]
    }
   ],
   "source": [
    "\n",
    "print(X_testing_stop.shape)"
   ]
  },
  {
   "cell_type": "code",
   "execution_count": 73,
   "metadata": {},
   "outputs": [],
   "source": [
    "predictions_stop = classifier.predict(X_testing_stop)"
   ]
  },
  {
   "cell_type": "code",
   "execution_count": 74,
   "metadata": {},
   "outputs": [
    {
     "name": "stdout",
     "output_type": "stream",
     "text": [
      "Accuracy: 76.18%\n"
     ]
    }
   ],
   "source": [
    "accuracy = accuracy_score(Y_test_stop, predictions_stop)\n",
    "print(\"Accuracy: {:.2f}%\".format(accuracy * 100))"
   ]
  },
  {
   "cell_type": "markdown",
   "metadata": {},
   "source": [
    "## Evaluation"
   ]
  },
  {
   "cell_type": "code",
   "execution_count": 75,
   "metadata": {},
   "outputs": [
    {
     "name": "stdout",
     "output_type": "stream",
     "text": [
      "XGBoost with Stopwords\n",
      "Accuracy: 0.76\n",
      "Precision: 0.74\n",
      "Recall: 0.80\n",
      "F1 Score: 0.77\n",
      "\n"
     ]
    }
   ],
   "source": [
    "# calculate metrics\n",
    "accuracy = accuracy_score(Y_test_stop, predictions_stop)\n",
    "precision = precision_score(Y_test_stop, predictions_stop, pos_label=1)\n",
    "recall = recall_score(Y_test_stop, predictions_stop, pos_label=1)\n",
    "f1 = f1_score(Y_test_stop, predictions_stop, pos_label=1)\n",
    "\n",
    "# visualize metrics\n",
    "print('XGBoost with Stopwords')\n",
    "print(f'Accuracy: {accuracy:.2f}')\n",
    "print(f'Precision: {precision:.2f}')\n",
    "print(f'Recall: {recall:.2f}')\n",
    "print(f'F1 Score: {f1:.2f}')\n",
    "print()"
   ]
  },
  {
   "cell_type": "code",
   "execution_count": 76,
   "metadata": {},
   "outputs": [
    {
     "data": {
      "image/png": "[encoded data removed]",
      "text/plain": [
       "<Figure size 1000x700 with 1 Axes>"
      ]
     },
     "metadata": {},
     "output_type": "display_data"
    }
   ],
   "source": [
    "cm_nb = confusion_matrix(Y_test_stop, predictions_stop)\n",
    "\n",
    "\n",
    "# creation of the Heatmap\n",
    "plt.figure(figsize=(10, 7))\n",
    "sns.heatmap(cm_nb, annot=True, fmt='d', cmap='Blues', cbar=False, annot_kws={\"size\": 8})\n",
    "plt.xlabel('Predicted Labels', fontsize=16)\n",
    "plt.ylabel('True Labels', fontsize=16)\n",
    "plt.title('Confusion Matrix for XGBoost Classifier with Stopwords', fontsize=18)\n",
    "plt.xticks(ticks=[0.5, 1.5], labels=['negative', 'positive'], fontsize=14)\n",
    "plt.yticks(ticks=[0.5, 1.5], labels=['negative', 'positive'], fontsize=14, rotation=0)\n",
    "plt.show()"
   ]
  }
 ],
 "metadata": {
  "kernelspec": {
   "display_name": "venv",
   "language": "python",
   "name": "python3"
  },
  "language_info": {
   "codemirror_mode": {
    "name": "ipython",
    "version": 3
   },
   "file_extension": ".py",
   "mimetype": "text/x-python",
   "name": "python",
   "nbconvert_exporter": "python",
   "pygments_lexer": "ipython3",
   "version": "3.12.4"
  }
 },
 "nbformat": 4,
 "nbformat_minor": 2
}
