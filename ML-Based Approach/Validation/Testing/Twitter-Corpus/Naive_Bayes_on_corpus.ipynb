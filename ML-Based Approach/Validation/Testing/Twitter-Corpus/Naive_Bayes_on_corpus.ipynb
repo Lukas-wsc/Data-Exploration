{
 "cells": [
  {
   "cell_type": "code",
   "execution_count": 12,
   "metadata": {},
   "outputs": [],
   "source": [
    "import numpy as np # for array, linear algebra\n",
    "import pandas as pd # for data processing\n",
    "import matplotlib.pyplot as plt # to crreate stat and visualize data\n",
    "import matplotlib as mpl  # to visualize data\n",
    "import seaborn as sns # to visualize data\n",
    "import matplotlib.colors as mcolors # to visualize colors\n",
    "import string # collection of alphabets, words or other characters\n",
    "import re # regular expression support\n",
    "import nltk \n",
    "import pickle\n",
    "import sklearn.metrics\n",
    "# import gensim # representing documents as semantic vectors\n",
    "from sklearn.metrics import *\n",
    "\n",
    "from nltk.tokenize import word_tokenize\n",
    "from nltk.classify import NaiveBayesClassifier\n",
    "from nltk.classify.util import accuracy"
   ]
  },
  {
   "cell_type": "code",
   "execution_count": 13,
   "metadata": {},
   "outputs": [],
   "source": [
    "pd.set_option('display.max_colwidth', None)"
   ]
  },
  {
   "cell_type": "code",
   "execution_count": 14,
   "metadata": {},
   "outputs": [
    {
     "name": "stdout",
     "output_type": "stream",
     "text": [
      "<nltk.classify.naivebayes.NaiveBayesClassifier object at 0x14f894770>\n"
     ]
    }
   ],
   "source": [
    "# Load the classifier from the file\n",
    "with open('../../../Training/ML-Based Approach/naive_bayes_with_stopwords_classifier.pkl', 'rb') as file:\n",
    "    classifier = pickle.load(file)\n",
    "\n",
    "# Check if the classifier is loaded correctly\n",
    "print(classifier)"
   ]
  },
  {
   "cell_type": "code",
   "execution_count": 18,
   "metadata": {},
   "outputs": [],
   "source": [
    "df_test_naive_bayes_with_stopwords = pd.read_csv('../../../Data-Preparation/Twitter-Corpus/full_corpus_preprocessed.csv')"
   ]
  },
  {
   "cell_type": "code",
   "execution_count": 19,
   "metadata": {},
   "outputs": [
    {
     "data": {
      "text/html": [
       "<div>\n",
       "<style scoped>\n",
       "    .dataframe tbody tr th:only-of-type {\n",
       "        vertical-align: middle;\n",
       "    }\n",
       "\n",
       "    .dataframe tbody tr th {\n",
       "        vertical-align: top;\n",
       "    }\n",
       "\n",
       "    .dataframe thead th {\n",
       "        text-align: right;\n",
       "    }\n",
       "</style>\n",
       "<table border=\"1\" class=\"dataframe\">\n",
       "  <thead>\n",
       "    <tr style=\"text-align: right;\">\n",
       "      <th></th>\n",
       "      <th>target</th>\n",
       "      <th>Text</th>\n",
       "    </tr>\n",
       "  </thead>\n",
       "  <tbody>\n",
       "    <tr>\n",
       "      <th>0</th>\n",
       "      <td>positive</td>\n",
       "      <td>Now all @Apple has to do is get swype on the iphone and it will be crack. Iphone that is</td>\n",
       "    </tr>\n",
       "    <tr>\n",
       "      <th>1</th>\n",
       "      <td>positive</td>\n",
       "      <td>@Apple will be adding more carrier support to the iPhone 4S (just announced)</td>\n",
       "    </tr>\n",
       "    <tr>\n",
       "      <th>2</th>\n",
       "      <td>positive</td>\n",
       "      <td>Hilarious @youtube video - guy does a duet with @apple 's Siri. Pretty much sums up the love affair! http://t.co/8ExbnQjY</td>\n",
       "    </tr>\n",
       "    <tr>\n",
       "      <th>3</th>\n",
       "      <td>positive</td>\n",
       "      <td>@RIM you made it too easy for me to switch to @Apple iPhone. See ya!</td>\n",
       "    </tr>\n",
       "    <tr>\n",
       "      <th>4</th>\n",
       "      <td>positive</td>\n",
       "      <td>I just realized that the reason I got into twitter was ios5 thanks @apple</td>\n",
       "    </tr>\n",
       "  </tbody>\n",
       "</table>\n",
       "</div>"
      ],
      "text/plain": [
       "     target  \\\n",
       "0  positive   \n",
       "1  positive   \n",
       "2  positive   \n",
       "3  positive   \n",
       "4  positive   \n",
       "\n",
       "                                                                                                                        Text  \n",
       "0                                   Now all @Apple has to do is get swype on the iphone and it will be crack. Iphone that is  \n",
       "1                                               @Apple will be adding more carrier support to the iPhone 4S (just announced)  \n",
       "2  Hilarious @youtube video - guy does a duet with @apple 's Siri. Pretty much sums up the love affair! http://t.co/8ExbnQjY  \n",
       "3                                                       @RIM you made it too easy for me to switch to @Apple iPhone. See ya!  \n",
       "4                                                  I just realized that the reason I got into twitter was ios5 thanks @apple  "
      ]
     },
     "execution_count": 19,
     "metadata": {},
     "output_type": "execute_result"
    }
   ],
   "source": [
    "df_test_naive_bayes_with_stopwords.head()"
   ]
  },
  {
   "cell_type": "code",
   "execution_count": null,
   "metadata": {},
   "outputs": [],
   "source": [
    "def extract_features(text):\n",
    "    words = word_tokenize(text)\n",
    "    features = {word.lower(): True for word in words if word.isalpha()}\n",
    "    return features\n"
   ]
  },
  {
   "cell_type": "code",
   "execution_count": null,
   "metadata": {},
   "outputs": [],
   "source": [
    "df_test_naive_bayes_with_stopwords['features'] = df_test_naive_bayes_with_stopwords['text'].apply(lambda text: extract_features(str(text)))"
   ]
  },
  {
   "cell_type": "code",
   "execution_count": null,
   "metadata": {},
   "outputs": [
    {
     "data": {
      "text/html": [
       "<div>\n",
       "<style scoped>\n",
       "    .dataframe tbody tr th:only-of-type {\n",
       "        vertical-align: middle;\n",
       "    }\n",
       "\n",
       "    .dataframe tbody tr th {\n",
       "        vertical-align: top;\n",
       "    }\n",
       "\n",
       "    .dataframe thead th {\n",
       "        text-align: right;\n",
       "    }\n",
       "</style>\n",
       "<table border=\"1\" class=\"dataframe\">\n",
       "  <thead>\n",
       "    <tr style=\"text-align: right;\">\n",
       "      <th></th>\n",
       "      <th>createdAt</th>\n",
       "      <th>id</th>\n",
       "      <th>text</th>\n",
       "      <th>features</th>\n",
       "    </tr>\n",
       "  </thead>\n",
       "  <tbody>\n",
       "    <tr>\n",
       "      <th>0</th>\n",
       "      <td>Mon Jun 10 15:56:32 +0000 2024</td>\n",
       "      <td>1800195352974258322</td>\n",
       "      <td>Here's What the iPhone 16 Needs From iOS 18 to Be Truly Great https://t.co/DHXu9nWSkk</td>\n",
       "      <td>{'here': True, 'what': True, 'the': True, 'iphone': True, 'needs': True, 'from': True, 'ios': True, 'to': True, 'be': True, 'truly': True, 'great': True, 'https': True}</td>\n",
       "    </tr>\n",
       "    <tr>\n",
       "      <th>1</th>\n",
       "      <td>Mon Jun 10 15:56:32 +0000 2024</td>\n",
       "      <td>1800195349971165343</td>\n",
       "      <td>Here's What the iPhone 16 Needs From iOS 18 to Be Truly Great     - CNET https://t.co/tVFXmLlehE</td>\n",
       "      <td>{'here': True, 'what': True, 'the': True, 'iphone': True, 'needs': True, 'from': True, 'ios': True, 'to': True, 'be': True, 'truly': True, 'great': True, 'cnet': True, 'https': True}</td>\n",
       "    </tr>\n",
       "    <tr>\n",
       "      <th>2</th>\n",
       "      <td>Mon Jun 10 15:51:04 +0000 2024</td>\n",
       "      <td>1800193974055084496</td>\n",
       "      <td>Imagine if they are iPhone 16+ only.\\n#AI #AppleEvent #WWDC24</td>\n",
       "      <td>{'imagine': True, 'if': True, 'they': True, 'are': True, 'iphone': True, 'only': True, 'ai': True, 'appleevent': True}</td>\n",
       "    </tr>\n",
       "    <tr>\n",
       "      <th>3</th>\n",
       "      <td>Mon Jun 10 15:42:50 +0000 2024</td>\n",
       "      <td>1800191905508298819</td>\n",
       "      <td>@_sakanachandesu @ItsHassooonnn i wish u the best luck!! i haven’t downloaded a dev beta since the ios 16 dev beta bricked my iphone 13 in 2022</td>\n",
       "      <td>{'itshassooonnn': True, 'i': True, 'wish': True, 'u': True, 'the': True, 'best': True, 'luck': True, 'haven': True, 't': True, 'downloaded': True, 'a': True, 'dev': True, 'beta': True, 'since': True, 'ios': True, 'bricked': True, 'my': True, 'iphone': True, 'in': True}</td>\n",
       "    </tr>\n",
       "    <tr>\n",
       "      <th>4</th>\n",
       "      <td>Mon Jun 10 15:40:47 +0000 2024</td>\n",
       "      <td>1800191387109060889</td>\n",
       "      <td>@TekOpinions Incredible Apple has gotten away by giving us the same old software for 16 years let's hope they do wow us with iOS 18. If it's that good I might be going back to having an iPhone.</td>\n",
       "      <td>{'tekopinions': True, 'incredible': True, 'apple': True, 'has': True, 'gotten': True, 'away': True, 'by': True, 'giving': True, 'us': True, 'the': True, 'same': True, 'old': True, 'software': True, 'for': True, 'years': True, 'let': True, 'hope': True, 'they': True, 'do': True, 'wow': True, 'with': True, 'ios': True, 'if': True, 'it': True, 'that': True, 'good': True, 'i': True, 'might': True, 'be': True, 'going': True, 'back': True, 'to': True, 'having': True, 'an': True, 'iphone': True}</td>\n",
       "    </tr>\n",
       "  </tbody>\n",
       "</table>\n",
       "</div>"
      ],
      "text/plain": [
       "                        createdAt                   id  \\\n",
       "0  Mon Jun 10 15:56:32 +0000 2024  1800195352974258322   \n",
       "1  Mon Jun 10 15:56:32 +0000 2024  1800195349971165343   \n",
       "2  Mon Jun 10 15:51:04 +0000 2024  1800193974055084496   \n",
       "3  Mon Jun 10 15:42:50 +0000 2024  1800191905508298819   \n",
       "4  Mon Jun 10 15:40:47 +0000 2024  1800191387109060889   \n",
       "\n",
       "                                                                                                                                                                                                text  \\\n",
       "0                                                                                                              Here's What the iPhone 16 Needs From iOS 18 to Be Truly Great https://t.co/DHXu9nWSkk   \n",
       "1                                                                                                   Here's What the iPhone 16 Needs From iOS 18 to Be Truly Great     - CNET https://t.co/tVFXmLlehE   \n",
       "2                                                                                                                                      Imagine if they are iPhone 16+ only.\\n#AI #AppleEvent #WWDC24   \n",
       "3                                                    @_sakanachandesu @ItsHassooonnn i wish u the best luck!! i haven’t downloaded a dev beta since the ios 16 dev beta bricked my iphone 13 in 2022   \n",
       "4  @TekOpinions Incredible Apple has gotten away by giving us the same old software for 16 years let's hope they do wow us with iOS 18. If it's that good I might be going back to having an iPhone.   \n",
       "\n",
       "                                                                                                                                                                                                                                                                                                                                                                                                                                                                                                        features  \n",
       "0                                                                                                                                                                                                                                                                                                                                       {'here': True, 'what': True, 'the': True, 'iphone': True, 'needs': True, 'from': True, 'ios': True, 'to': True, 'be': True, 'truly': True, 'great': True, 'https': True}  \n",
       "1                                                                                                                                                                                                                                                                                                                         {'here': True, 'what': True, 'the': True, 'iphone': True, 'needs': True, 'from': True, 'ios': True, 'to': True, 'be': True, 'truly': True, 'great': True, 'cnet': True, 'https': True}  \n",
       "2                                                                                                                                                                                                                                                                                                                                                                                         {'imagine': True, 'if': True, 'they': True, 'are': True, 'iphone': True, 'only': True, 'ai': True, 'appleevent': True}  \n",
       "3                                                                                                                                                                                                                                  {'itshassooonnn': True, 'i': True, 'wish': True, 'u': True, 'the': True, 'best': True, 'luck': True, 'haven': True, 't': True, 'downloaded': True, 'a': True, 'dev': True, 'beta': True, 'since': True, 'ios': True, 'bricked': True, 'my': True, 'iphone': True, 'in': True}  \n",
       "4  {'tekopinions': True, 'incredible': True, 'apple': True, 'has': True, 'gotten': True, 'away': True, 'by': True, 'giving': True, 'us': True, 'the': True, 'same': True, 'old': True, 'software': True, 'for': True, 'years': True, 'let': True, 'hope': True, 'they': True, 'do': True, 'wow': True, 'with': True, 'ios': True, 'if': True, 'it': True, 'that': True, 'good': True, 'i': True, 'might': True, 'be': True, 'going': True, 'back': True, 'to': True, 'having': True, 'an': True, 'iphone': True}  "
      ]
     },
     "execution_count": 15,
     "metadata": {},
     "output_type": "execute_result"
    }
   ],
   "source": [
    "df_test_naive_bayes_with_stopwords.head()"
   ]
  },
  {
   "cell_type": "code",
   "execution_count": null,
   "metadata": {},
   "outputs": [],
   "source": [
    "\n",
    "df_test_naive_bayes_with_stopwords['Prediction'] = df_test_naive_bayes_with_stopwords['features'].apply(classifier.classify)"
   ]
  },
  {
   "cell_type": "code",
   "execution_count": null,
   "metadata": {},
   "outputs": [
    {
     "data": {
      "text/html": [
       "<div>\n",
       "<style scoped>\n",
       "    .dataframe tbody tr th:only-of-type {\n",
       "        vertical-align: middle;\n",
       "    }\n",
       "\n",
       "    .dataframe tbody tr th {\n",
       "        vertical-align: top;\n",
       "    }\n",
       "\n",
       "    .dataframe thead th {\n",
       "        text-align: right;\n",
       "    }\n",
       "</style>\n",
       "<table border=\"1\" class=\"dataframe\">\n",
       "  <thead>\n",
       "    <tr style=\"text-align: right;\">\n",
       "      <th></th>\n",
       "      <th>createdAt</th>\n",
       "      <th>id</th>\n",
       "      <th>text</th>\n",
       "      <th>features</th>\n",
       "      <th>Prediction</th>\n",
       "    </tr>\n",
       "  </thead>\n",
       "  <tbody>\n",
       "    <tr>\n",
       "      <th>0</th>\n",
       "      <td>Mon Jun 10 15:56:32 +0000 2024</td>\n",
       "      <td>1800195352974258322</td>\n",
       "      <td>Here's What the iPhone 16 Needs From iOS 18 to Be Truly Great https://t.co/DHXu9nWSkk</td>\n",
       "      <td>{'here': True, 'what': True, 'the': True, 'iphone': True, 'needs': True, 'from': True, 'ios': True, 'to': True, 'be': True, 'truly': True, 'great': True, 'https': True}</td>\n",
       "      <td>negative</td>\n",
       "    </tr>\n",
       "    <tr>\n",
       "      <th>1</th>\n",
       "      <td>Mon Jun 10 15:56:32 +0000 2024</td>\n",
       "      <td>1800195349971165343</td>\n",
       "      <td>Here's What the iPhone 16 Needs From iOS 18 to Be Truly Great     - CNET https://t.co/tVFXmLlehE</td>\n",
       "      <td>{'here': True, 'what': True, 'the': True, 'iphone': True, 'needs': True, 'from': True, 'ios': True, 'to': True, 'be': True, 'truly': True, 'great': True, 'cnet': True, 'https': True}</td>\n",
       "      <td>negative</td>\n",
       "    </tr>\n",
       "    <tr>\n",
       "      <th>2</th>\n",
       "      <td>Mon Jun 10 15:51:04 +0000 2024</td>\n",
       "      <td>1800193974055084496</td>\n",
       "      <td>Imagine if they are iPhone 16+ only.\\n#AI #AppleEvent #WWDC24</td>\n",
       "      <td>{'imagine': True, 'if': True, 'they': True, 'are': True, 'iphone': True, 'only': True, 'ai': True, 'appleevent': True}</td>\n",
       "      <td>negative</td>\n",
       "    </tr>\n",
       "    <tr>\n",
       "      <th>3</th>\n",
       "      <td>Mon Jun 10 15:42:50 +0000 2024</td>\n",
       "      <td>1800191905508298819</td>\n",
       "      <td>@_sakanachandesu @ItsHassooonnn i wish u the best luck!! i haven’t downloaded a dev beta since the ios 16 dev beta bricked my iphone 13 in 2022</td>\n",
       "      <td>{'itshassooonnn': True, 'i': True, 'wish': True, 'u': True, 'the': True, 'best': True, 'luck': True, 'haven': True, 't': True, 'downloaded': True, 'a': True, 'dev': True, 'beta': True, 'since': True, 'ios': True, 'bricked': True, 'my': True, 'iphone': True, 'in': True}</td>\n",
       "      <td>negative</td>\n",
       "    </tr>\n",
       "    <tr>\n",
       "      <th>4</th>\n",
       "      <td>Mon Jun 10 15:40:47 +0000 2024</td>\n",
       "      <td>1800191387109060889</td>\n",
       "      <td>@TekOpinions Incredible Apple has gotten away by giving us the same old software for 16 years let's hope they do wow us with iOS 18. If it's that good I might be going back to having an iPhone.</td>\n",
       "      <td>{'tekopinions': True, 'incredible': True, 'apple': True, 'has': True, 'gotten': True, 'away': True, 'by': True, 'giving': True, 'us': True, 'the': True, 'same': True, 'old': True, 'software': True, 'for': True, 'years': True, 'let': True, 'hope': True, 'they': True, 'do': True, 'wow': True, 'with': True, 'ios': True, 'if': True, 'it': True, 'that': True, 'good': True, 'i': True, 'might': True, 'be': True, 'going': True, 'back': True, 'to': True, 'having': True, 'an': True, 'iphone': True}</td>\n",
       "      <td>negative</td>\n",
       "    </tr>\n",
       "    <tr>\n",
       "      <th>...</th>\n",
       "      <td>...</td>\n",
       "      <td>...</td>\n",
       "      <td>...</td>\n",
       "      <td>...</td>\n",
       "      <td>...</td>\n",
       "    </tr>\n",
       "    <tr>\n",
       "      <th>95</th>\n",
       "      <td>Mon Jun 10 06:36:16 +0000 2024</td>\n",
       "      <td>1800054354155585913</td>\n",
       "      <td>🚀 Apple is set to unveil iOS 18 at WWDC on June 10! \\n\\nGet ready for \"Apple Intelligence\" AI features, but only for iPhone 15 Pro, iPhone 16, and M1 devices. \\n\\nExpect content summarisation, enhanced Siri, AI-created emojis, and more! Launching this fall. \\n\\nStay tuned! 📱✨ #AppleEvent #iOS18 #WWDC2024</td>\n",
       "      <td>{'apple': True, 'is': True, 'set': True, 'to': True, 'unveil': True, 'ios': True, 'at': True, 'wwdc': True, 'on': True, 'june': True, 'get': True, 'ready': True, 'for': True, 'intelligence': True, 'ai': True, 'features': True, 'but': True, 'only': True, 'iphone': True, 'pro': True, 'and': True, 'devices': True, 'expect': True, 'content': True, 'summarisation': True, 'enhanced': True, 'siri': True, 'emojis': True, 'more': True, 'launching': True, 'this': True, 'fall': True, 'stay': True, 'tuned': True, 'appleevent': True}</td>\n",
       "      <td>positive</td>\n",
       "    </tr>\n",
       "    <tr>\n",
       "      <th>96</th>\n",
       "      <td>Mon Jun 10 06:33:06 +0000 2024</td>\n",
       "      <td>1800053559523991848</td>\n",
       "      <td>iPhone 16 Pro might have 5x optical zoom and 25x digital zoom. What's more? Watch in our reel. \\n\\n#camera #iphone16 #iphonephotography #leaks https://t.co/4bfqTOx2vZ</td>\n",
       "      <td>{'iphone': True, 'pro': True, 'might': True, 'have': True, 'optical': True, 'zoom': True, 'and': True, 'digital': True, 'what': True, 'more': True, 'watch': True, 'in': True, 'our': True, 'reel': True, 'camera': True, 'iphonephotography': True, 'leaks': True, 'https': True}</td>\n",
       "      <td>negative</td>\n",
       "    </tr>\n",
       "    <tr>\n",
       "      <th>97</th>\n",
       "      <td>Mon Jun 10 06:15:27 +0000 2024</td>\n",
       "      <td>1800049119085682720</td>\n",
       "      <td>@heya_stuff If possible,can you do this kind of colorful concept for the iPhone 16!? Felt that it would be crazy😃</td>\n",
       "      <td>{'if': True, 'possible': True, 'can': True, 'you': True, 'do': True, 'this': True, 'kind': True, 'of': True, 'colorful': True, 'concept': True, 'for': True, 'the': True, 'iphone': True, 'felt': True, 'that': True, 'it': True, 'would': True, 'be': True}</td>\n",
       "      <td>positive</td>\n",
       "    </tr>\n",
       "    <tr>\n",
       "      <th>98</th>\n",
       "      <td>Mon Jun 10 06:13:20 +0000 2024</td>\n",
       "      <td>1800048586517889187</td>\n",
       "      <td>📱✨ Bigger and Brighter Screens for iPhone 16 &amp; iPhone 16 Pro! ✨📱\\nRumors are swirling about significant display upgrades for the upcoming iPhone 16 lineup! After minimal changes in the iPhone 15, we might see major improvements, possibly even OLED displays like the 13-inch iPad Pro! Stay tuned for more exciting updates! 🔍📲\\n#TechTrends #AppleRumors #iPhone16</td>\n",
       "      <td>{'bigger': True, 'and': True, 'brighter': True, 'screens': True, 'for': True, 'iphone': True, 'pro': True, 'rumors': True, 'are': True, 'swirling': True, 'about': True, 'significant': True, 'display': True, 'upgrades': True, 'the': True, 'upcoming': True, 'lineup': True, 'after': True, 'minimal': True, 'changes': True, 'in': True, 'we': True, 'might': True, 'see': True, 'major': True, 'improvements': True, 'possibly': True, 'even': True, 'oled': True, 'displays': True, 'like': True, 'ipad': True, 'stay': True, 'tuned': True, 'more': True, 'exciting': True, 'updates': True, 'techtrends': True, 'applerumors': True}</td>\n",
       "      <td>positive</td>\n",
       "    </tr>\n",
       "    <tr>\n",
       "      <th>99</th>\n",
       "      <td>Mon Jun 10 06:12:36 +0000 2024</td>\n",
       "      <td>1800048400991391888</td>\n",
       "      <td>How iPhone Leaks, Top iPhone 16 leaks What we know so far https://t.co/0hGlvWDVFr To Get all latest news and updates Join us on WHATSAPP group https://t.co/9JQObwuDqx https://t.co/uurr7mmjlp #</td>\n",
       "      <td>{'how': True, 'iphone': True, 'leaks': True, 'top': True, 'what': True, 'we': True, 'know': True, 'so': True, 'far': True, 'https': True, 'to': True, 'get': True, 'all': True, 'latest': True, 'news': True, 'and': True, 'updates': True, 'join': True, 'us': True, 'on': True, 'whatsapp': True, 'group': True}</td>\n",
       "      <td>positive</td>\n",
       "    </tr>\n",
       "  </tbody>\n",
       "</table>\n",
       "<p>100 rows × 5 columns</p>\n",
       "</div>"
      ],
      "text/plain": [
       "                         createdAt                   id  \\\n",
       "0   Mon Jun 10 15:56:32 +0000 2024  1800195352974258322   \n",
       "1   Mon Jun 10 15:56:32 +0000 2024  1800195349971165343   \n",
       "2   Mon Jun 10 15:51:04 +0000 2024  1800193974055084496   \n",
       "3   Mon Jun 10 15:42:50 +0000 2024  1800191905508298819   \n",
       "4   Mon Jun 10 15:40:47 +0000 2024  1800191387109060889   \n",
       "..                             ...                  ...   \n",
       "95  Mon Jun 10 06:36:16 +0000 2024  1800054354155585913   \n",
       "96  Mon Jun 10 06:33:06 +0000 2024  1800053559523991848   \n",
       "97  Mon Jun 10 06:15:27 +0000 2024  1800049119085682720   \n",
       "98  Mon Jun 10 06:13:20 +0000 2024  1800048586517889187   \n",
       "99  Mon Jun 10 06:12:36 +0000 2024  1800048400991391888   \n",
       "\n",
       "                                                                                                                                                                                                                                                                                                                                                                        text  \\\n",
       "0                                                                                                                                                                                                                                                                                      Here's What the iPhone 16 Needs From iOS 18 to Be Truly Great https://t.co/DHXu9nWSkk   \n",
       "1                                                                                                                                                                                                                                                                           Here's What the iPhone 16 Needs From iOS 18 to Be Truly Great     - CNET https://t.co/tVFXmLlehE   \n",
       "2                                                                                                                                                                                                                                                                                                              Imagine if they are iPhone 16+ only.\\n#AI #AppleEvent #WWDC24   \n",
       "3                                                                                                                                                                                                                            @_sakanachandesu @ItsHassooonnn i wish u the best luck!! i haven’t downloaded a dev beta since the ios 16 dev beta bricked my iphone 13 in 2022   \n",
       "4                                                                                                                                                                          @TekOpinions Incredible Apple has gotten away by giving us the same old software for 16 years let's hope they do wow us with iOS 18. If it's that good I might be going back to having an iPhone.   \n",
       "..                                                                                                                                                                                                                                                                                                                                                                       ...   \n",
       "95                                                         🚀 Apple is set to unveil iOS 18 at WWDC on June 10! \\n\\nGet ready for \"Apple Intelligence\" AI features, but only for iPhone 15 Pro, iPhone 16, and M1 devices. \\n\\nExpect content summarisation, enhanced Siri, AI-created emojis, and more! Launching this fall. \\n\\nStay tuned! 📱✨ #AppleEvent #iOS18 #WWDC2024   \n",
       "96                                                                                                                                                                                                    iPhone 16 Pro might have 5x optical zoom and 25x digital zoom. What's more? Watch in our reel. \\n\\n#camera #iphone16 #iphonephotography #leaks https://t.co/4bfqTOx2vZ   \n",
       "97                                                                                                                                                                                                                                                         @heya_stuff If possible,can you do this kind of colorful concept for the iPhone 16!? Felt that it would be crazy😃   \n",
       "98  📱✨ Bigger and Brighter Screens for iPhone 16 & iPhone 16 Pro! ✨📱\\nRumors are swirling about significant display upgrades for the upcoming iPhone 16 lineup! After minimal changes in the iPhone 15, we might see major improvements, possibly even OLED displays like the 13-inch iPad Pro! Stay tuned for more exciting updates! 🔍📲\\n#TechTrends #AppleRumors #iPhone16   \n",
       "99                                                                                                                                                                          How iPhone Leaks, Top iPhone 16 leaks What we know so far https://t.co/0hGlvWDVFr To Get all latest news and updates Join us on WHATSAPP group https://t.co/9JQObwuDqx https://t.co/uurr7mmjlp #   \n",
       "\n",
       "                                                                                                                                                                                                                                                                                                                                                                                                                                                                                                                                                                                                                                        features  \\\n",
       "0                                                                                                                                                                                                                                                                                                                                                                                                                                                                       {'here': True, 'what': True, 'the': True, 'iphone': True, 'needs': True, 'from': True, 'ios': True, 'to': True, 'be': True, 'truly': True, 'great': True, 'https': True}   \n",
       "1                                                                                                                                                                                                                                                                                                                                                                                                                                                         {'here': True, 'what': True, 'the': True, 'iphone': True, 'needs': True, 'from': True, 'ios': True, 'to': True, 'be': True, 'truly': True, 'great': True, 'cnet': True, 'https': True}   \n",
       "2                                                                                                                                                                                                                                                                                                                                                                                                                                                                                                                         {'imagine': True, 'if': True, 'they': True, 'are': True, 'iphone': True, 'only': True, 'ai': True, 'appleevent': True}   \n",
       "3                                                                                                                                                                                                                                                                                                                                                                  {'itshassooonnn': True, 'i': True, 'wish': True, 'u': True, 'the': True, 'best': True, 'luck': True, 'haven': True, 't': True, 'downloaded': True, 'a': True, 'dev': True, 'beta': True, 'since': True, 'ios': True, 'bricked': True, 'my': True, 'iphone': True, 'in': True}   \n",
       "4                                                                                                                                  {'tekopinions': True, 'incredible': True, 'apple': True, 'has': True, 'gotten': True, 'away': True, 'by': True, 'giving': True, 'us': True, 'the': True, 'same': True, 'old': True, 'software': True, 'for': True, 'years': True, 'let': True, 'hope': True, 'they': True, 'do': True, 'wow': True, 'with': True, 'ios': True, 'if': True, 'it': True, 'that': True, 'good': True, 'i': True, 'might': True, 'be': True, 'going': True, 'back': True, 'to': True, 'having': True, 'an': True, 'iphone': True}   \n",
       "..                                                                                                                                                                                                                                                                                                                                                                                                                                                                                                                                                                                                                                           ...   \n",
       "95                                                                                                {'apple': True, 'is': True, 'set': True, 'to': True, 'unveil': True, 'ios': True, 'at': True, 'wwdc': True, 'on': True, 'june': True, 'get': True, 'ready': True, 'for': True, 'intelligence': True, 'ai': True, 'features': True, 'but': True, 'only': True, 'iphone': True, 'pro': True, 'and': True, 'devices': True, 'expect': True, 'content': True, 'summarisation': True, 'enhanced': True, 'siri': True, 'emojis': True, 'more': True, 'launching': True, 'this': True, 'fall': True, 'stay': True, 'tuned': True, 'appleevent': True}   \n",
       "96                                                                                                                                                                                                                                                                                                                                                            {'iphone': True, 'pro': True, 'might': True, 'have': True, 'optical': True, 'zoom': True, 'and': True, 'digital': True, 'what': True, 'more': True, 'watch': True, 'in': True, 'our': True, 'reel': True, 'camera': True, 'iphonephotography': True, 'leaks': True, 'https': True}   \n",
       "97                                                                                                                                                                                                                                                                                                                                                                                  {'if': True, 'possible': True, 'can': True, 'you': True, 'do': True, 'this': True, 'kind': True, 'of': True, 'colorful': True, 'concept': True, 'for': True, 'the': True, 'iphone': True, 'felt': True, 'that': True, 'it': True, 'would': True, 'be': True}   \n",
       "98  {'bigger': True, 'and': True, 'brighter': True, 'screens': True, 'for': True, 'iphone': True, 'pro': True, 'rumors': True, 'are': True, 'swirling': True, 'about': True, 'significant': True, 'display': True, 'upgrades': True, 'the': True, 'upcoming': True, 'lineup': True, 'after': True, 'minimal': True, 'changes': True, 'in': True, 'we': True, 'might': True, 'see': True, 'major': True, 'improvements': True, 'possibly': True, 'even': True, 'oled': True, 'displays': True, 'like': True, 'ipad': True, 'stay': True, 'tuned': True, 'more': True, 'exciting': True, 'updates': True, 'techtrends': True, 'applerumors': True}   \n",
       "99                                                                                                                                                                                                                                                                                                                            {'how': True, 'iphone': True, 'leaks': True, 'top': True, 'what': True, 'we': True, 'know': True, 'so': True, 'far': True, 'https': True, 'to': True, 'get': True, 'all': True, 'latest': True, 'news': True, 'and': True, 'updates': True, 'join': True, 'us': True, 'on': True, 'whatsapp': True, 'group': True}   \n",
       "\n",
       "   Prediction  \n",
       "0    negative  \n",
       "1    negative  \n",
       "2    negative  \n",
       "3    negative  \n",
       "4    negative  \n",
       "..        ...  \n",
       "95   positive  \n",
       "96   negative  \n",
       "97   positive  \n",
       "98   positive  \n",
       "99   positive  \n",
       "\n",
       "[100 rows x 5 columns]"
      ]
     },
     "execution_count": 21,
     "metadata": {},
     "output_type": "execute_result"
    }
   ],
   "source": [
    "df_test_naive_bayes_with_stopwords"
   ]
  },
  {
   "cell_type": "code",
   "execution_count": null,
   "metadata": {},
   "outputs": [
    {
     "data": {
      "text/plain": [
       "Prediction\n",
       "negative    84\n",
       "positive    16\n",
       "Name: count, dtype: int64"
      ]
     },
     "execution_count": 20,
     "metadata": {},
     "output_type": "execute_result"
    }
   ],
   "source": [
    "df_test_naive_bayes_with_stopwords['Prediction'].value_counts()"
   ]
  },
  {
   "cell_type": "code",
   "execution_count": null,
   "metadata": {},
   "outputs": [],
   "source": [
    "df_test_naive_bayes_with_stopwords.to_csv('twitter_labelled.csv', index=False)"
   ]
  },
  {
   "cell_type": "code",
   "execution_count": null,
   "metadata": {},
   "outputs": [
    {
     "ename": "KeyError",
     "evalue": "'Ground_Truth_Label'",
     "output_type": "error",
     "traceback": [
      "\u001b[0;31m---------------------------------------------------------------------------\u001b[0m",
      "\u001b[0;31mKeyError\u001b[0m                                  Traceback (most recent call last)",
      "File \u001b[0;32m~/Desktop/DHBW_Coding/Semester 4/Data Exploration/Github/venv/lib/python3.12/site-packages/pandas/core/indexes/base.py:3805\u001b[0m, in \u001b[0;36mIndex.get_loc\u001b[0;34m(self, key)\u001b[0m\n\u001b[1;32m   3804\u001b[0m \u001b[38;5;28;01mtry\u001b[39;00m:\n\u001b[0;32m-> 3805\u001b[0m     \u001b[38;5;28;01mreturn\u001b[39;00m \u001b[38;5;28;43mself\u001b[39;49m\u001b[38;5;241;43m.\u001b[39;49m\u001b[43m_engine\u001b[49m\u001b[38;5;241;43m.\u001b[39;49m\u001b[43mget_loc\u001b[49m\u001b[43m(\u001b[49m\u001b[43mcasted_key\u001b[49m\u001b[43m)\u001b[49m\n\u001b[1;32m   3806\u001b[0m \u001b[38;5;28;01mexcept\u001b[39;00m \u001b[38;5;167;01mKeyError\u001b[39;00m \u001b[38;5;28;01mas\u001b[39;00m err:\n",
      "File \u001b[0;32mindex.pyx:167\u001b[0m, in \u001b[0;36mpandas._libs.index.IndexEngine.get_loc\u001b[0;34m()\u001b[0m\n",
      "File \u001b[0;32mindex.pyx:196\u001b[0m, in \u001b[0;36mpandas._libs.index.IndexEngine.get_loc\u001b[0;34m()\u001b[0m\n",
      "File \u001b[0;32mpandas/_libs/hashtable_class_helper.pxi:7081\u001b[0m, in \u001b[0;36mpandas._libs.hashtable.PyObjectHashTable.get_item\u001b[0;34m()\u001b[0m\n",
      "File \u001b[0;32mpandas/_libs/hashtable_class_helper.pxi:7089\u001b[0m, in \u001b[0;36mpandas._libs.hashtable.PyObjectHashTable.get_item\u001b[0;34m()\u001b[0m\n",
      "\u001b[0;31mKeyError\u001b[0m: 'Ground_Truth_Label'",
      "\nThe above exception was the direct cause of the following exception:\n",
      "\u001b[0;31mKeyError\u001b[0m                                  Traceback (most recent call last)",
      "Cell \u001b[0;32mIn[17], line 2\u001b[0m\n\u001b[1;32m      1\u001b[0m \u001b[38;5;66;03m# Berechnung der Metriken\u001b[39;00m\n\u001b[0;32m----> 2\u001b[0m accuracy \u001b[38;5;241m=\u001b[39m accuracy_score(\u001b[43mdf_test_naive_bayes_with_stopwords\u001b[49m\u001b[43m[\u001b[49m\u001b[38;5;124;43m'\u001b[39;49m\u001b[38;5;124;43mGround_Truth_Label\u001b[39;49m\u001b[38;5;124;43m'\u001b[39;49m\u001b[43m]\u001b[49m, df_test_naive_bayes_with_stopwords[\u001b[38;5;124m'\u001b[39m\u001b[38;5;124mPrediction\u001b[39m\u001b[38;5;124m'\u001b[39m])\n\u001b[1;32m      3\u001b[0m precision \u001b[38;5;241m=\u001b[39m precision_score(df_test_naive_bayes_with_stopwords[\u001b[38;5;124m'\u001b[39m\u001b[38;5;124mGround_Truth_Label\u001b[39m\u001b[38;5;124m'\u001b[39m], df_test_naive_bayes_with_stopwords[\u001b[38;5;124m'\u001b[39m\u001b[38;5;124mPrediction\u001b[39m\u001b[38;5;124m'\u001b[39m], pos_label\u001b[38;5;241m=\u001b[39m\u001b[38;5;124m'\u001b[39m\u001b[38;5;124mpositive\u001b[39m\u001b[38;5;124m'\u001b[39m)\n\u001b[1;32m      4\u001b[0m recall \u001b[38;5;241m=\u001b[39m recall_score(df_test_naive_bayes_with_stopwords[\u001b[38;5;124m'\u001b[39m\u001b[38;5;124mGround_Truth_Label\u001b[39m\u001b[38;5;124m'\u001b[39m], df_test_naive_bayes_with_stopwords[\u001b[38;5;124m'\u001b[39m\u001b[38;5;124mPrediction\u001b[39m\u001b[38;5;124m'\u001b[39m], pos_label\u001b[38;5;241m=\u001b[39m\u001b[38;5;124m'\u001b[39m\u001b[38;5;124mpositive\u001b[39m\u001b[38;5;124m'\u001b[39m)\n",
      "File \u001b[0;32m~/Desktop/DHBW_Coding/Semester 4/Data Exploration/Github/venv/lib/python3.12/site-packages/pandas/core/frame.py:4102\u001b[0m, in \u001b[0;36mDataFrame.__getitem__\u001b[0;34m(self, key)\u001b[0m\n\u001b[1;32m   4100\u001b[0m \u001b[38;5;28;01mif\u001b[39;00m \u001b[38;5;28mself\u001b[39m\u001b[38;5;241m.\u001b[39mcolumns\u001b[38;5;241m.\u001b[39mnlevels \u001b[38;5;241m>\u001b[39m \u001b[38;5;241m1\u001b[39m:\n\u001b[1;32m   4101\u001b[0m     \u001b[38;5;28;01mreturn\u001b[39;00m \u001b[38;5;28mself\u001b[39m\u001b[38;5;241m.\u001b[39m_getitem_multilevel(key)\n\u001b[0;32m-> 4102\u001b[0m indexer \u001b[38;5;241m=\u001b[39m \u001b[38;5;28;43mself\u001b[39;49m\u001b[38;5;241;43m.\u001b[39;49m\u001b[43mcolumns\u001b[49m\u001b[38;5;241;43m.\u001b[39;49m\u001b[43mget_loc\u001b[49m\u001b[43m(\u001b[49m\u001b[43mkey\u001b[49m\u001b[43m)\u001b[49m\n\u001b[1;32m   4103\u001b[0m \u001b[38;5;28;01mif\u001b[39;00m is_integer(indexer):\n\u001b[1;32m   4104\u001b[0m     indexer \u001b[38;5;241m=\u001b[39m [indexer]\n",
      "File \u001b[0;32m~/Desktop/DHBW_Coding/Semester 4/Data Exploration/Github/venv/lib/python3.12/site-packages/pandas/core/indexes/base.py:3812\u001b[0m, in \u001b[0;36mIndex.get_loc\u001b[0;34m(self, key)\u001b[0m\n\u001b[1;32m   3807\u001b[0m     \u001b[38;5;28;01mif\u001b[39;00m \u001b[38;5;28misinstance\u001b[39m(casted_key, \u001b[38;5;28mslice\u001b[39m) \u001b[38;5;129;01mor\u001b[39;00m (\n\u001b[1;32m   3808\u001b[0m         \u001b[38;5;28misinstance\u001b[39m(casted_key, abc\u001b[38;5;241m.\u001b[39mIterable)\n\u001b[1;32m   3809\u001b[0m         \u001b[38;5;129;01mand\u001b[39;00m \u001b[38;5;28many\u001b[39m(\u001b[38;5;28misinstance\u001b[39m(x, \u001b[38;5;28mslice\u001b[39m) \u001b[38;5;28;01mfor\u001b[39;00m x \u001b[38;5;129;01min\u001b[39;00m casted_key)\n\u001b[1;32m   3810\u001b[0m     ):\n\u001b[1;32m   3811\u001b[0m         \u001b[38;5;28;01mraise\u001b[39;00m InvalidIndexError(key)\n\u001b[0;32m-> 3812\u001b[0m     \u001b[38;5;28;01mraise\u001b[39;00m \u001b[38;5;167;01mKeyError\u001b[39;00m(key) \u001b[38;5;28;01mfrom\u001b[39;00m \u001b[38;5;21;01merr\u001b[39;00m\n\u001b[1;32m   3813\u001b[0m \u001b[38;5;28;01mexcept\u001b[39;00m \u001b[38;5;167;01mTypeError\u001b[39;00m:\n\u001b[1;32m   3814\u001b[0m     \u001b[38;5;66;03m# If we have a listlike key, _check_indexing_error will raise\u001b[39;00m\n\u001b[1;32m   3815\u001b[0m     \u001b[38;5;66;03m#  InvalidIndexError. Otherwise we fall through and re-raise\u001b[39;00m\n\u001b[1;32m   3816\u001b[0m     \u001b[38;5;66;03m#  the TypeError.\u001b[39;00m\n\u001b[1;32m   3817\u001b[0m     \u001b[38;5;28mself\u001b[39m\u001b[38;5;241m.\u001b[39m_check_indexing_error(key)\n",
      "\u001b[0;31mKeyError\u001b[0m: 'Ground_Truth_Label'"
     ]
    }
   ],
   "source": [
    "# Berechnung der Metriken\n",
    "accuracy = accuracy_score(df_test_naive_bayes_with_stopwords['features'], df_test_naive_bayes_with_stopwords['Prediction'])\n",
    "precision = precision_score(df_test_naive_bayes_with_stopwords['features'], df_test_naive_bayes_with_stopwords['Prediction'], pos_label='positive')\n",
    "recall = recall_score(df_test_naive_bayes_with_stopwords['features'], df_test_naive_bayes_with_stopwords['Prediction'], pos_label='positive')\n",
    "f1 = f1_score(df_test_naive_bayes_with_stopwords['features'], df_test_naive_bayes_with_stopwords['Prediction'], pos_label='positive')"
   ]
  },
  {
   "cell_type": "code",
   "execution_count": null,
   "metadata": {},
   "outputs": [
    {
     "name": "stdout",
     "output_type": "stream",
     "text": [
      "Accuracy: 0.77\n",
      "Precision: 0.84\n",
      "Recall: 0.65\n",
      "F1 Score: 0.74\n"
     ]
    }
   ],
   "source": [
    "# Ausgabe der Metriken\n",
    "print(f'Accuracy: {accuracy:.2f}')\n",
    "print(f'Precision: {precision:.2f}')\n",
    "print(f'Recall: {recall:.2f}')\n",
    "print(f'F1 Score: {f1:.2f}')"
   ]
  },
  {
   "cell_type": "code",
   "execution_count": null,
   "metadata": {},
   "outputs": [
    {
     "name": "stdout",
     "output_type": "stream",
     "text": [
      "\n",
      "Classification Report:\n",
      "\n",
      "              precision    recall  f1-score   support\n",
      "\n",
      "    negative       0.72      0.88      0.79    160000\n",
      "    positive       0.84      0.65      0.74    160000\n",
      "\n",
      "    accuracy                           0.77    320000\n",
      "   macro avg       0.78      0.77      0.76    320000\n",
      "weighted avg       0.78      0.77      0.76    320000\n",
      "\n"
     ]
    }
   ],
   "source": [
    "# Vollständiger Bericht\n",
    "print(\"\\nClassification Report:\\n\")\n",
    "print(classification_report(df_test_naive_bayes_with_stopwords['features'], df_test_naive_bayes_with_stopwords['Prediction'], target_names=['negative', 'positive']))"
   ]
  },
  {
   "cell_type": "code",
   "execution_count": null,
   "metadata": {},
   "outputs": [
    {
     "data": {
      "image/png": "[encoded data removed]",
      "text/plain": [
       "<Figure size 1000x700 with 1 Axes>"
      ]
     },
     "metadata": {},
     "output_type": "display_data"
    }
   ],
   "source": [
    "cm_nb = confusion_matrix(df_test_naive_bayes_with_stopwords['features'], df_test_naive_bayes_with_stopwords['Prediction'])\n",
    "\n",
    "\n",
    "# Erstellen der Heatmap\n",
    "plt.figure(figsize=(10, 7))\n",
    "sns.heatmap(cm_nb, annot=True, fmt='d', cmap='Blues', cbar=False, annot_kws={\"size\": 14})\n",
    "plt.xlabel('Predicted Labels', fontsize=16)\n",
    "plt.ylabel('True Labels', fontsize=16)\n",
    "plt.title('Confusion Matrix for Naive Bayes Classifier', fontsize=18)\n",
    "plt.xticks(ticks=[0.5, 1.5], labels=['negative', 'positive'], fontsize=14)\n",
    "plt.yticks(ticks=[0.5, 1.5], labels=['negative', 'positive'], fontsize=14, rotation=0)\n",
    "plt.show()"
   ]
  }
 ],
 "metadata": {
  "kernelspec": {
   "display_name": "venv",
   "language": "python",
   "name": "python3"
  },
  "language_info": {
   "codemirror_mode": {
    "name": "ipython",
    "version": 3
   },
   "file_extension": ".py",
   "mimetype": "text/x-python",
   "name": "python",
   "nbconvert_exporter": "python",
   "pygments_lexer": "ipython3",
   "version": "3.12.3"
  }
 },
 "nbformat": 4,
 "nbformat_minor": 2
}
