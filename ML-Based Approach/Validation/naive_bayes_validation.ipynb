{
 "cells": [
  {
   "cell_type": "markdown",
   "metadata": {},
   "source": [
    "# Validating Naive Bayes without stopword cleaning\n",
    "\n",
    "the classifier without stopword cleaning has been proven to be the best on training and testing data which is why it is used for validation"
   ]
  },
  {
   "cell_type": "markdown",
   "metadata": {},
   "source": [
    "importing all necessary libraries"
   ]
  },
  {
   "cell_type": "code",
   "execution_count": 27,
   "metadata": {
    "execution": {
     "iopub.execute_input": "2024-07-01T06:49:40.399379Z",
     "iopub.status.busy": "2024-07-01T06:49:40.398846Z",
     "iopub.status.idle": "2024-07-01T06:49:42.561851Z",
     "shell.execute_reply": "2024-07-01T06:49:42.561557Z"
    }
   },
   "outputs": [],
   "source": [
    "import pandas as pd # for data processing\n",
    "import matplotlib.pyplot as plt # to create stat and visualize data\n",
    "import seaborn as sns # to visualize data\n",
    "import pickle # to export classifiers \n",
    "from sklearn.metrics import * # calculation of metrics for validation purposes \n",
    "from nltk.classify import NaiveBayesClassifier # classifier used in the file        \n",
    "from nltk.tokenize import word_tokenize # tokenizer used in the file"
   ]
  },
  {
   "cell_type": "markdown",
   "metadata": {},
   "source": [
    "setting to show full text content"
   ]
  },
  {
   "cell_type": "code",
   "execution_count": 28,
   "metadata": {
    "execution": {
     "iopub.execute_input": "2024-07-01T06:49:42.563705Z",
     "iopub.status.busy": "2024-07-01T06:49:42.563559Z",
     "iopub.status.idle": "2024-07-01T06:49:42.565845Z",
     "shell.execute_reply": "2024-07-01T06:49:42.565456Z"
    }
   },
   "outputs": [],
   "source": [
    "pd.set_option('display.max_colwidth', None)"
   ]
  },
  {
   "cell_type": "markdown",
   "metadata": {},
   "source": [
    "## importing data and model"
   ]
  },
  {
   "cell_type": "code",
   "execution_count": 29,
   "metadata": {
    "execution": {
     "iopub.execute_input": "2024-07-01T06:49:42.567785Z",
     "iopub.status.busy": "2024-07-01T06:49:42.567665Z",
     "iopub.status.idle": "2024-07-01T06:49:46.443977Z",
     "shell.execute_reply": "2024-07-01T06:49:46.443417Z"
    }
   },
   "outputs": [
    {
     "name": "stdout",
     "output_type": "stream",
     "text": [
      "<nltk.classify.naivebayes.NaiveBayesClassifier object at 0x31f8ef260>\n"
     ]
    }
   ],
   "source": [
    "with open('../Training/naive_bayes/Naive_Bayes_with_stopwords_classifier.pkl', 'rb') as file:\n",
    "    classifier = pickle.load(file)\n",
    "\n",
    "# Check if the classifier is loaded correctly\n",
    "print(classifier)"
   ]
  },
  {
   "cell_type": "code",
   "execution_count": 30,
   "metadata": {
    "execution": {
     "iopub.execute_input": "2024-07-01T06:49:46.465730Z",
     "iopub.status.busy": "2024-07-01T06:49:46.465592Z",
     "iopub.status.idle": "2024-07-01T06:49:46.483001Z",
     "shell.execute_reply": "2024-07-01T06:49:46.482707Z"
    }
   },
   "outputs": [],
   "source": [
    "df_validation_naive_bayes_with_stopwords = pd.read_csv('../../Data-Preparation/twitter-corpus/full_corpus_preprocessed.csv')"
   ]
  },
  {
   "cell_type": "code",
   "execution_count": 31,
   "metadata": {
    "execution": {
     "iopub.execute_input": "2024-07-01T06:49:46.485136Z",
     "iopub.status.busy": "2024-07-01T06:49:46.485001Z",
     "iopub.status.idle": "2024-07-01T06:49:46.491527Z",
     "shell.execute_reply": "2024-07-01T06:49:46.491272Z"
    }
   },
   "outputs": [
    {
     "data": {
      "text/html": [
       "<div>\n",
       "<style scoped>\n",
       "    .dataframe tbody tr th:only-of-type {\n",
       "        vertical-align: middle;\n",
       "    }\n",
       "\n",
       "    .dataframe tbody tr th {\n",
       "        vertical-align: top;\n",
       "    }\n",
       "\n",
       "    .dataframe thead th {\n",
       "        text-align: right;\n",
       "    }\n",
       "</style>\n",
       "<table border=\"1\" class=\"dataframe\">\n",
       "  <thead>\n",
       "    <tr style=\"text-align: right;\">\n",
       "      <th></th>\n",
       "      <th>Ground_Truth_Label</th>\n",
       "      <th>Text</th>\n",
       "      <th>target_number</th>\n",
       "    </tr>\n",
       "  </thead>\n",
       "  <tbody>\n",
       "    <tr>\n",
       "      <th>0</th>\n",
       "      <td>positive</td>\n",
       "      <td>Now all @Apple has to do is get swype on the iphone and it will be crack. Iphone that is</td>\n",
       "      <td>4</td>\n",
       "    </tr>\n",
       "    <tr>\n",
       "      <th>1</th>\n",
       "      <td>positive</td>\n",
       "      <td>@Apple will be adding more carrier support to the iPhone 4S (just announced)</td>\n",
       "      <td>4</td>\n",
       "    </tr>\n",
       "    <tr>\n",
       "      <th>2</th>\n",
       "      <td>positive</td>\n",
       "      <td>Hilarious @youtube video - guy does a duet with @apple 's Siri. Pretty much sums up the love affair! http://t.co/8ExbnQjY</td>\n",
       "      <td>4</td>\n",
       "    </tr>\n",
       "    <tr>\n",
       "      <th>3</th>\n",
       "      <td>positive</td>\n",
       "      <td>@RIM you made it too easy for me to switch to @Apple iPhone. See ya!</td>\n",
       "      <td>4</td>\n",
       "    </tr>\n",
       "    <tr>\n",
       "      <th>4</th>\n",
       "      <td>positive</td>\n",
       "      <td>I just realized that the reason I got into twitter was ios5 thanks @apple</td>\n",
       "      <td>4</td>\n",
       "    </tr>\n",
       "  </tbody>\n",
       "</table>\n",
       "</div>"
      ],
      "text/plain": [
       "  Ground_Truth_Label  \\\n",
       "0           positive   \n",
       "1           positive   \n",
       "2           positive   \n",
       "3           positive   \n",
       "4           positive   \n",
       "\n",
       "                                                                                                                        Text  \\\n",
       "0                                   Now all @Apple has to do is get swype on the iphone and it will be crack. Iphone that is   \n",
       "1                                               @Apple will be adding more carrier support to the iPhone 4S (just announced)   \n",
       "2  Hilarious @youtube video - guy does a duet with @apple 's Siri. Pretty much sums up the love affair! http://t.co/8ExbnQjY   \n",
       "3                                                       @RIM you made it too easy for me to switch to @Apple iPhone. See ya!   \n",
       "4                                                  I just realized that the reason I got into twitter was ios5 thanks @apple   \n",
       "\n",
       "   target_number  \n",
       "0              4  \n",
       "1              4  \n",
       "2              4  \n",
       "3              4  \n",
       "4              4  "
      ]
     },
     "execution_count": 31,
     "metadata": {},
     "output_type": "execute_result"
    }
   ],
   "source": [
    "df_validation_naive_bayes_with_stopwords.head()"
   ]
  },
  {
   "cell_type": "markdown",
   "metadata": {},
   "source": [
    "using one-hot encoding for words present in a sentence"
   ]
  },
  {
   "cell_type": "code",
   "execution_count": 32,
   "metadata": {
    "execution": {
     "iopub.execute_input": "2024-07-01T06:49:46.493406Z",
     "iopub.status.busy": "2024-07-01T06:49:46.493265Z",
     "iopub.status.idle": "2024-07-01T06:49:46.545732Z",
     "shell.execute_reply": "2024-07-01T06:49:46.545436Z"
    }
   },
   "outputs": [],
   "source": [
    "def extract_features(text):\n",
    "    words = word_tokenize(text)\n",
    "    features = {word.lower(): True for word in words if word.isalpha()}\n",
    "    return features\n"
   ]
  },
  {
   "cell_type": "code",
   "execution_count": 33,
   "metadata": {
    "execution": {
     "iopub.execute_input": "2024-07-01T06:49:46.547243Z",
     "iopub.status.busy": "2024-07-01T06:49:46.547159Z",
     "iopub.status.idle": "2024-07-01T06:49:46.608192Z",
     "shell.execute_reply": "2024-07-01T06:49:46.607945Z"
    }
   },
   "outputs": [],
   "source": [
    "df_validation_naive_bayes_with_stopwords['features'] = df_validation_naive_bayes_with_stopwords['Text'].apply(lambda text: extract_features(str(text)))"
   ]
  },
  {
   "cell_type": "code",
   "execution_count": 34,
   "metadata": {
    "execution": {
     "iopub.execute_input": "2024-07-01T06:49:46.609722Z",
     "iopub.status.busy": "2024-07-01T06:49:46.609637Z",
     "iopub.status.idle": "2024-07-01T06:49:46.613621Z",
     "shell.execute_reply": "2024-07-01T06:49:46.613402Z"
    }
   },
   "outputs": [
    {
     "data": {
      "text/html": [
       "<div>\n",
       "<style scoped>\n",
       "    .dataframe tbody tr th:only-of-type {\n",
       "        vertical-align: middle;\n",
       "    }\n",
       "\n",
       "    .dataframe tbody tr th {\n",
       "        vertical-align: top;\n",
       "    }\n",
       "\n",
       "    .dataframe thead th {\n",
       "        text-align: right;\n",
       "    }\n",
       "</style>\n",
       "<table border=\"1\" class=\"dataframe\">\n",
       "  <thead>\n",
       "    <tr style=\"text-align: right;\">\n",
       "      <th></th>\n",
       "      <th>Ground_Truth_Label</th>\n",
       "      <th>Text</th>\n",
       "      <th>target_number</th>\n",
       "      <th>features</th>\n",
       "    </tr>\n",
       "  </thead>\n",
       "  <tbody>\n",
       "    <tr>\n",
       "      <th>0</th>\n",
       "      <td>positive</td>\n",
       "      <td>Now all @Apple has to do is get swype on the iphone and it will be crack. Iphone that is</td>\n",
       "      <td>4</td>\n",
       "      <td>{'now': True, 'all': True, 'apple': True, 'has': True, 'to': True, 'do': True, 'is': True, 'get': True, 'swype': True, 'on': True, 'the': True, 'iphone': True, 'and': True, 'it': True, 'will': True, 'be': True, 'crack': True, 'that': True}</td>\n",
       "    </tr>\n",
       "    <tr>\n",
       "      <th>1</th>\n",
       "      <td>positive</td>\n",
       "      <td>@Apple will be adding more carrier support to the iPhone 4S (just announced)</td>\n",
       "      <td>4</td>\n",
       "      <td>{'apple': True, 'will': True, 'be': True, 'adding': True, 'more': True, 'carrier': True, 'support': True, 'to': True, 'the': True, 'iphone': True, 'just': True, 'announced': True}</td>\n",
       "    </tr>\n",
       "    <tr>\n",
       "      <th>2</th>\n",
       "      <td>positive</td>\n",
       "      <td>Hilarious @youtube video - guy does a duet with @apple 's Siri. Pretty much sums up the love affair! http://t.co/8ExbnQjY</td>\n",
       "      <td>4</td>\n",
       "      <td>{'hilarious': True, 'youtube': True, 'video': True, 'guy': True, 'does': True, 'a': True, 'duet': True, 'with': True, 'apple': True, 'siri': True, 'pretty': True, 'much': True, 'sums': True, 'up': True, 'the': True, 'love': True, 'affair': True, 'http': True}</td>\n",
       "    </tr>\n",
       "    <tr>\n",
       "      <th>3</th>\n",
       "      <td>positive</td>\n",
       "      <td>@RIM you made it too easy for me to switch to @Apple iPhone. See ya!</td>\n",
       "      <td>4</td>\n",
       "      <td>{'rim': True, 'you': True, 'made': True, 'it': True, 'too': True, 'easy': True, 'for': True, 'me': True, 'to': True, 'switch': True, 'apple': True, 'iphone': True, 'see': True, 'ya': True}</td>\n",
       "    </tr>\n",
       "    <tr>\n",
       "      <th>4</th>\n",
       "      <td>positive</td>\n",
       "      <td>I just realized that the reason I got into twitter was ios5 thanks @apple</td>\n",
       "      <td>4</td>\n",
       "      <td>{'i': True, 'just': True, 'realized': True, 'that': True, 'the': True, 'reason': True, 'got': True, 'into': True, 'twitter': True, 'was': True, 'thanks': True, 'apple': True}</td>\n",
       "    </tr>\n",
       "  </tbody>\n",
       "</table>\n",
       "</div>"
      ],
      "text/plain": [
       "  Ground_Truth_Label  \\\n",
       "0           positive   \n",
       "1           positive   \n",
       "2           positive   \n",
       "3           positive   \n",
       "4           positive   \n",
       "\n",
       "                                                                                                                        Text  \\\n",
       "0                                   Now all @Apple has to do is get swype on the iphone and it will be crack. Iphone that is   \n",
       "1                                               @Apple will be adding more carrier support to the iPhone 4S (just announced)   \n",
       "2  Hilarious @youtube video - guy does a duet with @apple 's Siri. Pretty much sums up the love affair! http://t.co/8ExbnQjY   \n",
       "3                                                       @RIM you made it too easy for me to switch to @Apple iPhone. See ya!   \n",
       "4                                                  I just realized that the reason I got into twitter was ios5 thanks @apple   \n",
       "\n",
       "   target_number  \\\n",
       "0              4   \n",
       "1              4   \n",
       "2              4   \n",
       "3              4   \n",
       "4              4   \n",
       "\n",
       "                                                                                                                                                                                                                                                              features  \n",
       "0                      {'now': True, 'all': True, 'apple': True, 'has': True, 'to': True, 'do': True, 'is': True, 'get': True, 'swype': True, 'on': True, 'the': True, 'iphone': True, 'and': True, 'it': True, 'will': True, 'be': True, 'crack': True, 'that': True}  \n",
       "1                                                                                  {'apple': True, 'will': True, 'be': True, 'adding': True, 'more': True, 'carrier': True, 'support': True, 'to': True, 'the': True, 'iphone': True, 'just': True, 'announced': True}  \n",
       "2  {'hilarious': True, 'youtube': True, 'video': True, 'guy': True, 'does': True, 'a': True, 'duet': True, 'with': True, 'apple': True, 'siri': True, 'pretty': True, 'much': True, 'sums': True, 'up': True, 'the': True, 'love': True, 'affair': True, 'http': True}  \n",
       "3                                                                         {'rim': True, 'you': True, 'made': True, 'it': True, 'too': True, 'easy': True, 'for': True, 'me': True, 'to': True, 'switch': True, 'apple': True, 'iphone': True, 'see': True, 'ya': True}  \n",
       "4                                                                                       {'i': True, 'just': True, 'realized': True, 'that': True, 'the': True, 'reason': True, 'got': True, 'into': True, 'twitter': True, 'was': True, 'thanks': True, 'apple': True}  "
      ]
     },
     "execution_count": 34,
     "metadata": {},
     "output_type": "execute_result"
    }
   ],
   "source": [
    "df_validation_naive_bayes_with_stopwords.head()"
   ]
  },
  {
   "cell_type": "markdown",
   "metadata": {},
   "source": [
    "adding column for prediction of the classifier for the test data"
   ]
  },
  {
   "cell_type": "code",
   "execution_count": 35,
   "metadata": {
    "execution": {
     "iopub.execute_input": "2024-07-01T06:49:46.614963Z",
     "iopub.status.busy": "2024-07-01T06:49:46.614891Z",
     "iopub.status.idle": "2024-07-01T06:49:46.639905Z",
     "shell.execute_reply": "2024-07-01T06:49:46.639558Z"
    }
   },
   "outputs": [],
   "source": [
    "\n",
    "df_validation_naive_bayes_with_stopwords['Prediction'] = df_validation_naive_bayes_with_stopwords['features'].apply(classifier.classify)"
   ]
  },
  {
   "cell_type": "markdown",
   "metadata": {},
   "source": [
    "## Testing quality of the classifier on validation data"
   ]
  },
  {
   "cell_type": "markdown",
   "metadata": {},
   "source": [
    "calculating metrics to quanitfy the quality of the model"
   ]
  },
  {
   "cell_type": "code",
   "execution_count": 36,
   "metadata": {
    "execution": {
     "iopub.execute_input": "2024-07-01T06:49:46.641537Z",
     "iopub.status.busy": "2024-07-01T06:49:46.641439Z",
     "iopub.status.idle": "2024-07-01T06:49:46.660174Z",
     "shell.execute_reply": "2024-07-01T06:49:46.659891Z"
    }
   },
   "outputs": [],
   "source": [
    "accuracy = accuracy_score(df_validation_naive_bayes_with_stopwords['Ground_Truth_Label'], df_validation_naive_bayes_with_stopwords['Prediction'])\n",
    "precision = precision_score(df_validation_naive_bayes_with_stopwords['Ground_Truth_Label'], df_validation_naive_bayes_with_stopwords['Prediction'], pos_label='positive')\n",
    "recall = recall_score(df_validation_naive_bayes_with_stopwords['Ground_Truth_Label'], df_validation_naive_bayes_with_stopwords['Prediction'], pos_label='positive')\n",
    "f1 = f1_score(df_validation_naive_bayes_with_stopwords['Ground_Truth_Label'], df_validation_naive_bayes_with_stopwords['Prediction'], pos_label='positive')\n",
    "\n",
    "beta = 1 / (2**0.5)\n",
    "f_beta = fbeta_score(df_validation_naive_bayes_with_stopwords['Ground_Truth_Label'], df_validation_naive_bayes_with_stopwords['Prediction'],beta=beta, pos_label='positive')\n"
   ]
  },
  {
   "cell_type": "code",
   "execution_count": 37,
   "metadata": {
    "execution": {
     "iopub.execute_input": "2024-07-01T06:49:46.661649Z",
     "iopub.status.busy": "2024-07-01T06:49:46.661569Z",
     "iopub.status.idle": "2024-07-01T06:49:46.663570Z",
     "shell.execute_reply": "2024-07-01T06:49:46.663353Z"
    }
   },
   "outputs": [
    {
     "name": "stdout",
     "output_type": "stream",
     "text": [
      "Accuracy: 0.72\n",
      "Precision: 0.76\n",
      "Recall: 0.64\n",
      "F1 Score: 0.69\n",
      "F-beta Score (beta=0.7071067811865475): 0.7130620985010707\n"
     ]
    }
   ],
   "source": [
    "print(f'Accuracy: {accuracy:.2f}')\n",
    "print(f'Precision: {precision:.2f}')\n",
    "print(f'Recall: {recall:.2f}')\n",
    "print(f'F1 Score: {f1:.2f}')\n",
    "print(f\"F-beta Score (beta={beta}): {f_beta}\")"
   ]
  },
  {
   "cell_type": "code",
   "execution_count": 38,
   "metadata": {
    "execution": {
     "iopub.execute_input": "2024-07-01T06:49:46.664944Z",
     "iopub.status.busy": "2024-07-01T06:49:46.664860Z",
     "iopub.status.idle": "2024-07-01T06:49:46.680989Z",
     "shell.execute_reply": "2024-07-01T06:49:46.680736Z"
    }
   },
   "outputs": [
    {
     "name": "stdout",
     "output_type": "stream",
     "text": [
      "\n",
      "Classification Report:\n",
      "\n",
      "              precision    recall  f1-score   support\n",
      "\n",
      "    negative       0.69      0.79      0.74       519\n",
      "    positive       0.76      0.64      0.69       519\n",
      "\n",
      "    accuracy                           0.72      1038\n",
      "   macro avg       0.72      0.72      0.72      1038\n",
      "weighted avg       0.72      0.72      0.72      1038\n",
      "\n"
     ]
    }
   ],
   "source": [
    "print(\"\\nClassification Report:\\n\")\n",
    "print(classification_report(df_validation_naive_bayes_with_stopwords['Ground_Truth_Label'], df_validation_naive_bayes_with_stopwords['Prediction'], target_names=['negative', 'positive']))"
   ]
  },
  {
   "cell_type": "markdown",
   "metadata": {},
   "source": [
    "creating heatmap to visualize false positives and false negatives"
   ]
  },
  {
   "cell_type": "code",
   "execution_count": 39,
   "metadata": {
    "execution": {
     "iopub.execute_input": "2024-07-01T06:49:46.682440Z",
     "iopub.status.busy": "2024-07-01T06:49:46.682354Z",
     "iopub.status.idle": "2024-07-01T06:49:46.763168Z",
     "shell.execute_reply": "2024-07-01T06:49:46.762919Z"
    }
   },
   "outputs": [
    {
     "data": {
      "image/png": "[encoded data removed]",
      "text/plain": [
       "<Figure size 1000x700 with 1 Axes>"
      ]
     },
     "metadata": {},
     "output_type": "display_data"
    }
   ],
   "source": [
    "cm_nb = confusion_matrix(df_validation_naive_bayes_with_stopwords['Ground_Truth_Label'], df_validation_naive_bayes_with_stopwords['Prediction'])\n",
    "plt.figure(figsize=(10, 7))\n",
    "sns.heatmap(cm_nb, annot=True, fmt='d', cmap='Blues', cbar=False, annot_kws={\"size\": 14})\n",
    "plt.xlabel('Predicted Labels', fontsize=16)\n",
    "plt.ylabel('True Labels', fontsize=16)\n",
    "plt.title('Confusion Matrix for Naive Bayes Classifier', fontsize=18)\n",
    "plt.xticks(ticks=[0.5, 1.5], labels=['negative', 'positive'], fontsize=14)\n",
    "plt.yticks(ticks=[0.5, 1.5], labels=['negative', 'positive'], fontsize=14, rotation=0)\n",
    "plt.show()"
   ]
  }
 ],
 "metadata": {
  "kernelspec": {
   "display_name": "venv",
   "language": "python",
   "name": "python3"
  },
  "language_info": {
   "codemirror_mode": {
    "name": "ipython",
    "version": 3
   },
   "file_extension": ".py",
   "mimetype": "text/x-python",
   "name": "python",
   "nbconvert_exporter": "python",
   "pygments_lexer": "ipython3",
   "version": "3.12.4"
  }
 },
 "nbformat": 4,
 "nbformat_minor": 2
}
