{
 "cells": [
  {
   "cell_type": "code",
   "execution_count": 1,
   "metadata": {},
   "outputs": [],
   "source": [
    "import numpy as np # for array, linear algebra\n",
    "import pandas as pd # for data processing\n",
    "import matplotlib as mpl  # to visualize data\n",
    "import matplotlib.pyplot as plt # to crreate stat and visualize data\n",
    "import matplotlib.colors as mcolors # to visualize colors\n",
    "import seaborn as sns # to visualize data\n",
    "from sklearn.feature_extraction.text import TfidfVectorizer # to transfrom the text into numbers\n",
    "from sklearn.metrics import * # to calculate the metrics\n",
    "import pickle # to export the model for testing\n",
    "\n",
    "pd.set_option('display.max_colwidth', None)\n"
   ]
  },
  {
   "cell_type": "code",
   "execution_count": 10,
   "metadata": {},
   "outputs": [
    {
     "name": "stdout",
     "output_type": "stream",
     "text": [
      "LGBMClassifier(num_leaves=300)\n",
      "TfidfVectorizer()\n"
     ]
    }
   ],
   "source": [
    "# Load the classifier from the file\n",
    "with open('../../../../../Training/LGBM/lgbm_model_with_stopwords.pkl', 'rb') as file:\n",
    "    classifier = pickle.load(file)\n",
    "\n",
    "# Check if the classifier is loaded correctly\n",
    "print(classifier)\n",
    "\n",
    "# load the vectorizer from file\n",
    "with open('../../../../../Data-Preparation/sentiment140/tfidf_vectorizer.pkl', 'rb') as f:\n",
    "    loaded_vectorizer = pickle.load(f)\n",
    "print(loaded_vectorizer)"
   ]
  },
  {
   "cell_type": "code",
   "execution_count": 7,
   "metadata": {},
   "outputs": [],
   "source": [
    "df_test_lgbm_with_stopwords = pd.read_csv('../../../../../Data-Preparation/Twitter-Corpus/full_corpus_preprocessed.csv')"
   ]
  },
  {
   "cell_type": "code",
   "execution_count": 11,
   "metadata": {},
   "outputs": [],
   "source": [
    "# astype(str) is necesarry \n",
    "X = loaded_vectorizer.transform(df_test_lgbm_with_stopwords['Text'].astype(str))"
   ]
  },
  {
   "cell_type": "code",
   "execution_count": 12,
   "metadata": {},
   "outputs": [
    {
     "data": {
      "text/html": [
       "<div>\n",
       "<style scoped>\n",
       "    .dataframe tbody tr th:only-of-type {\n",
       "        vertical-align: middle;\n",
       "    }\n",
       "\n",
       "    .dataframe tbody tr th {\n",
       "        vertical-align: top;\n",
       "    }\n",
       "\n",
       "    .dataframe thead th {\n",
       "        text-align: right;\n",
       "    }\n",
       "</style>\n",
       "<table border=\"1\" class=\"dataframe\">\n",
       "  <thead>\n",
       "    <tr style=\"text-align: right;\">\n",
       "      <th></th>\n",
       "      <th>target</th>\n",
       "      <th>Text</th>\n",
       "      <th>target_number</th>\n",
       "      <th>Prediction</th>\n",
       "    </tr>\n",
       "  </thead>\n",
       "  <tbody>\n",
       "    <tr>\n",
       "      <th>0</th>\n",
       "      <td>positive</td>\n",
       "      <td>Now all @Apple has to do is get swype on the iphone and it will be crack. Iphone that is</td>\n",
       "      <td>4</td>\n",
       "      <td>0</td>\n",
       "    </tr>\n",
       "    <tr>\n",
       "      <th>1</th>\n",
       "      <td>positive</td>\n",
       "      <td>@Apple will be adding more carrier support to the iPhone 4S (just announced)</td>\n",
       "      <td>4</td>\n",
       "      <td>4</td>\n",
       "    </tr>\n",
       "    <tr>\n",
       "      <th>2</th>\n",
       "      <td>positive</td>\n",
       "      <td>Hilarious @youtube video - guy does a duet with @apple 's Siri. Pretty much sums up the love affair! http://t.co/8ExbnQjY</td>\n",
       "      <td>4</td>\n",
       "      <td>4</td>\n",
       "    </tr>\n",
       "    <tr>\n",
       "      <th>3</th>\n",
       "      <td>positive</td>\n",
       "      <td>@RIM you made it too easy for me to switch to @Apple iPhone. See ya!</td>\n",
       "      <td>4</td>\n",
       "      <td>4</td>\n",
       "    </tr>\n",
       "    <tr>\n",
       "      <th>4</th>\n",
       "      <td>positive</td>\n",
       "      <td>I just realized that the reason I got into twitter was ios5 thanks @apple</td>\n",
       "      <td>4</td>\n",
       "      <td>4</td>\n",
       "    </tr>\n",
       "  </tbody>\n",
       "</table>\n",
       "</div>"
      ],
      "text/plain": [
       "     target  \\\n",
       "0  positive   \n",
       "1  positive   \n",
       "2  positive   \n",
       "3  positive   \n",
       "4  positive   \n",
       "\n",
       "                                                                                                                        Text  \\\n",
       "0                                   Now all @Apple has to do is get swype on the iphone and it will be crack. Iphone that is   \n",
       "1                                               @Apple will be adding more carrier support to the iPhone 4S (just announced)   \n",
       "2  Hilarious @youtube video - guy does a duet with @apple 's Siri. Pretty much sums up the love affair! http://t.co/8ExbnQjY   \n",
       "3                                                       @RIM you made it too easy for me to switch to @Apple iPhone. See ya!   \n",
       "4                                                  I just realized that the reason I got into twitter was ios5 thanks @apple   \n",
       "\n",
       "   target_number  Prediction  \n",
       "0              4           0  \n",
       "1              4           4  \n",
       "2              4           4  \n",
       "3              4           4  \n",
       "4              4           4  "
      ]
     },
     "execution_count": 12,
     "metadata": {},
     "output_type": "execute_result"
    }
   ],
   "source": [
    "# predict the sentiment\n",
    "df_test_lgbm_with_stopwords['Prediction'] = classifier.predict(X)\n",
    "df_test_lgbm_with_stopwords.head()"
   ]
  },
  {
   "cell_type": "code",
   "execution_count": 17,
   "metadata": {},
   "outputs": [
    {
     "name": "stdout",
     "output_type": "stream",
     "text": [
      "LGBM\n",
      "Accuracy: 0.74\n",
      "Precision: 0.70\n",
      "Recall: 0.85\n",
      "F1 Score: 0.76\n",
      "\n"
     ]
    }
   ],
   "source": [
    "# calculate metrics\n",
    "accuracy = accuracy_score(df_test_lgbm_with_stopwords['target_number'], df_test_lgbm_with_stopwords['Prediction'])\n",
    "precision = precision_score(df_test_lgbm_with_stopwords['target_number'], df_test_lgbm_with_stopwords['Prediction'], pos_label=4)\n",
    "recall = recall_score(df_test_lgbm_with_stopwords['target_number'], df_test_lgbm_with_stopwords['Prediction'], pos_label=4)\n",
    "f1 = f1_score(df_test_lgbm_with_stopwords['target_number'], df_test_lgbm_with_stopwords['Prediction'], pos_label=4)\n",
    "\n",
    "# visualize metrics\n",
    "print('LGBM')\n",
    "print(f'Accuracy: {accuracy:.2f}')\n",
    "print(f'Precision: {precision:.2f}')\n",
    "print(f'Recall: {recall:.2f}')\n",
    "print(f'F1 Score: {f1:.2f}')\n",
    "print()\n"
   ]
  },
  {
   "cell_type": "code",
   "execution_count": 15,
   "metadata": {},
   "outputs": [
    {
     "data": {
      "image/png": "[encoded data removed]",
      "text/plain": [
       "<Figure size 1000x700 with 1 Axes>"
      ]
     },
     "metadata": {},
     "output_type": "display_data"
    }
   ],
   "source": [
    "cm_nb = confusion_matrix(df_test_lgbm_with_stopwords['target_number'], df_test_lgbm_with_stopwords['Prediction'])\n",
    "\n",
    "\n",
    "# creation of the Heatmap\n",
    "plt.figure(figsize=(10, 7))\n",
    "sns.heatmap(cm_nb, annot=True, fmt='d', cmap='Blues', cbar=False, annot_kws={\"size\": 14})\n",
    "plt.xlabel('Predicted Labels', fontsize=16)\n",
    "plt.ylabel('True Labels', fontsize=16)\n",
    "plt.title('Confusion Matrix for LGBM Classifier on Testdata', fontsize=18)\n",
    "plt.xticks(ticks=[0.5, 1.5], labels=['negative', 'positive'], fontsize=14)\n",
    "plt.yticks(ticks=[0.5, 1.5], labels=['negative', 'positive'], fontsize=14, rotation=0)\n",
    "plt.show()"
   ]
  }
 ],
 "metadata": {
  "kernelspec": {
   "display_name": "venv",
   "language": "python",
   "name": "python3"
  },
  "language_info": {
   "codemirror_mode": {
    "name": "ipython",
    "version": 3
   },
   "file_extension": ".py",
   "mimetype": "text/x-python",
   "name": "python",
   "nbconvert_exporter": "python",
   "pygments_lexer": "ipython3",
   "version": "3.12.3"
  }
 },
 "nbformat": 4,
 "nbformat_minor": 2
}
